{
  "cells": [
    {
      "cell_type": "markdown",
      "metadata": {
        "id": "view-in-github",
        "colab_type": "text"
      },
      "source": [
        "<a href=\"https://colab.research.google.com/github/WiMoxx/smki_testing/blob/main/SMKI_prediction_tests.ipynb\" target=\"_parent\"><img src=\"https://colab.research.google.com/assets/colab-badge.svg\" alt=\"Open In Colab\"/></a>"
      ]
    },
    {
      "cell_type": "code",
      "source": [
        "from google.colab import drive\n",
        "drive.mount('/content/drive')"
      ],
      "metadata": {
        "colab": {
          "base_uri": "https://localhost:8080/"
        },
        "id": "oOZz9ld2MbAX",
        "outputId": "a007731d-aece-4299-bf27-f1a252a39495"
      },
      "execution_count": null,
      "outputs": [
        {
          "output_type": "stream",
          "name": "stdout",
          "text": [
            "Mounted at /content/drive\n"
          ]
        }
      ]
    },
    {
      "cell_type": "code",
      "source": [
        "!pip install kora -q\n",
        "import kora.install.rdkit"
      ],
      "metadata": {
        "colab": {
          "base_uri": "https://localhost:8080/"
        },
        "id": "-BM6iiIiG8bz",
        "outputId": "4a49dca2-696f-4c0c-92aa-09d448997c5d"
      },
      "execution_count": null,
      "outputs": [
        {
          "output_type": "stream",
          "name": "stdout",
          "text": [
            "\u001b[?25l\r\u001b[K     |█████▊                          | 10 kB 29.6 MB/s eta 0:00:01\r\u001b[K     |███████████▍                    | 20 kB 19.9 MB/s eta 0:00:01\r\u001b[K     |█████████████████               | 30 kB 15.6 MB/s eta 0:00:01\r\u001b[K     |██████████████████████▊         | 40 kB 10.9 MB/s eta 0:00:01\r\u001b[K     |████████████████████████████▍   | 51 kB 7.6 MB/s eta 0:00:01\r\u001b[K     |████████████████████████████████| 57 kB 3.8 MB/s \n",
            "\u001b[?25h"
          ]
        }
      ]
    },
    {
      "cell_type": "code",
      "execution_count": null,
      "metadata": {
        "id": "M4ppb0R7c_Fm"
      },
      "outputs": [],
      "source": [
        "import pandas as pd \n",
        "import numpy as np\n",
        "from rdkit.Chem.Draw import IPythonConsole\n",
        "from rdkit.Chem import AllChem as Chem\n",
        "from sklearn.model_selection import train_test_split\n",
        "from sklearn.metrics import roc_auc_score\n",
        "from sklearn.ensemble import RandomForestClassifier\n",
        "from rdkit.Chem.Lipinski import * \n",
        "from rdkit.Chem.rdMolDescriptors import CalcExactMolWt, CalcTPSA\n",
        "from rdkit.Chem.Crippen import MolLogP, MolMR\n",
        "from sklearn.preprocessing import MinMaxScaler\n",
        "import seaborn as  sns\n",
        "#import cv2\n",
        "from matplotlib import pyplot as plt\n",
        "#import svgutils\n",
        "%matplotlib inline\n",
        "%run \"/content/drive/MyDrive/02 Chemieinformatik/Woche 05/utils/utils.py\" #lädt vorgeschriebene Funktionen"
      ]
    },
    {
      "cell_type": "markdown",
      "source": [
        "# Main workflow\n",
        "###### Stripping data frame of unncescessary columns then creating EGFR df that has additional activity column 0 or 1 for targeting or not targeting EGFR. Afterwardds Kinase_name column will be removed. Then clustering will be visulaized with fingerprints or mol descriptors. Then pytorch algorithm and random forest on the fingerprint df."
      ],
      "metadata": {
        "id": "grydSKX-pUP8"
      }
    },
    {
      "cell_type": "code",
      "execution_count": null,
      "metadata": {
        "id": "bw2oxE6Cc_Fr",
        "colab": {
          "base_uri": "https://localhost:8080/"
        },
        "outputId": "e2e99a70-3820-45d5-92aa-8bd68aab60db"
      },
      "outputs": [
        {
          "output_type": "stream",
          "name": "stdout",
          "text": [
            "Type: <class 'pandas.core.frame.DataFrame'>\n",
            "Shape: (127010, 12)\n",
            "                                           smiles kinase_name  activity\n",
            "0  CCCC(=O)Nc1n[nH]c2ncc(B3OC(C)(C)C(C)(C)O3)cc12       GSK3A         0\n",
            "1  CCCC(=O)Nc1n[nH]c2ncc(B3OC(C)(C)C(C)(C)O3)cc12       GSK3B         0\n",
            "2            Cc1c(Oc2ccc(C(C)N)cc2F)ccc2c1B(O)OC2        PKCa         0\n",
            "3            Cc1c(Oc2ccc(C(C)N)cc2F)ccc2c1B(O)OC2       PKACa         0\n",
            "4            Cc1c(Oc2ccc(C(C)N)cc2F)ccc2c1B(O)OC2       BARK1         0\n",
            "(127010, 3)\n",
            "Number of studied kinases:\n",
            "421\n"
          ]
        },
        {
          "output_type": "stream",
          "name": "stderr",
          "text": [
            "/usr/local/lib/python3.7/dist-packages/IPython/core/interactiveshell.py:2882: DtypeWarning: Columns (0,11) have mixed types.Specify dtype option on import or set low_memory=False.\n",
            "  exec(code_obj, self.user_global_ns, self.user_ns)\n"
          ]
        },
        {
          "output_type": "execute_result",
          "data": {
            "text/plain": [
              "(127009, 2)"
            ]
          },
          "metadata": {},
          "execution_count": 8
        }
      ],
      "source": [
        "rep_smki = pd.read_csv(\"/content/drive/MyDrive/01 master thesis/Representative_kinases/Rep_kinases_dataset.csv\", sep='\\t', lineterminator='\\r')\n",
        "\n",
        "\n",
        "\n",
        "print(\"Type:\", type(rep_smki))\n",
        "print(\"Shape:\",rep_smki.shape)\n",
        "rep_smki.head()\n",
        "\n",
        "# rename coluns, beacuse unnamed column throws error\n",
        "rep_smki.columns = [\"weird_index\", \"cpd_id\",\"smiles\", \"p_standard_type\", \"p_value\", \"full_name\",\"kinase_name\", \"kinase_family\", \"kinase_group\", \"uniProt_ID\", \"source\", \"pains_bool\"]\n",
        "\n",
        "# removing uncecessary columns\n",
        "rep_smki = rep_smki.drop([\"weird_index\", \"cpd_id\", \"p_standard_type\", \"p_value\", \"full_name\", \"kinase_family\", \"kinase_group\", \"uniProt_ID\", \"source\", \"pains_bool\"], axis = 1)\n",
        "\n",
        "# selecting columns with EGFR as kinase_name annd adding column with value 1\n",
        "my_list=[\"EGFR\"]\n",
        "rep_smki['activity'] = np.where(rep_smki.kinase_name.isin(my_list), 1, 0)\n",
        "\n",
        "# remove column kinase_family\n",
        "egfr = rep_smki.drop([\"kinase_name\"], axis = 1)\n",
        "\n",
        "# drop nan\n",
        "egfr = egfr.dropna()\n",
        "\n",
        "\n",
        "print(rep_smki.head())\n",
        "print(rep_smki.shape)\n",
        "\n",
        "print(\"Number of studied kinases:\")\n",
        "print(len(pd.unique(rep_smki['kinase_name'])))\n",
        "egfr.shape\n"
      ]
    },
    {
      "cell_type": "markdown",
      "source": [
        "## Mol descriptors\n",
        "#### Folllowing the workflow of the sklearn description for random forest and SVM"
      ],
      "metadata": {
        "id": "IPSw6O4vT1b-"
      }
    },
    {
      "cell_type": "code",
      "source": [
        "np.sum(egfr.activity)"
      ],
      "metadata": {
        "id": "NUntgk_MLAhN",
        "colab": {
          "base_uri": "https://localhost:8080/"
        },
        "outputId": "9405202b-7a00-4892-b241-abe75929242a"
      },
      "execution_count": null,
      "outputs": [
        {
          "output_type": "execute_result",
          "data": {
            "text/plain": [
              "3608"
            ]
          },
          "metadata": {},
          "execution_count": 5
        }
      ]
    },
    {
      "cell_type": "code",
      "source": [
        "# Wir konvertieren all Smiles zu mols\n",
        "mols = np.array([Chem.MolFromSmiles(x) for x in egfr.smiles ]) # Welche Smiles müssen ausgewählt werden\n",
        "\n",
        "# 1) N hydrogen bond donors\n",
        "num_hb_donors = [NumHDonors(x) for x in mols ] #durch welche Variable loopen wir durch\n",
        "\n",
        "# 2) Hydrogen bond acceptors\n",
        "num_hb_acceptors = [NumHAcceptors(x) for x in mols] #durch welche Variable loopen wir durch\n",
        "\n",
        "# 3) Number of rotable bonds \n",
        "num_rotablebonds = [NumRotatableBonds(x) for x in mols]\n",
        "\n",
        "# 4) Molecular Mass: CalcExactMolWt()\n",
        "mw = [ CalcExactMolWt(x) for x in mols]  # Berechnen Sie die das Geicht mit CalcExactMolWt()\n",
        "\n",
        "# 5) log P: MolLogP()\n",
        "logP = [MolLogP(x) for x in mols] #Berechnen Sie den logP mit MolLogP()\n",
        "\n",
        "# 6) Molar refractivity \n",
        "mr = [MolMR(x) for x in mols]\n",
        "\n",
        "# 7) Polar Surface\n",
        "tpsa = [CalcTPSA(x) for x in mols]\n",
        "\n",
        "aux_data=pd.DataFrame({\n",
        "    \"hb_donors\": num_hb_donors,\n",
        "    \"hb_acceptors\": num_hb_acceptors,\n",
        "    \"rotable_bonds\": num_rotablebonds,\n",
        "    \"mw\": mw,\n",
        "    \"logP\": logP,\n",
        "    \"mr\":mr,\n",
        "    \"tpsa\":tpsa\n",
        "    })\n",
        "\n",
        "aux_data[\"activity\"] = egfr.activity # Wir fügen noch die activity hinzu\n",
        "aux_data\n"
      ],
      "metadata": {
        "colab": {
          "base_uri": "https://localhost:8080/",
          "height": 424
        },
        "id": "2khOJOtoUYVt",
        "outputId": "705ea410-22f8-4cf4-e44f-3cc809e8fa46"
      },
      "execution_count": null,
      "outputs": [
        {
          "output_type": "execute_result",
          "data": {
            "text/plain": [
              "        hb_donors  hb_acceptors  rotable_bonds          mw     logP       mr  \\\n",
              "0               2             5              4  330.186321  1.99570  93.1424   \n",
              "1               2             5              4  330.186321  1.99570  93.1424   \n",
              "2               2             4              3  301.128552  2.16382  82.6512   \n",
              "3               2             4              3  301.128552  2.16382  82.6512   \n",
              "4               2             4              3  301.128552  2.16382  82.6512   \n",
              "...           ...           ...            ...         ...      ...      ...   \n",
              "127004          2             7              0  218.037465  0.79890  59.3358   \n",
              "127005          2             7              0  218.037465  0.79890  59.3358   \n",
              "127006          2             7              0  218.037465  0.79890  59.3358   \n",
              "127007          2             7              0  218.037465  0.79890  59.3358   \n",
              "127008          2             7              0  218.037465  0.79890  59.3358   \n",
              "\n",
              "          tpsa  activity  \n",
              "0        89.13         0  \n",
              "1        89.13         0  \n",
              "2        64.71         0  \n",
              "3        64.71         0  \n",
              "4        64.71         0  \n",
              "...        ...       ...  \n",
              "127004  103.60         0  \n",
              "127005  103.60         0  \n",
              "127006  103.60         0  \n",
              "127007  103.60         0  \n",
              "127008  103.60         0  \n",
              "\n",
              "[127009 rows x 8 columns]"
            ],
            "text/html": [
              "\n",
              "  <div id=\"df-a8a68f39-726c-4254-a605-f92ae2297941\">\n",
              "    <div class=\"colab-df-container\">\n",
              "      <div>\n",
              "<style scoped>\n",
              "    .dataframe tbody tr th:only-of-type {\n",
              "        vertical-align: middle;\n",
              "    }\n",
              "\n",
              "    .dataframe tbody tr th {\n",
              "        vertical-align: top;\n",
              "    }\n",
              "\n",
              "    .dataframe thead th {\n",
              "        text-align: right;\n",
              "    }\n",
              "</style>\n",
              "<table border=\"1\" class=\"dataframe\">\n",
              "  <thead>\n",
              "    <tr style=\"text-align: right;\">\n",
              "      <th></th>\n",
              "      <th>hb_donors</th>\n",
              "      <th>hb_acceptors</th>\n",
              "      <th>rotable_bonds</th>\n",
              "      <th>mw</th>\n",
              "      <th>logP</th>\n",
              "      <th>mr</th>\n",
              "      <th>tpsa</th>\n",
              "      <th>activity</th>\n",
              "    </tr>\n",
              "  </thead>\n",
              "  <tbody>\n",
              "    <tr>\n",
              "      <th>0</th>\n",
              "      <td>2</td>\n",
              "      <td>5</td>\n",
              "      <td>4</td>\n",
              "      <td>330.186321</td>\n",
              "      <td>1.99570</td>\n",
              "      <td>93.1424</td>\n",
              "      <td>89.13</td>\n",
              "      <td>0</td>\n",
              "    </tr>\n",
              "    <tr>\n",
              "      <th>1</th>\n",
              "      <td>2</td>\n",
              "      <td>5</td>\n",
              "      <td>4</td>\n",
              "      <td>330.186321</td>\n",
              "      <td>1.99570</td>\n",
              "      <td>93.1424</td>\n",
              "      <td>89.13</td>\n",
              "      <td>0</td>\n",
              "    </tr>\n",
              "    <tr>\n",
              "      <th>2</th>\n",
              "      <td>2</td>\n",
              "      <td>4</td>\n",
              "      <td>3</td>\n",
              "      <td>301.128552</td>\n",
              "      <td>2.16382</td>\n",
              "      <td>82.6512</td>\n",
              "      <td>64.71</td>\n",
              "      <td>0</td>\n",
              "    </tr>\n",
              "    <tr>\n",
              "      <th>3</th>\n",
              "      <td>2</td>\n",
              "      <td>4</td>\n",
              "      <td>3</td>\n",
              "      <td>301.128552</td>\n",
              "      <td>2.16382</td>\n",
              "      <td>82.6512</td>\n",
              "      <td>64.71</td>\n",
              "      <td>0</td>\n",
              "    </tr>\n",
              "    <tr>\n",
              "      <th>4</th>\n",
              "      <td>2</td>\n",
              "      <td>4</td>\n",
              "      <td>3</td>\n",
              "      <td>301.128552</td>\n",
              "      <td>2.16382</td>\n",
              "      <td>82.6512</td>\n",
              "      <td>64.71</td>\n",
              "      <td>0</td>\n",
              "    </tr>\n",
              "    <tr>\n",
              "      <th>...</th>\n",
              "      <td>...</td>\n",
              "      <td>...</td>\n",
              "      <td>...</td>\n",
              "      <td>...</td>\n",
              "      <td>...</td>\n",
              "      <td>...</td>\n",
              "      <td>...</td>\n",
              "      <td>...</td>\n",
              "    </tr>\n",
              "    <tr>\n",
              "      <th>127004</th>\n",
              "      <td>2</td>\n",
              "      <td>7</td>\n",
              "      <td>0</td>\n",
              "      <td>218.037465</td>\n",
              "      <td>0.79890</td>\n",
              "      <td>59.3358</td>\n",
              "      <td>103.60</td>\n",
              "      <td>0</td>\n",
              "    </tr>\n",
              "    <tr>\n",
              "      <th>127005</th>\n",
              "      <td>2</td>\n",
              "      <td>7</td>\n",
              "      <td>0</td>\n",
              "      <td>218.037465</td>\n",
              "      <td>0.79890</td>\n",
              "      <td>59.3358</td>\n",
              "      <td>103.60</td>\n",
              "      <td>0</td>\n",
              "    </tr>\n",
              "    <tr>\n",
              "      <th>127006</th>\n",
              "      <td>2</td>\n",
              "      <td>7</td>\n",
              "      <td>0</td>\n",
              "      <td>218.037465</td>\n",
              "      <td>0.79890</td>\n",
              "      <td>59.3358</td>\n",
              "      <td>103.60</td>\n",
              "      <td>0</td>\n",
              "    </tr>\n",
              "    <tr>\n",
              "      <th>127007</th>\n",
              "      <td>2</td>\n",
              "      <td>7</td>\n",
              "      <td>0</td>\n",
              "      <td>218.037465</td>\n",
              "      <td>0.79890</td>\n",
              "      <td>59.3358</td>\n",
              "      <td>103.60</td>\n",
              "      <td>0</td>\n",
              "    </tr>\n",
              "    <tr>\n",
              "      <th>127008</th>\n",
              "      <td>2</td>\n",
              "      <td>7</td>\n",
              "      <td>0</td>\n",
              "      <td>218.037465</td>\n",
              "      <td>0.79890</td>\n",
              "      <td>59.3358</td>\n",
              "      <td>103.60</td>\n",
              "      <td>0</td>\n",
              "    </tr>\n",
              "  </tbody>\n",
              "</table>\n",
              "<p>127009 rows × 8 columns</p>\n",
              "</div>\n",
              "      <button class=\"colab-df-convert\" onclick=\"convertToInteractive('df-a8a68f39-726c-4254-a605-f92ae2297941')\"\n",
              "              title=\"Convert this dataframe to an interactive table.\"\n",
              "              style=\"display:none;\">\n",
              "        \n",
              "  <svg xmlns=\"http://www.w3.org/2000/svg\" height=\"24px\"viewBox=\"0 0 24 24\"\n",
              "       width=\"24px\">\n",
              "    <path d=\"M0 0h24v24H0V0z\" fill=\"none\"/>\n",
              "    <path d=\"M18.56 5.44l.94 2.06.94-2.06 2.06-.94-2.06-.94-.94-2.06-.94 2.06-2.06.94zm-11 1L8.5 8.5l.94-2.06 2.06-.94-2.06-.94L8.5 2.5l-.94 2.06-2.06.94zm10 10l.94 2.06.94-2.06 2.06-.94-2.06-.94-.94-2.06-.94 2.06-2.06.94z\"/><path d=\"M17.41 7.96l-1.37-1.37c-.4-.4-.92-.59-1.43-.59-.52 0-1.04.2-1.43.59L10.3 9.45l-7.72 7.72c-.78.78-.78 2.05 0 2.83L4 21.41c.39.39.9.59 1.41.59.51 0 1.02-.2 1.41-.59l7.78-7.78 2.81-2.81c.8-.78.8-2.07 0-2.86zM5.41 20L4 18.59l7.72-7.72 1.47 1.35L5.41 20z\"/>\n",
              "  </svg>\n",
              "      </button>\n",
              "      \n",
              "  <style>\n",
              "    .colab-df-container {\n",
              "      display:flex;\n",
              "      flex-wrap:wrap;\n",
              "      gap: 12px;\n",
              "    }\n",
              "\n",
              "    .colab-df-convert {\n",
              "      background-color: #E8F0FE;\n",
              "      border: none;\n",
              "      border-radius: 50%;\n",
              "      cursor: pointer;\n",
              "      display: none;\n",
              "      fill: #1967D2;\n",
              "      height: 32px;\n",
              "      padding: 0 0 0 0;\n",
              "      width: 32px;\n",
              "    }\n",
              "\n",
              "    .colab-df-convert:hover {\n",
              "      background-color: #E2EBFA;\n",
              "      box-shadow: 0px 1px 2px rgba(60, 64, 67, 0.3), 0px 1px 3px 1px rgba(60, 64, 67, 0.15);\n",
              "      fill: #174EA6;\n",
              "    }\n",
              "\n",
              "    [theme=dark] .colab-df-convert {\n",
              "      background-color: #3B4455;\n",
              "      fill: #D2E3FC;\n",
              "    }\n",
              "\n",
              "    [theme=dark] .colab-df-convert:hover {\n",
              "      background-color: #434B5C;\n",
              "      box-shadow: 0px 1px 3px 1px rgba(0, 0, 0, 0.15);\n",
              "      filter: drop-shadow(0px 1px 2px rgba(0, 0, 0, 0.3));\n",
              "      fill: #FFFFFF;\n",
              "    }\n",
              "  </style>\n",
              "\n",
              "      <script>\n",
              "        const buttonEl =\n",
              "          document.querySelector('#df-a8a68f39-726c-4254-a605-f92ae2297941 button.colab-df-convert');\n",
              "        buttonEl.style.display =\n",
              "          google.colab.kernel.accessAllowed ? 'block' : 'none';\n",
              "\n",
              "        async function convertToInteractive(key) {\n",
              "          const element = document.querySelector('#df-a8a68f39-726c-4254-a605-f92ae2297941');\n",
              "          const dataTable =\n",
              "            await google.colab.kernel.invokeFunction('convertToInteractive',\n",
              "                                                     [key], {});\n",
              "          if (!dataTable) return;\n",
              "\n",
              "          const docLinkHtml = 'Like what you see? Visit the ' +\n",
              "            '<a target=\"_blank\" href=https://colab.research.google.com/notebooks/data_table.ipynb>data table notebook</a>'\n",
              "            + ' to learn more about interactive tables.';\n",
              "          element.innerHTML = '';\n",
              "          dataTable['output_type'] = 'display_data';\n",
              "          await google.colab.output.renderOutput(dataTable, element);\n",
              "          const docLink = document.createElement('div');\n",
              "          docLink.innerHTML = docLinkHtml;\n",
              "          element.appendChild(docLink);\n",
              "        }\n",
              "      </script>\n",
              "    </div>\n",
              "  </div>\n",
              "  "
            ]
          },
          "metadata": {},
          "execution_count": 33
        }
      ]
    },
    {
      "cell_type": "code",
      "source": [
        "import matplotlib\n",
        "feat_importances = pd.Series(egfr.feature_importances_, index=egfr.columns.values[:-1])\n",
        "feat_importances.nlargest(20).nsmallest(20).plot(kind='barh')"
      ],
      "metadata": {
        "colab": {
          "base_uri": "https://localhost:8080/",
          "height": 329
        },
        "id": "md0pcmvkYwgG",
        "outputId": "0169eeb0-54ba-4f6c-99b5-2b5734ee3740"
      },
      "execution_count": null,
      "outputs": [
        {
          "output_type": "error",
          "ename": "AttributeError",
          "evalue": "ignored",
          "traceback": [
            "\u001b[0;31m---------------------------------------------------------------------------\u001b[0m",
            "\u001b[0;31mAttributeError\u001b[0m                            Traceback (most recent call last)",
            "\u001b[0;32m<ipython-input-36-27776e2854b5>\u001b[0m in \u001b[0;36m<module>\u001b[0;34m()\u001b[0m\n\u001b[1;32m      1\u001b[0m \u001b[0;32mimport\u001b[0m \u001b[0mmatplotlib\u001b[0m\u001b[0;34m\u001b[0m\u001b[0;34m\u001b[0m\u001b[0m\n\u001b[0;32m----> 2\u001b[0;31m \u001b[0mfeat_importances\u001b[0m \u001b[0;34m=\u001b[0m \u001b[0mpd\u001b[0m\u001b[0;34m.\u001b[0m\u001b[0mSeries\u001b[0m\u001b[0;34m(\u001b[0m\u001b[0megfr\u001b[0m\u001b[0;34m.\u001b[0m\u001b[0mfeature_importances_\u001b[0m\u001b[0;34m,\u001b[0m \u001b[0mindex\u001b[0m\u001b[0;34m=\u001b[0m\u001b[0megfr\u001b[0m\u001b[0;34m.\u001b[0m\u001b[0mcolumns\u001b[0m\u001b[0;34m.\u001b[0m\u001b[0mvalues\u001b[0m\u001b[0;34m[\u001b[0m\u001b[0;34m:\u001b[0m\u001b[0;34m-\u001b[0m\u001b[0;36m1\u001b[0m\u001b[0;34m]\u001b[0m\u001b[0;34m)\u001b[0m\u001b[0;34m\u001b[0m\u001b[0;34m\u001b[0m\u001b[0m\n\u001b[0m\u001b[1;32m      3\u001b[0m \u001b[0mfeat_importances\u001b[0m\u001b[0;34m.\u001b[0m\u001b[0mnlargest\u001b[0m\u001b[0;34m(\u001b[0m\u001b[0;36m20\u001b[0m\u001b[0;34m)\u001b[0m\u001b[0;34m.\u001b[0m\u001b[0mnsmallest\u001b[0m\u001b[0;34m(\u001b[0m\u001b[0;36m20\u001b[0m\u001b[0;34m)\u001b[0m\u001b[0;34m.\u001b[0m\u001b[0mplot\u001b[0m\u001b[0;34m(\u001b[0m\u001b[0mkind\u001b[0m\u001b[0;34m=\u001b[0m\u001b[0;34m'barh'\u001b[0m\u001b[0;34m)\u001b[0m\u001b[0;34m\u001b[0m\u001b[0;34m\u001b[0m\u001b[0m\n",
            "\u001b[0;32m/usr/local/lib/python3.7/dist-packages/pandas/core/generic.py\u001b[0m in \u001b[0;36m__getattr__\u001b[0;34m(self, name)\u001b[0m\n\u001b[1;32m   5485\u001b[0m         ):\n\u001b[1;32m   5486\u001b[0m             \u001b[0;32mreturn\u001b[0m \u001b[0mself\u001b[0m\u001b[0;34m[\u001b[0m\u001b[0mname\u001b[0m\u001b[0;34m]\u001b[0m\u001b[0;34m\u001b[0m\u001b[0;34m\u001b[0m\u001b[0m\n\u001b[0;32m-> 5487\u001b[0;31m         \u001b[0;32mreturn\u001b[0m \u001b[0mobject\u001b[0m\u001b[0;34m.\u001b[0m\u001b[0m__getattribute__\u001b[0m\u001b[0;34m(\u001b[0m\u001b[0mself\u001b[0m\u001b[0;34m,\u001b[0m \u001b[0mname\u001b[0m\u001b[0;34m)\u001b[0m\u001b[0;34m\u001b[0m\u001b[0;34m\u001b[0m\u001b[0m\n\u001b[0m\u001b[1;32m   5488\u001b[0m \u001b[0;34m\u001b[0m\u001b[0m\n\u001b[1;32m   5489\u001b[0m     \u001b[0;32mdef\u001b[0m \u001b[0m__setattr__\u001b[0m\u001b[0;34m(\u001b[0m\u001b[0mself\u001b[0m\u001b[0;34m,\u001b[0m \u001b[0mname\u001b[0m\u001b[0;34m:\u001b[0m \u001b[0mstr\u001b[0m\u001b[0;34m,\u001b[0m \u001b[0mvalue\u001b[0m\u001b[0;34m)\u001b[0m \u001b[0;34m->\u001b[0m \u001b[0;32mNone\u001b[0m\u001b[0;34m:\u001b[0m\u001b[0;34m\u001b[0m\u001b[0;34m\u001b[0m\u001b[0m\n",
            "\u001b[0;31mAttributeError\u001b[0m: 'DataFrame' object has no attribute 'feature_importances_'"
          ]
        }
      ]
    },
    {
      "cell_type": "markdown",
      "source": [
        "# Fingerprints\n",
        "#### In this section fingerprints of the molecules will be created maybe plotted and then trained either with SVM or pytorch or both."
      ],
      "metadata": {
        "id": "5AB-Vm4CVIt8"
      }
    },
    {
      "cell_type": "code",
      "source": [
        "fps = get_fingerprints(egfr)\n",
        "fps[\"activity\"] = egfr.activity\n",
        "fps.head()"
      ],
      "metadata": {
        "colab": {
          "base_uri": "https://localhost:8080/",
          "height": 297
        },
        "id": "DCNEjeaIVbOJ",
        "outputId": "66554846-a327-40b3-a92a-e1b58222a853"
      },
      "execution_count": null,
      "outputs": [
        {
          "output_type": "stream",
          "name": "stderr",
          "text": [
            "100%|██████████| 127009/127009 [03:52<00:00, 545.93it/s]\n"
          ]
        },
        {
          "output_type": "execute_result",
          "data": {
            "text/plain": [
              "   0  1  2  3  4  5  6  7  8  9  ...  2039  2040  2041  2042  2043  2044  \\\n",
              "0  0  0  0  0  0  0  0  0  0  0  ...     0     0     0     0     0     0   \n",
              "1  0  0  0  0  0  0  0  0  0  0  ...     0     0     0     0     0     0   \n",
              "2  0  1  1  0  0  0  0  0  0  0  ...     0     0     0     0     0     0   \n",
              "3  0  1  1  0  0  0  0  0  0  0  ...     0     0     0     0     0     0   \n",
              "4  0  1  1  0  0  0  0  0  0  0  ...     0     0     0     0     0     0   \n",
              "\n",
              "   2045  2046  2047  activity  \n",
              "0     0     0     0         0  \n",
              "1     0     0     0         0  \n",
              "2     0     0     0         0  \n",
              "3     0     0     0         0  \n",
              "4     0     0     0         0  \n",
              "\n",
              "[5 rows x 2049 columns]"
            ],
            "text/html": [
              "\n",
              "  <div id=\"df-1d7166bf-f944-42c6-8189-d7cdc25957b6\">\n",
              "    <div class=\"colab-df-container\">\n",
              "      <div>\n",
              "<style scoped>\n",
              "    .dataframe tbody tr th:only-of-type {\n",
              "        vertical-align: middle;\n",
              "    }\n",
              "\n",
              "    .dataframe tbody tr th {\n",
              "        vertical-align: top;\n",
              "    }\n",
              "\n",
              "    .dataframe thead th {\n",
              "        text-align: right;\n",
              "    }\n",
              "</style>\n",
              "<table border=\"1\" class=\"dataframe\">\n",
              "  <thead>\n",
              "    <tr style=\"text-align: right;\">\n",
              "      <th></th>\n",
              "      <th>0</th>\n",
              "      <th>1</th>\n",
              "      <th>2</th>\n",
              "      <th>3</th>\n",
              "      <th>4</th>\n",
              "      <th>5</th>\n",
              "      <th>6</th>\n",
              "      <th>7</th>\n",
              "      <th>8</th>\n",
              "      <th>9</th>\n",
              "      <th>...</th>\n",
              "      <th>2039</th>\n",
              "      <th>2040</th>\n",
              "      <th>2041</th>\n",
              "      <th>2042</th>\n",
              "      <th>2043</th>\n",
              "      <th>2044</th>\n",
              "      <th>2045</th>\n",
              "      <th>2046</th>\n",
              "      <th>2047</th>\n",
              "      <th>activity</th>\n",
              "    </tr>\n",
              "  </thead>\n",
              "  <tbody>\n",
              "    <tr>\n",
              "      <th>0</th>\n",
              "      <td>0</td>\n",
              "      <td>0</td>\n",
              "      <td>0</td>\n",
              "      <td>0</td>\n",
              "      <td>0</td>\n",
              "      <td>0</td>\n",
              "      <td>0</td>\n",
              "      <td>0</td>\n",
              "      <td>0</td>\n",
              "      <td>0</td>\n",
              "      <td>...</td>\n",
              "      <td>0</td>\n",
              "      <td>0</td>\n",
              "      <td>0</td>\n",
              "      <td>0</td>\n",
              "      <td>0</td>\n",
              "      <td>0</td>\n",
              "      <td>0</td>\n",
              "      <td>0</td>\n",
              "      <td>0</td>\n",
              "      <td>0</td>\n",
              "    </tr>\n",
              "    <tr>\n",
              "      <th>1</th>\n",
              "      <td>0</td>\n",
              "      <td>0</td>\n",
              "      <td>0</td>\n",
              "      <td>0</td>\n",
              "      <td>0</td>\n",
              "      <td>0</td>\n",
              "      <td>0</td>\n",
              "      <td>0</td>\n",
              "      <td>0</td>\n",
              "      <td>0</td>\n",
              "      <td>...</td>\n",
              "      <td>0</td>\n",
              "      <td>0</td>\n",
              "      <td>0</td>\n",
              "      <td>0</td>\n",
              "      <td>0</td>\n",
              "      <td>0</td>\n",
              "      <td>0</td>\n",
              "      <td>0</td>\n",
              "      <td>0</td>\n",
              "      <td>0</td>\n",
              "    </tr>\n",
              "    <tr>\n",
              "      <th>2</th>\n",
              "      <td>0</td>\n",
              "      <td>1</td>\n",
              "      <td>1</td>\n",
              "      <td>0</td>\n",
              "      <td>0</td>\n",
              "      <td>0</td>\n",
              "      <td>0</td>\n",
              "      <td>0</td>\n",
              "      <td>0</td>\n",
              "      <td>0</td>\n",
              "      <td>...</td>\n",
              "      <td>0</td>\n",
              "      <td>0</td>\n",
              "      <td>0</td>\n",
              "      <td>0</td>\n",
              "      <td>0</td>\n",
              "      <td>0</td>\n",
              "      <td>0</td>\n",
              "      <td>0</td>\n",
              "      <td>0</td>\n",
              "      <td>0</td>\n",
              "    </tr>\n",
              "    <tr>\n",
              "      <th>3</th>\n",
              "      <td>0</td>\n",
              "      <td>1</td>\n",
              "      <td>1</td>\n",
              "      <td>0</td>\n",
              "      <td>0</td>\n",
              "      <td>0</td>\n",
              "      <td>0</td>\n",
              "      <td>0</td>\n",
              "      <td>0</td>\n",
              "      <td>0</td>\n",
              "      <td>...</td>\n",
              "      <td>0</td>\n",
              "      <td>0</td>\n",
              "      <td>0</td>\n",
              "      <td>0</td>\n",
              "      <td>0</td>\n",
              "      <td>0</td>\n",
              "      <td>0</td>\n",
              "      <td>0</td>\n",
              "      <td>0</td>\n",
              "      <td>0</td>\n",
              "    </tr>\n",
              "    <tr>\n",
              "      <th>4</th>\n",
              "      <td>0</td>\n",
              "      <td>1</td>\n",
              "      <td>1</td>\n",
              "      <td>0</td>\n",
              "      <td>0</td>\n",
              "      <td>0</td>\n",
              "      <td>0</td>\n",
              "      <td>0</td>\n",
              "      <td>0</td>\n",
              "      <td>0</td>\n",
              "      <td>...</td>\n",
              "      <td>0</td>\n",
              "      <td>0</td>\n",
              "      <td>0</td>\n",
              "      <td>0</td>\n",
              "      <td>0</td>\n",
              "      <td>0</td>\n",
              "      <td>0</td>\n",
              "      <td>0</td>\n",
              "      <td>0</td>\n",
              "      <td>0</td>\n",
              "    </tr>\n",
              "  </tbody>\n",
              "</table>\n",
              "<p>5 rows × 2049 columns</p>\n",
              "</div>\n",
              "      <button class=\"colab-df-convert\" onclick=\"convertToInteractive('df-1d7166bf-f944-42c6-8189-d7cdc25957b6')\"\n",
              "              title=\"Convert this dataframe to an interactive table.\"\n",
              "              style=\"display:none;\">\n",
              "        \n",
              "  <svg xmlns=\"http://www.w3.org/2000/svg\" height=\"24px\"viewBox=\"0 0 24 24\"\n",
              "       width=\"24px\">\n",
              "    <path d=\"M0 0h24v24H0V0z\" fill=\"none\"/>\n",
              "    <path d=\"M18.56 5.44l.94 2.06.94-2.06 2.06-.94-2.06-.94-.94-2.06-.94 2.06-2.06.94zm-11 1L8.5 8.5l.94-2.06 2.06-.94-2.06-.94L8.5 2.5l-.94 2.06-2.06.94zm10 10l.94 2.06.94-2.06 2.06-.94-2.06-.94-.94-2.06-.94 2.06-2.06.94z\"/><path d=\"M17.41 7.96l-1.37-1.37c-.4-.4-.92-.59-1.43-.59-.52 0-1.04.2-1.43.59L10.3 9.45l-7.72 7.72c-.78.78-.78 2.05 0 2.83L4 21.41c.39.39.9.59 1.41.59.51 0 1.02-.2 1.41-.59l7.78-7.78 2.81-2.81c.8-.78.8-2.07 0-2.86zM5.41 20L4 18.59l7.72-7.72 1.47 1.35L5.41 20z\"/>\n",
              "  </svg>\n",
              "      </button>\n",
              "      \n",
              "  <style>\n",
              "    .colab-df-container {\n",
              "      display:flex;\n",
              "      flex-wrap:wrap;\n",
              "      gap: 12px;\n",
              "    }\n",
              "\n",
              "    .colab-df-convert {\n",
              "      background-color: #E8F0FE;\n",
              "      border: none;\n",
              "      border-radius: 50%;\n",
              "      cursor: pointer;\n",
              "      display: none;\n",
              "      fill: #1967D2;\n",
              "      height: 32px;\n",
              "      padding: 0 0 0 0;\n",
              "      width: 32px;\n",
              "    }\n",
              "\n",
              "    .colab-df-convert:hover {\n",
              "      background-color: #E2EBFA;\n",
              "      box-shadow: 0px 1px 2px rgba(60, 64, 67, 0.3), 0px 1px 3px 1px rgba(60, 64, 67, 0.15);\n",
              "      fill: #174EA6;\n",
              "    }\n",
              "\n",
              "    [theme=dark] .colab-df-convert {\n",
              "      background-color: #3B4455;\n",
              "      fill: #D2E3FC;\n",
              "    }\n",
              "\n",
              "    [theme=dark] .colab-df-convert:hover {\n",
              "      background-color: #434B5C;\n",
              "      box-shadow: 0px 1px 3px 1px rgba(0, 0, 0, 0.15);\n",
              "      filter: drop-shadow(0px 1px 2px rgba(0, 0, 0, 0.3));\n",
              "      fill: #FFFFFF;\n",
              "    }\n",
              "  </style>\n",
              "\n",
              "      <script>\n",
              "        const buttonEl =\n",
              "          document.querySelector('#df-1d7166bf-f944-42c6-8189-d7cdc25957b6 button.colab-df-convert');\n",
              "        buttonEl.style.display =\n",
              "          google.colab.kernel.accessAllowed ? 'block' : 'none';\n",
              "\n",
              "        async function convertToInteractive(key) {\n",
              "          const element = document.querySelector('#df-1d7166bf-f944-42c6-8189-d7cdc25957b6');\n",
              "          const dataTable =\n",
              "            await google.colab.kernel.invokeFunction('convertToInteractive',\n",
              "                                                     [key], {});\n",
              "          if (!dataTable) return;\n",
              "\n",
              "          const docLinkHtml = 'Like what you see? Visit the ' +\n",
              "            '<a target=\"_blank\" href=https://colab.research.google.com/notebooks/data_table.ipynb>data table notebook</a>'\n",
              "            + ' to learn more about interactive tables.';\n",
              "          element.innerHTML = '';\n",
              "          dataTable['output_type'] = 'display_data';\n",
              "          await google.colab.output.renderOutput(dataTable, element);\n",
              "          const docLink = document.createElement('div');\n",
              "          docLink.innerHTML = docLinkHtml;\n",
              "          element.appendChild(docLink);\n",
              "        }\n",
              "      </script>\n",
              "    </div>\n",
              "  </div>\n",
              "  "
            ]
          },
          "metadata": {},
          "execution_count": 6
        }
      ]
    },
    {
      "cell_type": "code",
      "source": [
        "import torch\n",
        "from torch.utils import data\n",
        "from torch import optim\n",
        "from torch.nn import functional as F\n",
        "from torch import nn"
      ],
      "metadata": {
        "id": "N7jA-H6WjuTo"
      },
      "execution_count": null,
      "outputs": []
    },
    {
      "cell_type": "code",
      "source": [
        "fps = torch.tensor(fps.values, dtype=torch.float32)"
      ],
      "metadata": {
        "id": "BOth-uPsjeTQ"
      },
      "execution_count": null,
      "outputs": []
    },
    {
      "cell_type": "code",
      "source": [
        "train, test=train_test_split(fps,test_size= 0.2 , train_size= 0.8, random_state=1234)\n",
        "\n",
        "\n",
        "train_x = train[:,:-1]\n",
        "train_y = train[:,-1]\n",
        "test_x = test[:,:-1]\n",
        "test_y = test[:,-1]"
      ],
      "metadata": {
        "id": "gUlR1C9rjzDK"
      },
      "execution_count": null,
      "outputs": []
    },
    {
      "cell_type": "code",
      "source": [
        "train_data=data.TensorDataset(train_x, train_y) # input sind unsere Tensors die einmal die Fingerprints die activities\n",
        "loader=data.DataLoader(train_data, batch_size = 32)\n",
        "len(loader)"
      ],
      "metadata": {
        "colab": {
          "base_uri": "https://localhost:8080/"
        },
        "id": "9o9rJ8XXj9QY",
        "outputId": "5f9f8eb5-59db-444f-ea50-7edc8ff8098b"
      },
      "execution_count": null,
      "outputs": [
        {
          "output_type": "execute_result",
          "data": {
            "text/plain": [
              "3176"
            ]
          },
          "metadata": {},
          "execution_count": 14
        }
      ]
    },
    {
      "cell_type": "code",
      "source": [
        "netzwerk = nn.Sequential(nn.Linear(2048, 500), \n",
        "                         nn.BatchNorm1d(500),\n",
        "                         nn.ReLU(), \n",
        "                         nn.Dropout(0.2),\n",
        "                         nn.Linear(500,500),\n",
        "                         nn.BatchNorm1d(500),\n",
        "                         nn.ReLU(), \n",
        "                         nn.Dropout(0.2),\n",
        "                         nn.Linear(500, 1))\n",
        "\n",
        "loss_funktion = nn.BCEWithLogitsLoss()\n",
        "updaten = optim.Adam(netzwerk.parameters(), lr=0.1)    \n",
        "EPOCHS = 10"
      ],
      "metadata": {
        "id": "JpOBNDtMkEtb"
      },
      "execution_count": null,
      "outputs": []
    },
    {
      "cell_type": "code",
      "source": [
        "for i in range(EPOCHS):\n",
        "    loss_list = [] # diese Liste speichter den Loss jedes Minibatches\n",
        "    for minibatch in loader: # for-loop geht durch alle minibatches\n",
        "        updaten.zero_grad()\n",
        "        molecules, activity = minibatch # minibatch wird in Bilder und Labels geteilt\n",
        "        output = netzwerk(train_x) # Forward Propagation\n",
        "        loss   = loss_funktion(output.squeeze(), train_y)\n",
        "        loss.backward()\n",
        "        loss_list.append(loss.item())\n",
        "        updaten.step()\n",
        "    # Hier wird die Accuracy für den Testsatz berechnet\n",
        "    output = netzwerk(test_x)\n",
        "    acc = torch.sum((output>0).squeeze().int() == test_y)/test_y.shape[0]\n",
        "   \n",
        "    print(\n",
        "        \"Training Loss: %.2f Test Accuracy: %.2f\"\n",
        "        % (np.mean(loss_list), acc.item())\n",
        "    )"
      ],
      "metadata": {
        "id": "46TxCaq0kIyQ"
      },
      "execution_count": null,
      "outputs": []
    },
    {
      "cell_type": "code",
      "source": [
        ""
      ],
      "metadata": {
        "id": "TEIWBvAQkM19"
      },
      "execution_count": null,
      "outputs": []
    },
    {
      "cell_type": "markdown",
      "source": [
        "# This is where the lecture code starts"
      ],
      "metadata": {
        "id": "AIXMV0XBVksJ"
      }
    },
    {
      "cell_type": "markdown",
      "source": [
        "# One mor line to make it more visible"
      ],
      "metadata": {
        "id": "O16KER4LVos1"
      }
    },
    {
      "cell_type": "markdown",
      "source": [
        "# One mor line to make it more visible"
      ],
      "metadata": {
        "id": "cCTPDSY5VsgX"
      }
    },
    {
      "cell_type": "markdown",
      "source": [
        "# One mor line to make it more visible"
      ],
      "metadata": {
        "id": "GQH31XXaVu4S"
      }
    },
    {
      "cell_type": "code",
      "execution_count": null,
      "metadata": {
        "id": "XhmhGx-Uc_Fu"
      },
      "outputs": [],
      "source": [
        "from sklearn.svm import SVC\n",
        "\n",
        "model = SVC()\n",
        "model.fit(toy_beispiel.iloc[:,:2], toy_beispiel.y)\n",
        "y_pred = model.predict(toy_beispiel.iloc[:,:2])\n",
        "y_pred"
      ]
    },
    {
      "cell_type": "code",
      "execution_count": null,
      "metadata": {
        "id": "6sM4PUhfc_Fu"
      },
      "outputs": [],
      "source": [
        "def accuracy(y_true, y_pred):\n",
        "    return np.sum(y_true==y_pred)/len(y_true)\n",
        "\n",
        "accuracy(toy_beispiel.y, y_pred)"
      ]
    },
    {
      "cell_type": "code",
      "source": [
        "import matplotlib"
      ],
      "metadata": {
        "id": "UW9OYqmJNaPd"
      },
      "execution_count": null,
      "outputs": []
    },
    {
      "cell_type": "code",
      "execution_count": null,
      "metadata": {
        "id": "ix29cl7ac_Fv"
      },
      "outputs": [],
      "source": [
        "plot_svc(toy_beispiel, model)"
      ]
    },
    {
      "cell_type": "code",
      "execution_count": null,
      "metadata": {
        "id": "3px72qGSc_Fv"
      },
      "outputs": [],
      "source": [
        "def min_max(x):\n",
        "    return (x - np.min(x)) / (np.max(x) - np.min(x))\n",
        "\n",
        "toy_beispiel.x1 = min_max(toy_beispiel.x1)\n",
        "toy_beispiel.x2 = min_max(toy_beispiel.x2)"
      ]
    },
    {
      "cell_type": "code",
      "execution_count": null,
      "metadata": {
        "id": "ja-iPl_Kc_Fy",
        "colab": {
          "base_uri": "https://localhost:8080/"
        },
        "outputId": "5d19972b-3aa9-4ac1-c7d9-1abe047dfb78"
      },
      "outputs": [
        {
          "output_type": "execute_result",
          "data": {
            "text/plain": [
              "1123"
            ]
          },
          "metadata": {},
          "execution_count": 10
        }
      ],
      "source": [
        "np.sum(data.activity) # data.activity wählt die in 'data' enthalten Spalte 'activity' aus"
      ]
    },
    {
      "cell_type": "markdown",
      "metadata": {
        "id": "GRXzxd-Kc_Fz"
      },
      "source": [
        "Die neue `x` Variable ist nun ein Array (anstatt eines `DataFrames`). Sie können jetzt ein Random Forest Modell trainieren. Ähnlich wie bei dem `SVC`, müssen Sie erst eine Variable mit dem Modell erstellen und dann mit `.fit()` das Model auf die Daten trainieren."
      ]
    },
    {
      "cell_type": "code",
      "execution_count": null,
      "metadata": {
        "id": "0DCchtBac_F0",
        "colab": {
          "base_uri": "https://localhost:8080/"
        },
        "outputId": "e6b0678f-c8be-422f-8c25-21a4b7200e02"
      },
      "outputs": [
        {
          "output_type": "execute_result",
          "data": {
            "text/plain": [
              "RandomForestClassifier(n_estimators=1000, random_state=42)"
            ]
          },
          "metadata": {},
          "execution_count": 14
        }
      ],
      "source": [
        "rf = RandomForestClassifier(n_estimators = 1000, random_state = 42) \n",
        "#n_estimators wählt aus wie viele Trees benutzt werden sollen\n",
        "rf.fit(x, y)"
      ]
    },
    {
      "cell_type": "markdown",
      "metadata": {
        "id": "qypwxKESc_F0"
      },
      "source": [
        "Um zu sehen, wie gut das Model funktioniert, müssen Sie erst noch die Vorhersagen aus dem Model für unsere Daten extrahieren. Anders als sonst benutzen wir hierfür die Funktion <br>`.predict_proba(x)[:,1]`. Wir benutzen den trainierten `rf⁣`, um `y_hat` vorherzusagen."
      ]
    },
    {
      "cell_type": "code",
      "execution_count": null,
      "metadata": {
        "id": "mBXkuPMOc_F3",
        "colab": {
          "base_uri": "https://localhost:8080/"
        },
        "outputId": "8e240e6d-1dbc-442a-9abe-452f2efb6969"
      },
      "outputs": [
        {
          "output_type": "execute_result",
          "data": {
            "text/plain": [
              "array([0.014     , 0.54678571, 0.60585222, ..., 0.98183333, 0.102     ,\n",
              "       0.14995   ])"
            ]
          },
          "metadata": {},
          "execution_count": 15
        }
      ],
      "source": [
        "y_hat=rf.predict_proba(x)[:,1]\n",
        "y_hat"
      ]
    },
    {
      "cell_type": "markdown",
      "metadata": {
        "id": "v67qWPeEc_F4"
      },
      "source": [
        "Die vorhergesagte Wahrscheinlichkeit vom ersten Molekül ist `0.014`. Wie bei der logistischen Regression heißt das, dass das Molekül laut unserem Model zu 1.4 %  auf dem MMP Assay aktiv sein wird, also wahrscheinlich nicht toxisch ist. Je höher die Wahrscheinlichkeit, desto wahrscheinlicher (laut dem Modell) ist das Molekül aktiv auf dem Assay. \n",
        "Oft wird als „Cut-Off“ Wert 0.5 gewählt. Wir würden also ab einem Wert von 0.5 davon ausgehen, dass das Modell diese Moleküle als toxisch ansieht. \n",
        "\n",
        "Um besser einschätzen zu können wie gut das Modell funktioniert, vergleichen Sie die vorhergesagten Werte `pred_y` mit den tatsächlichen Werten `y`.\n",
        "Dafür können Sie zum Beispiel die *Genauigkeit* nehmen. Die Genauigkeit ist der Prozentsatz der richtig klassifizierten Moleküle. Dafür werden alle Wahrscheinlichkeiten größer gleich 0.5 aufgerundet und Wahrscheinlichkeiten kleiner als 0.5 abgerundet. Als letzten Schritt müssen Sie nur den Prozentsatz der Moleküle berechnen, bei dem die gerundeten Werte `pred_y` gleich der Werte in `y` sind.  "
      ]
    },
    {
      "cell_type": "code",
      "execution_count": null,
      "metadata": {
        "id": "sFYwzHm9c_F4",
        "colab": {
          "base_uri": "https://localhost:8080/"
        },
        "outputId": "c9382e96-bd6e-4927-ec68-857adc03a969"
      },
      "outputs": [
        {
          "output_type": "execute_result",
          "data": {
            "text/plain": [
              "0.9915405164737311"
            ]
          },
          "metadata": {},
          "execution_count": 17
        }
      ],
      "source": [
        "def accuracy(y_true, y_pred):\n",
        "    return np.sum(y_true==y_pred)/len(y_true)\n",
        "\n",
        "y_pred = np.round(y_hat)\n",
        "accuracy(y, y_pred)"
      ]
    },
    {
      "cell_type": "markdown",
      "metadata": {
        "id": "7ZFJf8mvc_F4"
      },
      "source": [
        "Anschließend können wir den AUC mit der Funktion. `roc_auc_score()` berechnen. Der AUC misst wie gut unser Netzwerk im Vorhersagen ist. Er vergleicht die Wahrscheinlichkeiten vom RF mit den tatsächlichen Werten für die Moleküle. Ein Wert von 1 bedeutet eine perfekte Vorhersage. Ein Wert von 0.5 bedeutet, dass das Netzwerk nicht besser als der Zufall ist.\n",
        "\n",
        "Anders als für die `accuracy` benutzen wir hier die Wahrscheinlichkeiten `y_hat` anstatt die gerundeten Werte `y_pred`."
      ]
    },
    {
      "cell_type": "code",
      "execution_count": null,
      "metadata": {
        "scrolled": true,
        "id": "ZrXcQZfbc_F4",
        "colab": {
          "base_uri": "https://localhost:8080/"
        },
        "outputId": "591f6fec-c3b9-4969-bd6d-d33a7bfeac07"
      },
      "outputs": [
        {
          "output_type": "execute_result",
          "data": {
            "text/plain": [
              "0.9997573602700437"
            ]
          },
          "metadata": {},
          "execution_count": 18
        }
      ],
      "source": [
        "roc_auc_score(y, y_hat)"
      ]
    },
    {
      "cell_type": "markdown",
      "metadata": {
        "id": "y1PNFBTCc_F4"
      },
      "source": [
        "<details>\n",
        "    <summary><b>Lösung:</b></summary>\n",
        "\n",
        "```python\n",
        "roc_auc_score(y,y_hat)\n",
        "```\n",
        "</details>"
      ]
    },
    {
      "cell_type": "markdown",
      "metadata": {
        "id": "9QuR-8Yjc_F4"
      },
      "source": [
        "Sehr gut. Das Model ist fast perfekt im Vorhersagen, ob ein Molekül aktiv ist. Es trifft zu 99 % der Fälle die richtige Entscheidung. In der folgenden Zelle werden die falsch klassifizierten Moleküle ausgewählt und mit ihrer vorhergesagten Wahrscheinlichkeit angezeigt. Es ist nicht unbedingt notwendig, dass Sie diesen Code verstehen. "
      ]
    },
    {
      "cell_type": "code",
      "execution_count": null,
      "metadata": {
        "id": "W-H6Yx5ac_F4",
        "colab": {
          "base_uri": "https://localhost:8080/",
          "height": 277
        },
        "outputId": "453455c7-e33b-4f5a-88c3-0a109f2363eb"
      },
      "outputs": [
        {
          "output_type": "stream",
          "name": "stderr",
          "text": [
            "/usr/local/lib/python3.7/dist-packages/ipykernel_launcher.py:1: DeprecationWarning: elementwise comparison failed; this will raise an error in the future.\n",
            "  \"\"\"Entry point for launching an IPython kernel.\n"
          ]
        },
        {
          "output_type": "execute_result",
          "data": {
            "text/plain": [
              "<IPython.core.display.SVG object>"
            ],
            "image/svg+xml": "<svg baseProfile=\"full\" height=\"200px\" version=\"1.1\" viewBox=\"0 0 600 200\" width=\"600px\" xml:space=\"preserve\" xmlns=\"http://www.w3.org/2000/svg\" xmlns:rdkit=\"http://www.rdkit.org/xml\" xmlns:xlink=\"http://www.w3.org/1999/xlink\">\n<!-- END OF HEADER -->\n<rect height=\"200\" style=\"opacity:1.0;fill:#FFFFFF;stroke:none\" width=\"600\" x=\"0\" y=\"0\"> </rect>\n<rect height=\"200\" style=\"opacity:1.0;fill:#FFFFFF;stroke:none\" width=\"600\" x=\"0\" y=\"0\"> </rect>\n<path class=\"bond-0\" d=\"M 23.1155,76.5538 L 32.6949,81.8698\" style=\"fill:none;fill-rule:evenodd;stroke:#FF0000;stroke-width:2.0px;stroke-linecap:butt;stroke-linejoin:miter;stroke-opacity:1\"/>\n<path class=\"bond-0\" d=\"M 32.6949,81.8698 L 42.2744,87.1857\" style=\"fill:none;fill-rule:evenodd;stroke:#000000;stroke-width:2.0px;stroke-linecap:butt;stroke-linejoin:miter;stroke-opacity:1\"/>\n<path class=\"bond-1\" d=\"M 39.6115,87.2309 L 39.7995,98.3054\" style=\"fill:none;fill-rule:evenodd;stroke:#000000;stroke-width:2.0px;stroke-linecap:butt;stroke-linejoin:miter;stroke-opacity:1\"/>\n<path class=\"bond-1\" d=\"M 39.7995,98.3054 L 39.9875,109.38\" style=\"fill:none;fill-rule:evenodd;stroke:#FF0000;stroke-width:2.0px;stroke-linecap:butt;stroke-linejoin:miter;stroke-opacity:1\"/>\n<path class=\"bond-1\" d=\"M 44.9372,87.1405 L 45.1252,98.215\" style=\"fill:none;fill-rule:evenodd;stroke:#000000;stroke-width:2.0px;stroke-linecap:butt;stroke-linejoin:miter;stroke-opacity:1\"/>\n<path class=\"bond-1\" d=\"M 45.1252,98.215 L 45.3132,109.289\" style=\"fill:none;fill-rule:evenodd;stroke:#FF0000;stroke-width:2.0px;stroke-linecap:butt;stroke-linejoin:miter;stroke-opacity:1\"/>\n<path class=\"bond-2\" d=\"M 42.2744,87.1857 L 65.1092,73.48\" style=\"fill:none;fill-rule:evenodd;stroke:#000000;stroke-width:2.0px;stroke-linecap:butt;stroke-linejoin:miter;stroke-opacity:1\"/>\n<path class=\"bond-3\" d=\"M 65.6814,67.9608 L 64.35,67.9834\" style=\"fill:none;fill-rule:evenodd;stroke:#000000;stroke-width:1.0px;stroke-linecap:butt;stroke-linejoin:miter;stroke-opacity:1\"/>\n<path class=\"bond-3\" d=\"M 66.2536,62.4416 L 63.5908,62.4868\" style=\"fill:none;fill-rule:evenodd;stroke:#000000;stroke-width:1.0px;stroke-linecap:butt;stroke-linejoin:miter;stroke-opacity:1\"/>\n<path class=\"bond-3\" d=\"M 66.8259,56.9224 L 62.8316,56.9902\" style=\"fill:none;fill-rule:evenodd;stroke:#FF0000;stroke-width:1.0px;stroke-linecap:butt;stroke-linejoin:miter;stroke-opacity:1\"/>\n<path class=\"bond-3\" d=\"M 67.3981,51.4031 L 62.0724,51.4936\" style=\"fill:none;fill-rule:evenodd;stroke:#FF0000;stroke-width:1.0px;stroke-linecap:butt;stroke-linejoin:miter;stroke-opacity:1\"/>\n<path class=\"bond-4\" d=\"M 65.1092,73.48 L 88.3961,86.4028\" style=\"fill:none;fill-rule:evenodd;stroke:#000000;stroke-width:2.0px;stroke-linecap:butt;stroke-linejoin:miter;stroke-opacity:1\"/>\n<path class=\"bond-5\" d=\"M 87.8244,91.9513 L 89.1559,91.9287\" style=\"fill:none;fill-rule:evenodd;stroke:#000000;stroke-width:1.0px;stroke-linecap:butt;stroke-linejoin:miter;stroke-opacity:1\"/>\n<path class=\"bond-5\" d=\"M 87.2527,97.4998 L 89.9156,97.4546\" style=\"fill:none;fill-rule:evenodd;stroke:#000000;stroke-width:1.0px;stroke-linecap:butt;stroke-linejoin:miter;stroke-opacity:1\"/>\n<path class=\"bond-5\" d=\"M 86.681,103.048 L 90.6753,102.981\" style=\"fill:none;fill-rule:evenodd;stroke:#FF0000;stroke-width:1.0px;stroke-linecap:butt;stroke-linejoin:miter;stroke-opacity:1\"/>\n<path class=\"bond-5\" d=\"M 86.1093,108.597 L 91.435,108.506\" style=\"fill:none;fill-rule:evenodd;stroke:#FF0000;stroke-width:1.0px;stroke-linecap:butt;stroke-linejoin:miter;stroke-opacity:1\"/>\n<path class=\"bond-6\" d=\"M 88.3961,86.4028 L 111.231,72.6971\" style=\"fill:none;fill-rule:evenodd;stroke:#000000;stroke-width:2.0px;stroke-linecap:butt;stroke-linejoin:miter;stroke-opacity:1\"/>\n<path class=\"bond-7\" d=\"M 111.803,67.1779 L 110.472,67.2005\" style=\"fill:none;fill-rule:evenodd;stroke:#000000;stroke-width:1.0px;stroke-linecap:butt;stroke-linejoin:miter;stroke-opacity:1\"/>\n<path class=\"bond-7\" d=\"M 112.375,61.6586 L 109.713,61.7038\" style=\"fill:none;fill-rule:evenodd;stroke:#000000;stroke-width:1.0px;stroke-linecap:butt;stroke-linejoin:miter;stroke-opacity:1\"/>\n<path class=\"bond-7\" d=\"M 112.948,56.1394 L 108.953,56.2072\" style=\"fill:none;fill-rule:evenodd;stroke:#FF0000;stroke-width:1.0px;stroke-linecap:butt;stroke-linejoin:miter;stroke-opacity:1\"/>\n<path class=\"bond-7\" d=\"M 113.52,50.6202 L 108.194,50.7106\" style=\"fill:none;fill-rule:evenodd;stroke:#FF0000;stroke-width:1.0px;stroke-linecap:butt;stroke-linejoin:miter;stroke-opacity:1\"/>\n<path class=\"bond-8\" d=\"M 111.231,72.6971 L 134.518,85.6198\" style=\"fill:none;fill-rule:evenodd;stroke:#000000;stroke-width:2.0px;stroke-linecap:butt;stroke-linejoin:miter;stroke-opacity:1\"/>\n<path class=\"bond-9\" d=\"M 131.855,85.665 L 132.043,96.7395\" style=\"fill:none;fill-rule:evenodd;stroke:#000000;stroke-width:2.0px;stroke-linecap:butt;stroke-linejoin:miter;stroke-opacity:1\"/>\n<path class=\"bond-9\" d=\"M 132.043,96.7395 L 132.231,107.814\" style=\"fill:none;fill-rule:evenodd;stroke:#FF0000;stroke-width:2.0px;stroke-linecap:butt;stroke-linejoin:miter;stroke-opacity:1\"/>\n<path class=\"bond-9\" d=\"M 137.181,85.5746 L 137.369,96.649\" style=\"fill:none;fill-rule:evenodd;stroke:#000000;stroke-width:2.0px;stroke-linecap:butt;stroke-linejoin:miter;stroke-opacity:1\"/>\n<path class=\"bond-9\" d=\"M 137.369,96.649 L 137.557,107.723\" style=\"fill:none;fill-rule:evenodd;stroke:#FF0000;stroke-width:2.0px;stroke-linecap:butt;stroke-linejoin:miter;stroke-opacity:1\"/>\n<path class=\"bond-10\" d=\"M 134.518,85.6198 L 157.353,71.9141\" style=\"fill:none;fill-rule:evenodd;stroke:#000000;stroke-width:2.0px;stroke-linecap:butt;stroke-linejoin:miter;stroke-opacity:1\"/>\n<path class=\"bond-11\" d=\"M 157.353,71.9141 L 166.932,77.2301\" style=\"fill:none;fill-rule:evenodd;stroke:#000000;stroke-width:2.0px;stroke-linecap:butt;stroke-linejoin:miter;stroke-opacity:1\"/>\n<path class=\"bond-11\" d=\"M 166.932,77.2301 L 176.512,82.5461\" style=\"fill:none;fill-rule:evenodd;stroke:#FF0000;stroke-width:2.0px;stroke-linecap:butt;stroke-linejoin:miter;stroke-opacity:1\"/>\n<path class=\"atom-0\" d=\"M 9.09091 70.5345 L 10.1136 70.5345 L 10.1136 73.741 L 13.9699 73.741 L 13.9699 70.5345 L 14.9926 70.5345 L 14.9926 78.0767 L 13.9699 78.0767 L 13.9699 74.5932 L 10.1136 74.5932 L 10.1136 78.0767 L 9.09091 78.0767 L 9.09091 70.5345 \" fill=\"#FF0000\"/>\n<path class=\"atom-0\" d=\"M 15.5253 74.2843 Q 15.5253 72.4733, 16.4201 71.4613 Q 17.3149 70.4493, 18.9875 70.4493 Q 20.66 70.4493, 21.5548 71.4613 Q 22.4496 72.4733, 22.4496 74.2843 Q 22.4496 76.1166, 21.5442 77.1606 Q 20.6387 78.1939, 18.9875 78.1939 Q 17.3256 78.1939, 16.4201 77.1606 Q 15.5253 76.1273, 15.5253 74.2843 M 18.9875 77.3417 Q 20.138 77.3417, 20.7558 76.5747 Q 21.3844 75.797, 21.3844 74.2843 Q 21.3844 72.8036, 20.7558 72.0579 Q 20.138 71.3015, 18.9875 71.3015 Q 17.8369 71.3015, 17.2084 72.0472 Q 16.5906 72.7929, 16.5906 74.2843 Q 16.5906 75.8077, 17.2084 76.5747 Q 17.8369 77.3417, 18.9875 77.3417 \" fill=\"#FF0000\"/>\n<path class=\"atom-2\" d=\"M 39.2642 113.835 Q 39.2642 112.024, 40.1591 111.012 Q 41.0539 110, 42.7264 110 Q 44.3989 110, 45.2938 111.012 Q 46.1886 112.024, 46.1886 113.835 Q 46.1886 115.668, 45.2831 116.712 Q 44.3776 117.745, 42.7264 117.745 Q 41.0646 117.745, 40.1591 116.712 Q 39.2642 115.678, 39.2642 113.835 M 42.7264 116.893 Q 43.8769 116.893, 44.4948 116.126 Q 45.1233 115.348, 45.1233 113.835 Q 45.1233 112.355, 44.4948 111.609 Q 43.8769 110.853, 42.7264 110.853 Q 41.5759 110.853, 40.9474 111.598 Q 40.3295 112.344, 40.3295 113.835 Q 40.3295 115.359, 40.9474 116.126 Q 41.5759 116.893, 42.7264 116.893 \" fill=\"#FF0000\"/>\n<path class=\"atom-4\" d=\"M 61.195 46.8729 Q 61.195 45.0619, 62.0898 44.0499 Q 62.9847 43.0379, 64.6572 43.0379 Q 66.3297 43.0379, 67.2245 44.0499 Q 68.1194 45.0619, 68.1194 46.8729 Q 68.1194 48.7052, 67.2139 49.7492 Q 66.3084 50.7825, 64.6572 50.7825 Q 62.9953 50.7825, 62.0898 49.7492 Q 61.195 48.7159, 61.195 46.8729 M 64.6572 49.9303 Q 65.8077 49.9303, 66.4256 49.1633 Q 67.0541 48.3856, 67.0541 46.8729 Q 67.0541 45.3922, 66.4256 44.6465 Q 65.8077 43.8901, 64.6572 43.8901 Q 63.5067 43.8901, 62.8782 44.6358 Q 62.2603 45.3815, 62.2603 46.8729 Q 62.2603 48.3963, 62.8782 49.1633 Q 63.5067 49.9303, 64.6572 49.9303 \" fill=\"#FF0000\"/>\n<path class=\"atom-4\" d=\"M 69.0249 43.1231 L 70.0476 43.1231 L 70.0476 46.3296 L 73.9039 46.3296 L 73.9039 43.1231 L 74.9266 43.1231 L 74.9266 50.6654 L 73.9039 50.6654 L 73.9039 47.1819 L 70.0476 47.1819 L 70.0476 50.6654 L 69.0249 50.6654 L 69.0249 43.1231 \" fill=\"#FF0000\"/>\n<path class=\"atom-6\" d=\"M 85.386 113.052 Q 85.386 111.242, 86.2808 110.229 Q 87.1757 109.217, 88.8482 109.217 Q 90.5207 109.217, 91.4155 110.229 Q 92.3104 111.242, 92.3104 113.052 Q 92.3104 114.885, 91.4049 115.929 Q 90.4994 116.962, 88.8482 116.962 Q 87.1863 116.962, 86.2808 115.929 Q 85.386 114.895, 85.386 113.052 M 88.8482 116.11 Q 89.9987 116.11, 90.6166 115.343 Q 91.2451 114.565, 91.2451 113.052 Q 91.2451 111.572, 90.6166 110.826 Q 89.9987 110.07, 88.8482 110.07 Q 87.6977 110.07, 87.0692 110.815 Q 86.4513 111.561, 86.4513 113.052 Q 86.4513 114.576, 87.0692 115.343 Q 87.6977 116.11, 88.8482 116.11 \" fill=\"#FF0000\"/>\n<path class=\"atom-6\" d=\"M 93.2159 109.303 L 94.2386 109.303 L 94.2386 112.509 L 98.0949 112.509 L 98.0949 109.303 L 99.1176 109.303 L 99.1176 116.845 L 98.0949 116.845 L 98.0949 113.361 L 94.2386 113.361 L 94.2386 116.845 L 93.2159 116.845 L 93.2159 109.303 \" fill=\"#FF0000\"/>\n<path class=\"atom-8\" d=\"M 107.317 46.09 Q 107.317 44.279, 108.212 43.2669 Q 109.106 42.2549, 110.779 42.2549 Q 112.451 42.2549, 113.346 43.2669 Q 114.241 44.279, 114.241 46.09 Q 114.241 47.9223, 113.336 48.9663 Q 112.43 49.9996, 110.779 49.9996 Q 109.117 49.9996, 108.212 48.9663 Q 107.317 47.9329, 107.317 46.09 M 110.779 49.1474 Q 111.929 49.1474, 112.547 48.3803 Q 113.176 47.6027, 113.176 46.09 Q 113.176 44.6092, 112.547 43.8635 Q 111.929 43.1072, 110.779 43.1072 Q 109.628 43.1072, 109 43.8529 Q 108.382 44.5986, 108.382 46.09 Q 108.382 47.6133, 109 48.3803 Q 109.628 49.1474, 110.779 49.1474 \" fill=\"#FF0000\"/>\n<path class=\"atom-8\" d=\"M 115.147 42.3401 L 116.169 42.3401 L 116.169 45.5467 L 120.026 45.5467 L 120.026 42.3401 L 121.048 42.3401 L 121.048 49.8824 L 120.026 49.8824 L 120.026 46.3989 L 116.169 46.3989 L 116.169 49.8824 L 115.147 49.8824 L 115.147 42.3401 \" fill=\"#FF0000\"/>\n<path class=\"atom-10\" d=\"M 131.508 112.27 Q 131.508 110.459, 132.403 109.447 Q 133.297 108.434, 134.97 108.434 Q 136.642 108.434, 137.537 109.447 Q 138.432 110.459, 138.432 112.27 Q 138.432 114.102, 137.527 115.146 Q 136.621 116.179, 134.97 116.179 Q 133.308 116.179, 132.403 115.146 Q 131.508 114.112, 131.508 112.27 M 134.97 115.327 Q 136.12 115.327, 136.738 114.56 Q 137.367 113.782, 137.367 112.27 Q 137.367 110.789, 136.738 110.043 Q 136.12 109.287, 134.97 109.287 Q 133.819 109.287, 133.191 110.032 Q 132.573 110.778, 132.573 112.27 Q 132.573 113.793, 133.191 114.56 Q 133.819 115.327, 134.97 115.327 \" fill=\"#FF0000\"/>\n<path class=\"atom-12\" d=\"M 177.177 84.8582 Q 177.177 83.0472, 178.072 82.0351 Q 178.967 81.0231, 180.64 81.0231 Q 182.312 81.0231, 183.207 82.0351 Q 184.102 83.0472, 184.102 84.8582 Q 184.102 86.6905, 183.196 87.7344 Q 182.291 88.7678, 180.64 88.7678 Q 178.978 88.7678, 178.072 87.7344 Q 177.177 86.7011, 177.177 84.8582 M 180.64 87.9155 Q 181.79 87.9155, 182.408 87.1485 Q 183.037 86.3709, 183.037 84.8582 Q 183.037 83.3774, 182.408 82.6317 Q 181.79 81.8753, 180.64 81.8753 Q 179.489 81.8753, 178.861 82.621 Q 178.243 83.3667, 178.243 84.8582 Q 178.243 86.3815, 178.861 87.1485 Q 179.489 87.9155, 180.64 87.9155 \" fill=\"#FF0000\"/>\n<path class=\"atom-12\" d=\"M 185.007 81.1083 L 186.03 81.1083 L 186.03 84.3149 L 189.886 84.3149 L 189.886 81.1083 L 190.909 81.1083 L 190.909 88.6506 L 189.886 88.6506 L 189.886 85.1671 L 186.03 85.1671 L 186.03 88.6506 L 185.007 88.6506 L 185.007 81.1083 \" fill=\"#FF0000\"/>\n<path d=\"M 18.2242 176.211 L 19.2969 176.211 L 16.5172 184.377 L 15.1561 184.377 L 12.4803 176.211 L 13.5875 176.211 L 15.8597 183.178 L 18.2242 176.211 \" fill=\"#000000\"/>\n<path d=\"M 19.8274 181.401 Q 19.8274 179.96, 20.5541 179.152 Q 21.2922 178.345, 22.6417 178.345 Q 23.9912 178.345, 24.7179 179.152 Q 25.456 179.96, 25.456 181.401 Q 25.456 182.843, 24.7179 183.662 Q 23.9912 184.469, 22.6417 184.469 Q 21.2922 184.469, 20.5541 183.662 Q 19.8274 182.843, 19.8274 181.401 M 20.9347 181.401 Q 20.9347 182.486, 21.373 183.051 Q 21.8228 183.616, 22.6417 183.616 Q 23.4606 183.616, 23.8989 183.051 Q 24.3488 182.486, 24.3488 181.401 Q 24.3488 180.317, 23.8989 179.764 Q 23.4606 179.198, 22.6417 179.198 Q 21.8228 179.198, 21.373 179.764 Q 20.9347 180.317, 20.9347 181.401 \" fill=\"#000000\"/>\n<path d=\"M 27.313 178.449 L 27.4399 179.268 Q 28.0627 178.345, 29.0777 178.345 Q 29.4007 178.345, 29.839 178.46 L 29.666 179.429 Q 29.17 179.314, 28.8932 179.314 Q 28.4087 179.314, 28.0858 179.51 Q 27.7744 179.694, 27.5206 180.144 L 27.5206 184.377 L 26.4364 184.377 L 26.4364 178.449 L 27.313 178.449 \" fill=\"#000000\"/>\n<path d=\"M 33.9105 178.345 Q 34.8563 178.345, 35.3522 178.887 Q 35.8597 179.429, 35.8597 180.456 L 35.8597 184.377 L 34.7755 184.377 L 34.7755 180.536 Q 34.7755 179.833, 34.4987 179.521 Q 34.2334 179.198, 33.6337 179.198 Q 33.0916 179.198, 32.6417 179.452 Q 32.1919 179.694, 31.9036 180.133 L 31.9036 184.377 L 30.8194 184.377 L 30.8194 175.623 L 31.9036 175.623 L 31.9036 179.198 Q 32.6879 178.345, 33.9105 178.345 \" fill=\"#000000\"/>\n<path d=\"M 36.3903 181.401 Q 36.3903 179.948, 37.1169 179.152 Q 37.8436 178.345, 39.17 178.345 Q 40.4733 178.345, 41.05 179.129 Q 41.6383 179.902, 41.6383 181.367 L 41.6383 181.551 L 37.4976 181.551 Q 37.5206 182.555, 37.9704 183.085 Q 38.4203 183.616, 39.2623 183.616 Q 39.7236 183.616, 40.1504 183.512 Q 40.5771 183.397, 41.0962 183.166 L 41.4076 183.904 Q 40.8194 184.204, 40.2888 184.343 Q 39.7582 184.469, 39.2046 184.469 Q 37.8666 184.469, 37.1285 183.662 Q 36.3903 182.855, 36.3903 181.401 M 39.17 179.198 Q 38.4895 179.198, 38.0743 179.591 Q 37.6706 179.983, 37.5437 180.744 L 40.4964 180.744 Q 40.4157 179.948, 40.0927 179.579 Q 39.7698 179.198, 39.17 179.198 \" fill=\"#000000\"/>\n<path d=\"M 43.4952 178.449 L 43.6221 179.268 Q 44.245 178.345, 45.26 178.345 Q 45.5829 178.345, 46.0212 178.46 L 45.8482 179.429 Q 45.3522 179.314, 45.0754 179.314 Q 44.591 179.314, 44.268 179.51 Q 43.9566 179.694, 43.7029 180.144 L 43.7029 184.377 L 42.6187 184.377 L 42.6187 178.449 L 43.4952 178.449 \" fill=\"#000000\"/>\n<path d=\"M 51.9382 178.437 L 51.9382 184.723 Q 51.9382 187.272, 49.2392 187.272 Q 47.9358 187.272, 46.7709 186.672 L 47.14 185.877 Q 47.7628 186.188, 48.2127 186.303 Q 48.6625 186.419, 49.2392 186.419 Q 50.1042 186.419, 50.4733 186.027 Q 50.854 185.646, 50.854 184.746 L 50.854 183.708 Q 50.2311 184.469, 49.1585 184.469 Q 47.9243 184.469, 47.2323 183.708 Q 46.5518 182.935, 46.5518 181.505 Q 46.5518 180.017, 47.3591 179.187 Q 48.1781 178.345, 49.5967 178.345 Q 50.3465 178.345, 51.0385 178.564 L 51.0731 178.437 L 51.9382 178.437 M 49.2277 183.616 Q 49.8274 183.616, 50.2542 183.293 Q 50.6925 182.958, 50.854 182.37 L 50.854 179.371 Q 50.2657 179.198, 49.6083 179.198 Q 48.6971 179.198, 48.1781 179.81 Q 47.659 180.409, 47.659 181.505 Q 47.659 182.52, 48.0627 183.074 Q 48.4779 183.616, 49.2277 183.616 \" fill=\"#000000\"/>\n<path d=\"M 52.4687 181.401 Q 52.4687 179.948, 53.1954 179.152 Q 53.922 178.345, 55.2484 178.345 Q 56.5518 178.345, 57.1285 179.129 Q 57.7167 179.902, 57.7167 181.367 L 57.7167 181.551 L 53.576 181.551 Q 53.5991 182.555, 54.0489 183.085 Q 54.4987 183.616, 55.3407 183.616 Q 55.8021 183.616, 56.2288 183.512 Q 56.6556 183.397, 57.1746 183.166 L 57.486 183.904 Q 56.8978 184.204, 56.3672 184.343 Q 55.8367 184.469, 55.283 184.469 Q 53.9451 184.469, 53.2069 183.662 Q 52.4687 182.855, 52.4687 181.401 M 55.2484 179.198 Q 54.5679 179.198, 54.1527 179.591 Q 53.749 179.983, 53.6221 180.744 L 56.5748 180.744 Q 56.4941 179.948, 56.1711 179.579 Q 55.8482 179.198, 55.2484 179.198 \" fill=\"#000000\"/>\n<path d=\"M 58.6279 183.155 Q 59.1469 183.374, 59.516 183.478 Q 59.8966 183.581, 60.3003 183.581 Q 60.8194 183.581, 61.1077 183.362 Q 61.4076 183.143, 61.4076 182.716 Q 61.4076 182.451, 61.2461 182.29 Q 61.0962 182.116, 60.9001 182.036 Q 60.7155 181.955, 60.1965 181.782 Q 60.1158 181.759, 59.5852 181.574 Q 59.0546 181.39, 58.7663 180.998 Q 58.4895 180.606, 58.4895 180.029 Q 58.4895 179.314, 59.0431 178.829 Q 59.5967 178.345, 60.6694 178.345 Q 61.1192 178.345, 61.5114 178.449 Q 61.9151 178.552, 62.3534 178.725 L 62.065 179.579 Q 61.6844 179.429, 61.3499 179.337 Q 61.027 179.245, 60.6694 179.245 Q 60.1273 179.245, 59.8505 179.464 Q 59.5737 179.671, 59.5737 180.017 Q 59.5737 180.34, 59.7928 180.502 Q 60.012 180.652, 60.4964 180.825 Q 60.6233 180.859, 60.7271 180.905 L 61.0039 181.009 Q 61.4883 181.171, 61.7767 181.332 Q 62.0766 181.494, 62.2842 181.828 Q 62.4918 182.151, 62.4918 182.693 Q 62.4918 183.547, 61.8805 184.02 Q 61.2807 184.481, 60.3119 184.481 Q 59.7467 184.481, 59.2623 184.366 Q 58.7778 184.239, 58.2934 184.031 L 58.6279 183.155 \" fill=\"#000000\"/>\n<path d=\"M 62.9993 182.774 Q 62.9993 181.828, 63.7605 181.309 Q 64.5218 180.79, 65.9174 180.79 L 66.794 180.79 L 66.794 180.559 Q 66.794 179.821, 66.4826 179.51 Q 66.1827 179.198, 65.4445 179.198 Q 64.9716 179.198, 64.6025 179.291 Q 64.2334 179.371, 63.6567 179.625 L 63.3338 178.875 Q 64.418 178.345, 65.4676 178.345 Q 66.7248 178.345, 67.3015 178.887 Q 67.8782 179.418, 67.8782 180.582 L 67.8782 184.377 L 67.0362 184.377 Q 67.0247 184.331, 66.9901 184.158 Q 66.9555 183.973, 66.8863 183.685 Q 66.0558 184.516, 64.9485 184.516 Q 64.0604 184.516, 63.5298 184.043 Q 62.9993 183.57, 62.9993 182.774 M 64.0835 182.751 Q 64.0835 183.189, 64.3603 183.431 Q 64.6371 183.662, 65.1561 183.662 Q 65.6175 183.662, 66.0558 183.454 Q 66.4941 183.235, 66.794 182.866 L 66.794 181.597 L 65.9866 181.597 Q 65.0408 181.597, 64.5564 181.886 Q 64.0835 182.174, 64.0835 182.751 \" fill=\"#000000\"/>\n<path d=\"M 73.7951 178.437 L 73.7951 184.723 Q 73.7951 187.272, 71.0962 187.272 Q 69.7928 187.272, 68.6279 186.672 L 68.997 185.877 Q 69.6198 186.188, 70.0696 186.303 Q 70.5195 186.419, 71.0962 186.419 Q 71.9612 186.419, 72.3303 186.027 Q 72.7109 185.646, 72.7109 184.746 L 72.7109 183.708 Q 72.0881 184.469, 71.0154 184.469 Q 69.7813 184.469, 69.0892 183.708 Q 68.4087 182.935, 68.4087 181.505 Q 68.4087 180.017, 69.2161 179.187 Q 70.035 178.345, 71.4537 178.345 Q 72.2034 178.345, 72.8955 178.564 L 72.9301 178.437 L 73.7951 178.437 M 71.0846 183.616 Q 71.6844 183.616, 72.1112 183.293 Q 72.5495 182.958, 72.7109 182.37 L 72.7109 179.371 Q 72.1227 179.198, 71.4653 179.198 Q 70.5541 179.198, 70.035 179.81 Q 69.516 180.409, 69.516 181.505 Q 69.516 182.52, 69.9197 183.074 Q 70.3349 183.616, 71.0846 183.616 \" fill=\"#000000\"/>\n<path d=\"M 74.1296 179.279 L 74.1296 178.449 L 75.26 178.449 L 75.4445 176.719 L 76.2519 176.719 L 76.2519 178.449 L 78.0627 178.449 L 78.0627 179.279 L 76.2519 179.279 L 76.2519 182.555 Q 76.2519 183.581, 77.1169 183.581 Q 77.463 183.581, 77.9704 183.42 L 78.155 184.181 Q 77.5206 184.446, 76.9209 184.446 Q 76.1481 184.446, 75.6521 183.985 Q 75.1677 183.524, 75.1677 182.612 L 75.1677 179.279 L 74.1296 179.279 \" fill=\"#000000\"/>\n<path d=\"M 78.6856 181.401 Q 78.6856 179.948, 79.4122 179.152 Q 80.1388 178.345, 81.4653 178.345 Q 82.7686 178.345, 83.3453 179.129 Q 83.9335 179.902, 83.9335 181.367 L 83.9335 181.551 L 79.7928 181.551 Q 79.8159 182.555, 80.2657 183.085 Q 80.7155 183.616, 81.5575 183.616 Q 82.0189 183.616, 82.4457 183.512 Q 82.8724 183.397, 83.3914 183.166 L 83.7029 183.904 Q 83.1146 184.204, 82.5841 184.343 Q 82.0535 184.469, 81.4999 184.469 Q 80.1619 184.469, 79.4237 183.662 Q 78.6856 182.855, 78.6856 181.401 M 81.4653 179.198 Q 80.7848 179.198, 80.3695 179.591 Q 79.9658 179.983, 79.839 180.744 L 82.7917 180.744 Q 82.7109 179.948, 82.388 179.579 Q 82.065 179.198, 81.4653 179.198 \" fill=\"#000000\"/>\n<path d=\"\" fill=\"#000000\"/>\n<path d=\"M 97.3015 176.223 L 98.4087 176.223 L 96.2288 184.377 L 94.5564 184.377 L 92.7801 177.572 L 90.9924 184.377 L 89.3199 184.377 L 87.14 176.223 L 88.2588 176.223 L 90.1734 183.362 L 92.0535 176.223 L 93.4952 176.223 L 95.3753 183.385 L 97.3015 176.223 \" fill=\"#000000\"/>\n<path d=\"M 98.9162 182.774 Q 98.9162 181.828, 99.6775 181.309 Q 100.439 180.79, 101.834 180.79 L 102.711 180.79 L 102.711 180.559 Q 102.711 179.821, 102.4 179.51 Q 102.1 179.198, 101.361 179.198 Q 100.889 179.198, 100.519 179.291 Q 100.15 179.371, 99.5737 179.625 L 99.2507 178.875 Q 100.335 178.345, 101.385 178.345 Q 102.642 178.345, 103.218 178.887 Q 103.795 179.418, 103.795 180.582 L 103.795 184.377 L 102.953 184.377 Q 102.942 184.331, 102.907 184.158 Q 102.872 183.973, 102.803 183.685 Q 101.973 184.516, 100.865 184.516 Q 99.9774 184.516, 99.4468 184.043 Q 98.9162 183.57, 98.9162 182.774 M 100 182.751 Q 100 183.189, 100.277 183.431 Q 100.554 183.662, 101.073 183.662 Q 101.534 183.662, 101.973 183.454 Q 102.411 183.235, 102.711 182.866 L 102.711 181.597 L 101.904 181.597 Q 100.958 181.597, 100.473 181.886 Q 100 182.174, 100 182.751 \" fill=\"#000000\"/>\n<path d=\"M 107.867 178.345 Q 108.812 178.345, 109.308 178.887 Q 109.816 179.429, 109.816 180.456 L 109.816 184.377 L 108.732 184.377 L 108.732 180.536 Q 108.732 179.833, 108.455 179.521 Q 108.19 179.198, 107.59 179.198 Q 107.048 179.198, 106.598 179.452 Q 106.148 179.694, 105.86 180.133 L 105.86 184.377 L 104.776 184.377 L 104.776 175.623 L 105.86 175.623 L 105.86 179.198 Q 106.644 178.345, 107.867 178.345 \" fill=\"#000000\"/>\n<path d=\"M 111.673 178.449 L 111.8 179.268 Q 112.423 178.345, 113.438 178.345 Q 113.761 178.345, 114.199 178.46 L 114.026 179.429 Q 113.53 179.314, 113.253 179.314 Q 112.769 179.314, 112.446 179.51 Q 112.134 179.694, 111.88 180.144 L 111.88 184.377 L 110.796 184.377 L 110.796 178.449 L 111.673 178.449 \" fill=\"#000000\"/>\n<path d=\"M 115.11 183.155 Q 115.629 183.374, 115.998 183.478 Q 116.379 183.581, 116.782 183.581 Q 117.301 183.581, 117.59 183.362 Q 117.89 183.143, 117.89 182.716 Q 117.89 182.451, 117.728 182.29 Q 117.578 182.116, 117.382 182.036 Q 117.198 181.955, 116.679 181.782 Q 116.598 181.759, 116.067 181.574 Q 115.537 181.39, 115.248 180.998 Q 114.972 180.606, 114.972 180.029 Q 114.972 179.314, 115.525 178.829 Q 116.079 178.345, 117.152 178.345 Q 117.601 178.345, 117.994 178.449 Q 118.397 178.552, 118.836 178.725 L 118.547 179.579 Q 118.167 179.429, 117.832 179.337 Q 117.509 179.245, 117.152 179.245 Q 116.609 179.245, 116.333 179.464 Q 116.056 179.671, 116.056 180.017 Q 116.056 180.34, 116.275 180.502 Q 116.494 180.652, 116.979 180.825 Q 117.105 180.859, 117.209 180.905 L 117.486 181.009 Q 117.97 181.171, 118.259 181.332 Q 118.559 181.494, 118.766 181.828 Q 118.974 182.151, 118.974 182.693 Q 118.974 183.547, 118.363 184.02 Q 117.763 184.481, 116.794 184.481 Q 116.229 184.481, 115.744 184.366 Q 115.26 184.239, 114.776 184.031 L 115.11 183.155 \" fill=\"#000000\"/>\n<path d=\"M 119.504 181.401 Q 119.504 179.971, 120.22 179.164 Q 120.935 178.345, 122.342 178.345 Q 123.691 178.345, 124.395 179.325 L 123.668 179.867 Q 123.391 179.533, 123.068 179.371 Q 122.757 179.198, 122.342 179.198 Q 121.523 179.198, 121.062 179.764 Q 120.612 180.317, 120.612 181.401 Q 120.612 182.497, 121.073 183.062 Q 121.546 183.616, 122.411 183.616 Q 122.895 183.616, 123.23 183.512 Q 123.564 183.397, 123.98 183.212 L 124.28 183.95 Q 123.426 184.446, 122.33 184.446 Q 120.935 184.446, 120.22 183.639 Q 119.504 182.832, 119.504 181.401 \" fill=\"#000000\"/>\n<path d=\"M 128.466 178.345 Q 129.412 178.345, 129.908 178.887 Q 130.416 179.429, 130.416 180.456 L 130.416 184.377 L 129.331 184.377 L 129.331 180.536 Q 129.331 179.833, 129.055 179.521 Q 128.789 179.198, 128.19 179.198 Q 127.647 179.198, 127.198 179.452 Q 126.748 179.694, 126.459 180.133 L 126.459 184.377 L 125.375 184.377 L 125.375 175.623 L 126.459 175.623 L 126.459 179.198 Q 127.244 178.345, 128.466 178.345 \" fill=\"#000000\"/>\n<path d=\"M 130.946 181.401 Q 130.946 179.948, 131.673 179.152 Q 132.4 178.345, 133.726 178.345 Q 135.029 178.345, 135.606 179.129 Q 136.194 179.902, 136.194 181.367 L 136.194 181.551 L 132.053 181.551 Q 132.077 182.555, 132.526 183.085 Q 132.976 183.616, 133.818 183.616 Q 134.28 183.616, 134.706 183.512 Q 135.133 183.397, 135.652 183.166 L 135.964 183.904 Q 135.375 184.204, 134.845 184.343 Q 134.314 184.469, 133.761 184.469 Q 132.423 184.469, 131.684 183.662 Q 130.946 182.855, 130.946 181.401 M 133.726 179.198 Q 133.045 179.198, 132.63 179.591 Q 132.227 179.983, 132.1 180.744 L 135.052 180.744 Q 134.972 179.948, 134.649 179.579 Q 134.326 179.198, 133.726 179.198 \" fill=\"#000000\"/>\n<path d=\"M 137.186 176.211 L 138.247 176.211 L 138.247 177.215 L 137.186 177.215 L 137.186 176.211 M 137.186 178.449 L 138.247 178.449 L 138.247 184.377 L 137.186 184.377 L 137.186 178.449 \" fill=\"#000000\"/>\n<path d=\"M 142.284 178.345 Q 143.23 178.345, 143.726 178.887 Q 144.233 179.429, 144.233 180.456 L 144.233 184.377 L 143.149 184.377 L 143.149 180.536 Q 143.149 179.833, 142.872 179.521 Q 142.607 179.198, 142.007 179.198 Q 141.465 179.198, 141.015 179.452 Q 140.566 179.694, 140.277 180.133 L 140.277 184.377 L 139.193 184.377 L 139.193 178.449 L 140.081 178.449 L 140.208 179.279 Q 141.004 178.345, 142.284 178.345 \" fill=\"#000000\"/>\n<path d=\"M 145.225 175.623 L 146.286 175.623 L 146.286 184.377 L 145.225 184.377 L 145.225 175.623 \" fill=\"#000000\"/>\n<path d=\"M 147.278 176.211 L 148.34 176.211 L 148.34 177.215 L 147.278 177.215 L 147.278 176.211 M 147.278 178.449 L 148.34 178.449 L 148.34 184.377 L 147.278 184.377 L 147.278 178.449 \" fill=\"#000000\"/>\n<path d=\"M 148.87 181.401 Q 148.87 179.971, 149.585 179.164 Q 150.3 178.345, 151.707 178.345 Q 153.057 178.345, 153.761 179.325 L 153.034 179.867 Q 152.757 179.533, 152.434 179.371 Q 152.123 179.198, 151.707 179.198 Q 150.889 179.198, 150.427 179.764 Q 149.977 180.317, 149.977 181.401 Q 149.977 182.497, 150.439 183.062 Q 150.912 183.616, 151.777 183.616 Q 152.261 183.616, 152.596 183.512 Q 152.93 183.397, 153.345 183.212 L 153.645 183.95 Q 152.792 184.446, 151.696 184.446 Q 150.3 184.446, 149.585 183.639 Q 148.87 182.832, 148.87 181.401 \" fill=\"#000000\"/>\n<path d=\"M 157.832 178.345 Q 158.778 178.345, 159.274 178.887 Q 159.781 179.429, 159.781 180.456 L 159.781 184.377 L 158.697 184.377 L 158.697 180.536 Q 158.697 179.833, 158.42 179.521 Q 158.155 179.198, 157.555 179.198 Q 157.013 179.198, 156.563 179.452 Q 156.113 179.694, 155.825 180.133 L 155.825 184.377 L 154.741 184.377 L 154.741 175.623 L 155.825 175.623 L 155.825 179.198 Q 156.609 178.345, 157.832 178.345 \" fill=\"#000000\"/>\n<path d=\"M 160.762 184.377 L 160.762 175.623 L 161.846 175.623 L 161.846 184.377 L 160.762 184.377 M 163.276 180.952 L 165.814 184.377 L 164.533 184.377 L 162.03 181.009 L 164.164 178.449 L 165.387 178.449 L 163.276 180.952 \" fill=\"#000000\"/>\n<path d=\"M 166.344 181.401 Q 166.344 179.948, 167.071 179.152 Q 167.797 178.345, 169.124 178.345 Q 170.427 178.345, 171.004 179.129 Q 171.592 179.902, 171.592 181.367 L 171.592 181.551 L 167.451 181.551 Q 167.474 182.555, 167.924 183.085 Q 168.374 183.616, 169.216 183.616 Q 169.677 183.616, 170.104 183.512 Q 170.531 183.397, 171.05 183.166 L 171.361 183.904 Q 170.773 184.204, 170.243 184.343 Q 169.712 184.469, 169.158 184.469 Q 167.821 184.469, 167.082 183.662 Q 166.344 182.855, 166.344 181.401 M 169.124 179.198 Q 168.443 179.198, 168.028 179.591 Q 167.624 179.983, 167.498 180.744 L 170.45 180.744 Q 170.37 179.948, 170.047 179.579 Q 169.724 179.198, 169.124 179.198 \" fill=\"#000000\"/>\n<path d=\"M 172.584 176.211 L 173.645 176.211 L 173.645 177.215 L 172.584 177.215 L 172.584 176.211 M 172.584 178.449 L 173.645 178.449 L 173.645 184.377 L 172.584 184.377 L 172.584 178.449 \" fill=\"#000000\"/>\n<path d=\"M 173.98 179.279 L 173.98 178.449 L 175.11 178.449 L 175.295 176.719 L 176.102 176.719 L 176.102 178.449 L 177.913 178.449 L 177.913 179.279 L 176.102 179.279 L 176.102 182.555 Q 176.102 183.581, 176.967 183.581 Q 177.313 183.581, 177.821 183.42 L 178.005 184.181 Q 177.371 184.446, 176.771 184.446 Q 175.998 184.446, 175.502 183.985 Q 175.018 183.524, 175.018 182.612 L 175.018 179.279 L 173.98 179.279 \" fill=\"#000000\"/>\n<path d=\"M 178.87 183.028 L 180.024 183.028 L 180.024 184.181 L 178.87 184.181 L 178.87 183.028 M 178.87 179.06 L 180.024 179.06 L 180.024 180.213 L 178.87 180.213 L 178.87 179.06 \" fill=\"#000000\"/>\n<path d=\"M 87.1655 195.871 Q 85.6661 195.871, 84.9164 194.764 Q 84.1782 193.656, 84.1782 191.684 Q 84.1782 189.712, 84.9164 188.616 Q 85.6546 187.52, 87.1655 187.52 Q 88.6765 187.52, 89.4146 188.616 Q 90.1528 189.712, 90.1528 191.684 Q 90.1528 193.656, 89.4031 194.764 Q 88.6649 195.871, 87.1655 195.871 M 87.1655 194.948 Q 88.0536 194.948, 88.5265 194.129 Q 88.9994 193.299, 88.9994 191.684 Q 88.9994 190.081, 88.5265 189.262 Q 88.0536 188.443, 87.1655 188.443 Q 86.2889 188.443, 85.8045 189.262 Q 85.3316 190.081, 85.3316 191.684 Q 85.3316 193.299, 85.8045 194.129 Q 86.2889 194.948, 87.1655 194.948 \" fill=\"#000000\"/>\n<path d=\"M 90.9025 194.625 L 92.0559 194.625 L 92.0559 195.779 L 90.9025 195.779 L 90.9025 194.625 \" fill=\"#000000\"/>\n<path d=\"M 95.7468 195.871 Q 94.2474 195.871, 93.4977 194.764 Q 92.7595 193.656, 92.7595 191.684 Q 92.7595 189.712, 93.4977 188.616 Q 94.2359 187.52, 95.7468 187.52 Q 97.2578 187.52, 97.996 188.616 Q 98.7341 189.712, 98.7341 191.684 Q 98.7341 193.656, 97.9844 194.764 Q 97.2463 195.871, 95.7468 195.871 M 95.7468 194.948 Q 96.6349 194.948, 97.1078 194.129 Q 97.5807 193.299, 97.5807 191.684 Q 97.5807 190.081, 97.1078 189.262 Q 96.6349 188.443, 95.7468 188.443 Q 94.8702 188.443, 94.3858 189.262 Q 93.9129 190.081, 93.9129 191.684 Q 93.9129 193.299, 94.3858 194.129 Q 94.8702 194.948, 95.7468 194.948 \" fill=\"#000000\"/>\n<path d=\"M 99.8068 194.856 L 101.595 194.856 L 101.595 188.754 L 99.6223 189.366 L 99.357 188.685 L 101.86 187.566 L 102.679 187.705 L 102.679 194.856 L 104.282 194.856 L 104.282 195.779 L 99.8068 195.779 L 99.8068 194.856 \" fill=\"#000000\"/>\n<path d=\"M 109.934 192.976 L 110.914 192.976 L 110.914 193.899 L 109.934 193.899 L 109.934 195.779 L 108.849 195.779 L 108.849 193.899 L 104.628 193.899 L 104.628 193.172 L 108.204 187.612 L 109.934 187.612 L 109.934 192.976 M 105.966 192.976 L 108.849 192.976 L 108.849 188.351 L 105.966 192.976 \" fill=\"#000000\"/>\n</svg>"
          },
          "metadata": {},
          "execution_count": 34
        }
      ],
      "source": [
        "falsch_klassifizierte=np.where(y_pred!=y)[0]\n",
        "Draw.MolsToGridImage(mols[falsch_klassifizierte],\n",
        "                     legends=[\"Vorhergesagte Wahrscheinlichkeit:\\n\"+str(np.round(x,3)) for x in y_hat[falsch_klassifizierte]],\n",
        "                     useSVG=True)"
      ]
    },
    {
      "cell_type": "markdown",
      "metadata": {
        "id": "T9joxC-pc_F5"
      },
      "source": [
        "## Y-Scrambling\n",
        "\n",
        "Was auffällt ist, dass die Wahrscheinlichkeiten für diese Moleküle meistens relativ nah an 0.5 sind. Das heißt, für diese Moleküle war sich das Modell nicht sehr sicher. Insgesamt wurden aber nur 19 Moleküle falsch klassifiziert, wir sollten uns also nicht all zu viele Sorgen machen.\n",
        "\n",
        "##### Das Problem:\n",
        "\n",
        "*Hat das Model wirklich gelernt, was wichtig ist für den MMP Assay. Oder hat das RF Modell unsere Daten einfach nur auswendig gelernt?*\n",
        "\n",
        "Wir können dies mit einem einfachen Test ausprobieren. Wir trainieren den RF noch einmal,zuvor vertauschen wir aber die `activity` Variable. Das heißt, die echten Messungen werden gemischt und neu auf die Moleküle verteilt. Dieser Prozess wird auch **Y-Scrambling** genannt. \n",
        "\n",
        "Angenommen unsere echten Daten sehen wie folgt aus:\n",
        "\n",
        "smiles|Deskriptor 1| Deskriptor 2|activity\n",
        "------|------------|-------------|--------\n",
        "SMILES 1|$x_{1,1}$ |$x_{1,2}$|$y_1$\n",
        "SMILES 2|$x_{2,1}$ |$x_{2,2}$|$y_2$\n",
        "SMILES 3|$x_{3,1}$ |$x_{3,2}$|$y_3$\n",
        "SMILES 4|$x_{4,1}$ |$x_{4,2}$|$y_4$\n",
        "\n",
        "Für jeden SMILES wurden 2 Deskriptoren berechnet. Wir haben auch die Aktivität($y_1$-$y_4$) für jedes Molekül aufgezeichnet. Die Aktivität $y_1$ ist die gemessene Aktivität von SMILES 1 usw.\n",
        "\n",
        "Nach dem *Y-scrambling* sehen unsere Daten so aus:\n",
        "\n",
        "smiles|Deskriptor 1| Deskriptor 2|activity\n",
        "------|------------|-------------|--------\n",
        "SMILES 1|$x_{1,1}$ |$x_{1,2}$|$y_2$\n",
        "SMILES 2|$x_{2,1}$ |$x_{2,2}$|$y_3$\n",
        "SMILES 3|$x_{3,1}$ |$x_{3,2}$|$y_4$\n",
        "SMILES 4|$x_{4,1}$ |$x_{4,2}$|$y_1$\n",
        "\n",
        "Die $y$ Werte wurden zufällig anderen Molekülen zugeordnet."
      ]
    },
    {
      "cell_type": "markdown",
      "metadata": {
        "id": "wV7YHkXpc_F5"
      },
      "source": [
        "Das Y-Scrambling führt dazu, dass die tatsächlichen Muster, die zwischen den `x` Variablen (also unseren Deskriptoren wie logP,...) und der Output Variable `y` bestehen, verloren gehen.  Das liegt daran, dass jetzt die Beziehung nur noch zufällig ist. Wenn unser Random Forest tatsächlich Muster lernt, anstatt die Daten auswendig zu lernen, dann sollte das Model auf diesem Datensatz schlechter funktionieren.\n",
        "\n",
        "Um dies auszuprobieren brauchen Sie die library `random`. Mit der Funktion `random.shuffle()` werden die Werte von `y` zufällig neu sortiert. Sie können dann nochmal das Random Forest Modell trainieren."
      ]
    },
    {
      "cell_type": "code",
      "execution_count": null,
      "metadata": {
        "id": "fkcR5gnZc_F5"
      },
      "outputs": [],
      "source": [
        "import random\n",
        "random.seed(15) #ein Seed stell sicher das Sie alle die selbe zufälligen Daten erhalten\n",
        "y_random=np.array(y) # erst speichern wir y in einem array\n",
        "random.shuffle(y_random) # dann shuffeln wir y-random, wir müssen diese Variable nicht extra speichern"
      ]
    },
    {
      "cell_type": "markdown",
      "metadata": {
        "id": "et4BVI2Ic_F5"
      },
      "source": [
        "Wir haben gerade die Aktivitätsinformation gemischt. Wir können jetzt ein Random Forest Model trainieren. Diesmal benutzen wir aber nicht `y`, sondern `y_random`."
      ]
    },
    {
      "cell_type": "code",
      "execution_count": null,
      "metadata": {
        "id": "5ck0RTRKc_F5"
      },
      "outputs": [],
      "source": [
        "# Das Model wird neu trainiert\n",
        "rf = RandomForestClassifier(n_estimators = 1000, random_state = 42)\n",
        "rf.fit(x, y_random) # Welcher y Variable brauchen Sie\n",
        "y_hat=rf.predict_proba(x)[:,1]"
      ]
    },
    {
      "cell_type": "markdown",
      "metadata": {
        "id": "xrm1yaNEc_F5"
      },
      "source": [
        "<details>\n",
        "    <summary><b>Lösung:</b></summary>\n",
        "\n",
        "```python\n",
        "rf = RandomForestClassifier(n_estimators = 1000, random_state = 42)\n",
        "rf.fit(x, y_random) # Welcher y Variable brauchen Sie\n",
        "y_hat=rf.predict_proba(x)[:,1]\n",
        "```\n",
        "</details>\n",
        "\n",
        "\n"
      ]
    },
    {
      "cell_type": "markdown",
      "metadata": {
        "id": "URTpuQeec_F5"
      },
      "source": [
        "Jetzt berechnen Sie erneut die Accuracy (achten Sie darauf, dass wir wieder `y_random` und nicht `y` für `y_true` benutzen):"
      ]
    },
    {
      "cell_type": "code",
      "execution_count": null,
      "metadata": {
        "id": "XegjhysCc_F6",
        "colab": {
          "base_uri": "https://localhost:8080/"
        },
        "outputId": "181cc341-4457-4bd3-b1d7-8128c9d37a88"
      },
      "outputs": [
        {
          "output_type": "execute_result",
          "data": {
            "text/plain": [
              "0.9229741763134461"
            ]
          },
          "metadata": {},
          "execution_count": 37
        }
      ],
      "source": [
        "y_pred = np.round(y_hat)\n",
        "accuracy(y_random, y_pred)"
      ]
    },
    {
      "cell_type": "markdown",
      "metadata": {
        "id": "111dBHsbc_F6"
      },
      "source": [
        "Tatsächlich verschlechtert sich die Genauigkeit nach dem Y-Scrambling. Aber trotzdem ist die Genauigkeit über 90 %. Das Random Forest Modell ist immer noch relativ gut im Vorhersagen der toxikologischen Bedenklichkeit, obwohl die Daten, die Sie benutzt haben, gar keinen Sinn mehr ergeben. Das Modell konnte gar nicht lernen, weil es gar nichts zu lernen gab. Also hat das RF Modell seine Genauigkeit nur durch das Auswendiglernen erreicht. \n",
        "\n",
        "Darum benutzt man **immer** einen Testdatensatz. Dieses Testset wird nicht im Training benutzt, und somit sieht das Model diese Moleküle bei der Bewertung zum ersten Mal. Auswendiglernen kann immer noch passieren, wird dem Model aber nicht bei dem Validierungsset helfen.  \n",
        "\n",
        "---\n",
        "Oft werden Datensätze nicht nur in Train/Testset geteilt, sondern in Train/Validierung/Testset.\n",
        "Die Modelle werden dann anhand des Validierungsset optimiert und nur das optimierte Model wird dann auf dem Testset getestet.\n",
        "In der Chemieinformatik wird auch manchmal das Validierungsset Testset genannt. Das eigentlich Testset heißt dann Externes Validierungsset.\n",
        "\n",
        "---\n",
        "Auch hier gibt es wieder Funktionen, die Ihnen die Arbeit abnehmen. `train_test_split` teilt die Daten in ein Test (hier Validierungsset) und ein Trainingset. Wir benutzen 80 % des Datensatzes für das Training und die restlichen für das Validierungsset. Die Moleküle werden dann zufällig zwischen den beiden Sets aufgeteilt. Danach werden die Daten wieder in `x` und `y` getrennt, diesmal aber für `train` und `test` separat.\n",
        "\n"
      ]
    },
    {
      "cell_type": "code",
      "execution_count": null,
      "metadata": {
        "id": "0pmfqkfTc_F6",
        "colab": {
          "base_uri": "https://localhost:8080/",
          "height": 35
        },
        "outputId": "5694b77f-d053-402a-947f-8d9c0575be33"
      },
      "outputs": [
        {
          "output_type": "execute_result",
          "data": {
            "text/plain": [
              "'Train Shape: (1796, 8), Test Shape: (450, 8)'"
            ],
            "application/vnd.google.colaboratory.intrinsic+json": {
              "type": "string"
            }
          },
          "metadata": {},
          "execution_count": 38
        }
      ],
      "source": [
        "train, test=train_test_split(aux_data,test_size= 0.2, train_size= 0.8, random_state=1234)\n",
        "\n",
        "train_x = train.iloc[:,:7]\n",
        "train_y = train.iloc[:,7]\n",
        "test_x = test.iloc[:,:7]\n",
        "test_y =  test.iloc[:,7]\n",
        "f\"Train Shape: {train.shape}, Test Shape: {test.shape}\""
      ]
    },
    {
      "cell_type": "markdown",
      "metadata": {
        "id": "vqkAW0rac_F6"
      },
      "source": [
        "Der Trainingssatz enthält nur noch 1796 Moleküle und das Testset 450. \n",
        "\n",
        "Wir trainieren zunächst den Random Forest nur mit den Trainingsdaten:"
      ]
    },
    {
      "cell_type": "code",
      "execution_count": null,
      "metadata": {
        "id": "xm8oBiB-c_F6",
        "colab": {
          "base_uri": "https://localhost:8080/"
        },
        "outputId": "90fcd2e1-a935-44ca-ee73-a4c8beab63da"
      },
      "outputs": [
        {
          "output_type": "execute_result",
          "data": {
            "text/plain": [
              "RandomForestClassifier(n_estimators=1000, random_state=42)"
            ]
          },
          "metadata": {},
          "execution_count": 39
        }
      ],
      "source": [
        "rf = RandomForestClassifier(n_estimators = 1000, random_state = 42)\n",
        "rf.fit(train_x, train_y)"
      ]
    },
    {
      "cell_type": "markdown",
      "metadata": {
        "id": "EAzVq2Iyc_F7"
      },
      "source": [
        "Die Vorhersagen machen wir aber nur für die Moleküle im Validerungsset."
      ]
    },
    {
      "cell_type": "code",
      "execution_count": null,
      "metadata": {
        "id": "cwy3Uw4Mc_F7"
      },
      "outputs": [],
      "source": [
        "y_hat=rf.predict_proba(test_x)[:,1]\n",
        "y_pred = np.round(y_hat)"
      ]
    },
    {
      "cell_type": "markdown",
      "metadata": {
        "id": "7tYKEMDUc_F7"
      },
      "source": [
        "Wir können hetzt auch die Genauigkeit berechnen. Welche Variable brauchen wir jetzt für `y_true`?"
      ]
    },
    {
      "cell_type": "code",
      "execution_count": null,
      "metadata": {
        "id": "_pYjnn9Yc_F7",
        "colab": {
          "base_uri": "https://localhost:8080/"
        },
        "outputId": "8b3135b5-b22f-4c75-9ed0-baf73bf5e6e2"
      },
      "outputs": [
        {
          "output_type": "execute_result",
          "data": {
            "text/plain": [
              "0.8111111111111111"
            ]
          },
          "metadata": {},
          "execution_count": 42
        }
      ],
      "source": [
        "accuracy(test_y, y_pred)"
      ]
    },
    {
      "cell_type": "markdown",
      "metadata": {
        "id": "CUBoX5TJc_F7"
      },
      "source": [
        "<details>\n",
        "    <summary><b>Lösung:</b></summary>\n",
        "\n",
        "```python\n",
        "accuracy(test_y, y_pred)\n",
        "```\n",
        "</details>"
      ]
    },
    {
      "cell_type": "markdown",
      "metadata": {
        "id": "osojw9yIc_F7"
      },
      "source": [
        "Die Genauigkeit hat sich um einiges verschlechtert, ist aber immer noch gut. Allerdings können wir uns diesmal sicher sein, dass die Performance nicht durch Auswendiglernen zustande kam, da das Model vorher nie diese Moleküle gesehen hat. Wenn wir jetzt den Y-Scrambling Test anwenden, sollte die Performance drastisch schlechter werden. \n",
        "Wir ersetzen die `aux_data.activity` mit den vorhin erstellten `y_random`. Das sind die gemischten `y` Werte und wiederholen die Analyse."
      ]
    },
    {
      "cell_type": "code",
      "execution_count": null,
      "metadata": {
        "id": "BZqV6H8Rc_F7"
      },
      "outputs": [],
      "source": [
        "aux_data.activity = y_random "
      ]
    },
    {
      "cell_type": "markdown",
      "metadata": {
        "id": "E_ICLX9wc_F7"
      },
      "source": [
        "Danach teilen wir wieder die Daten in Trainings- und Testset ein."
      ]
    },
    {
      "cell_type": "code",
      "execution_count": null,
      "metadata": {
        "id": "RZw6XwMzc_F7"
      },
      "outputs": [],
      "source": [
        "train_random, test_random=train_test_split(aux_data,test_size= 0.2, train_size= 0.8, random_state=1234)\n",
        "train_x_random = train_random.iloc[:,:7]\n",
        "train_y_random = train_random.iloc[:,7]\n",
        "test_x_random = test_random.iloc[:,:7]\n",
        "test_y_random =  test_random.iloc[:,7]"
      ]
    },
    {
      "cell_type": "markdown",
      "metadata": {
        "id": "7fffLzC-c_F8"
      },
      "source": [
        "Wir wiederholen wieder das Trainieren mit den randomisierten Daten. Danach lassen wir das Modell Vorhersagen für das Testset machen."
      ]
    },
    {
      "cell_type": "code",
      "execution_count": null,
      "metadata": {
        "id": "imkRBd5oc_F8"
      },
      "outputs": [],
      "source": [
        "# Train Model\n",
        "rf = RandomForestClassifier(n_estimators = 1000, random_state = 42)\n",
        "rf.fit(train_x_random, train_y_random)\n",
        "y_hat=rf.predict_proba(test_x_random)[:,1]"
      ]
    },
    {
      "cell_type": "markdown",
      "metadata": {
        "id": "XIDEFw8yc_F8"
      },
      "source": [
        "Als letztes berechnen wir noch die Genauigkeit. "
      ]
    },
    {
      "cell_type": "code",
      "execution_count": null,
      "metadata": {
        "id": "z1ODAO43c_F8",
        "colab": {
          "base_uri": "https://localhost:8080/"
        },
        "outputId": "278059ef-1f8a-4e80-99c6-f60730512a7f"
      },
      "outputs": [
        {
          "output_type": "execute_result",
          "data": {
            "text/plain": [
              "0.5266666666666666"
            ]
          },
          "metadata": {},
          "execution_count": 46
        }
      ],
      "source": [
        "y_pred = np.round(y_hat)\n",
        "accuracy(test_y_random, y_pred)"
      ]
    },
    {
      "cell_type": "markdown",
      "metadata": {
        "id": "6ibfLHN9c_F8"
      },
      "source": [
        "Mit dem Benutzen eines Testset fällt die Genauigkeit des Modells mit den Y-scrambled Daten drastisch auf ungefähr 50 %. Es ist nicht besser als ein Model, das einfach raten würde.\n",
        "Erst durch das Benutzen eines Testset konnten wir zeigen, dass das Modell etwas über das Auswendiglernen hinaus gelernt hat.\n",
        "\n",
        "Vor allem ging es darum zu zeigen, wie wichtig es ist, ein Model nicht auf dem Trainingsset zu bewerten. <br><br>\n",
        "Das Y-Scrambeling wird nur selten in der Praxis benutzt. Aber die OECD fordert zum Beispiel, einen Y-Scrambling Test für das Validieren von Quantitive Structure-activity Relationship (QSAR) Models."
      ]
    },
    {
      "cell_type": "markdown",
      "metadata": {
        "id": "FDqJfKMjc_F8"
      },
      "source": [
        "## Feature Importance\n",
        "\n",
        "Als letzten Schritt schauen wir uns noch einmal die Feature Importance an. Die Feature Importance beurteilt, wie wichtig die einzelnen Variablen zur Entscheidung sind. Abhängig von welchem Machine Learning Algorithmus man benutzt kann man dies relativ leicht einsehen. Wir trainieren zunächst erneut unsere RF, diesmal mit einem Datensplit."
      ]
    },
    {
      "cell_type": "code",
      "execution_count": null,
      "metadata": {
        "id": "VgIEQwwEc_F8"
      },
      "outputs": [],
      "source": [
        "aux_data.activity = data.activity\n",
        "\n",
        "train, test=train_test_split(aux_data,test_size= 0.2, train_size= 0.8, random_state=1234)\n",
        "train_x = train.iloc[:,:7]\n",
        "train_y = train.iloc[:,7]\n",
        "test_x = test.iloc[:,:7]\n",
        "test_y =  test.iloc[:,7]\n",
        "\n",
        "\n",
        "# Train Model\n",
        "rf = RandomForestClassifier(n_estimators = 1000, random_state = 42)\n",
        "rf.fit(train_x, train_y)\n",
        "y_hat=rf.predict_proba(test_x)[:,1]\n"
      ]
    },
    {
      "cell_type": "markdown",
      "metadata": {
        "id": "lSCZFN5xc_F8"
      },
      "source": [
        "In der nächsten Zelle trainieren wir zuerst noch einmal das Random Forest Modell (ohne y scrambling) und lassen uns dann in den letzten beiden Zeilen die Feature Importance anzeigen."
      ]
    },
    {
      "cell_type": "code",
      "execution_count": null,
      "metadata": {
        "id": "DK2otez2c_F8",
        "colab": {
          "base_uri": "https://localhost:8080/",
          "height": 283
        },
        "outputId": "85c84297-2d85-4430-9400-fd964716fa0e"
      },
      "outputs": [
        {
          "output_type": "execute_result",
          "data": {
            "text/plain": [
              "<matplotlib.axes._subplots.AxesSubplot at 0x7fb1886c9250>"
            ]
          },
          "metadata": {},
          "execution_count": 48
        },
        {
          "output_type": "display_data",
          "data": {
            "text/plain": [
              "<Figure size 432x288 with 1 Axes>"
            ],
            "image/png": "[encoded data removed]"
          },
          "metadata": {
            "needs_background": "light"
          }
        }
      ],
      "source": [
        "feat_importances = pd.Series(rf.feature_importances_, index=aux_data.columns.values[:-1])\n",
        "feat_importances.nlargest(20).nsmallest(20).plot(kind='barh')"
      ]
    },
    {
      "cell_type": "markdown",
      "metadata": {
        "id": "S4wtAtRzc_F9"
      },
      "source": [
        "Es wird deutlich ersichtlich, dass der LogP der wichtigste Parameter für die Bestimmung der Toxizität ist, während die Anzahl an H-Brücken-Donoren und -Akzeptoren weniger relevant ist. <br><br> Da wir für Menschen verständliche Deskriptoren als Features gewählt haben, können wir uns auch gut anschauen welchen Einfluss ein einzelner Parameter auf die Aktivität hat (das hätten wir auch tatsächlich schon vor dem Trainieren machen können). <br><br> Zuerst lassen wir uns die Aktivitätsverteilung in Abhängigkeit vom LogP anzeigen."
      ]
    },
    {
      "cell_type": "code",
      "execution_count": null,
      "metadata": {
        "id": "uyUQ5_NPc_F9",
        "colab": {
          "base_uri": "https://localhost:8080/",
          "height": 297
        },
        "outputId": "4891e678-b54b-4bea-b04f-7fd77d6bd582"
      },
      "outputs": [
        {
          "output_type": "execute_result",
          "data": {
            "text/plain": [
              "<matplotlib.axes._subplots.AxesSubplot at 0x7fb1885d5410>"
            ]
          },
          "metadata": {},
          "execution_count": 49
        },
        {
          "output_type": "display_data",
          "data": {
            "text/plain": [
              "<Figure size 432x288 with 1 Axes>"
            ],
            "image/png": "[encoded data removed]"
          },
          "metadata": {
            "needs_background": "light"
          }
        }
      ],
      "source": [
        "import seaborn as sns\n",
        "sns.kdeplot(aux_data.logP[aux_data.activity==1], color=\"red\")\n",
        "sns.kdeplot(aux_data.logP[aux_data.activity==0])"
      ]
    },
    {
      "cell_type": "markdown",
      "metadata": {
        "id": "tPaHDtGBc_F9"
      },
      "source": [
        "Hier sehen wir einen deutlichen Trend. Bei höherem LogP ist das Molekül wahrscheinlicher aktiv. <br> <br>Probieren sie das einmal selbst mit den anderen Deskriptoren aus (`hb_donors`, `hb_acceptors`, `rotable_bonds`, `mw`, `mr`, `tpsa`). Welche Deskriptoren zeigen außer dem LogP noch unterschiedlich verteilte Aktivitäten?"
      ]
    },
    {
      "cell_type": "markdown",
      "metadata": {
        "id": "Tz3QvMdqc_F9"
      },
      "source": [
        "# Übungsaufgabe \n",
        "\n",
        "Sie haben ja bereits Fingerprints als Molekülrepresentationen kennengelernt. Da diese einfach zu berechnen sind und immer eine fest definierte Länge haben, sind sie gut als Features für Machine Learning geeignet. Allerdings sind Fingerprints weniger leicht für Menschen zu interpretieren.\n",
        "\n",
        "Ihre Aufgabe wird es sein, nochmals ein Random Forest Modell zu trainieren. Diesmal werden Sie die Fingerprints als Input nehmen.\n",
        "\n",
        "<br><br>Für Sie wurde die `get_fingerprints()` Funktion schon vorgeschrieben. Mit der lassen sich Fingerprints aus den SMILES berechnen."
      ]
    },
    {
      "cell_type": "code",
      "execution_count": null,
      "metadata": {
        "scrolled": true,
        "id": "uNHRBXWac_F9",
        "colab": {
          "base_uri": "https://localhost:8080/",
          "height": 253
        },
        "outputId": "3194f685-187c-43cc-bd0e-85c8b0dbd70f"
      },
      "outputs": [
        {
          "output_type": "stream",
          "name": "stderr",
          "text": [
            "100%|██████████| 2246/2246 [00:04<00:00, 464.82it/s]\n"
          ]
        },
        {
          "output_type": "execute_result",
          "data": {
            "text/plain": [
              "   0  1  2  3  4  5  6  7  8  9  ...  2039  2040  2041  2042  2043  2044  \\\n",
              "0  0  1  0  0  0  0  0  0  0  0  ...     0     0     0     0     0     0   \n",
              "1  0  0  0  0  0  0  0  0  0  0  ...     0     0     0     0     0     0   \n",
              "2  0  0  0  0  0  0  0  0  0  0  ...     0     0     0     0     0     0   \n",
              "3  0  0  0  0  0  0  0  0  0  1  ...     0     1     0     0     0     0   \n",
              "4  0  1  0  0  0  0  0  0  0  0  ...     0     0     0     0     0     0   \n",
              "\n",
              "   2045  2046  2047  activity  \n",
              "0     0     0     0         0  \n",
              "1     0     0     0         1  \n",
              "2     0     0     0         1  \n",
              "3     0     0     0         1  \n",
              "4     0     0     0         0  \n",
              "\n",
              "[5 rows x 2049 columns]"
            ],
            "text/html": [
              "\n",
              "  <div id=\"df-bf684c10-5a90-4b8c-b3de-1da774927fd3\">\n",
              "    <div class=\"colab-df-container\">\n",
              "      <div>\n",
              "<style scoped>\n",
              "    .dataframe tbody tr th:only-of-type {\n",
              "        vertical-align: middle;\n",
              "    }\n",
              "\n",
              "    .dataframe tbody tr th {\n",
              "        vertical-align: top;\n",
              "    }\n",
              "\n",
              "    .dataframe thead th {\n",
              "        text-align: right;\n",
              "    }\n",
              "</style>\n",
              "<table border=\"1\" class=\"dataframe\">\n",
              "  <thead>\n",
              "    <tr style=\"text-align: right;\">\n",
              "      <th></th>\n",
              "      <th>0</th>\n",
              "      <th>1</th>\n",
              "      <th>2</th>\n",
              "      <th>3</th>\n",
              "      <th>4</th>\n",
              "      <th>5</th>\n",
              "      <th>6</th>\n",
              "      <th>7</th>\n",
              "      <th>8</th>\n",
              "      <th>9</th>\n",
              "      <th>...</th>\n",
              "      <th>2039</th>\n",
              "      <th>2040</th>\n",
              "      <th>2041</th>\n",
              "      <th>2042</th>\n",
              "      <th>2043</th>\n",
              "      <th>2044</th>\n",
              "      <th>2045</th>\n",
              "      <th>2046</th>\n",
              "      <th>2047</th>\n",
              "      <th>activity</th>\n",
              "    </tr>\n",
              "  </thead>\n",
              "  <tbody>\n",
              "    <tr>\n",
              "      <th>0</th>\n",
              "      <td>0</td>\n",
              "      <td>1</td>\n",
              "      <td>0</td>\n",
              "      <td>0</td>\n",
              "      <td>0</td>\n",
              "      <td>0</td>\n",
              "      <td>0</td>\n",
              "      <td>0</td>\n",
              "      <td>0</td>\n",
              "      <td>0</td>\n",
              "      <td>...</td>\n",
              "      <td>0</td>\n",
              "      <td>0</td>\n",
              "      <td>0</td>\n",
              "      <td>0</td>\n",
              "      <td>0</td>\n",
              "      <td>0</td>\n",
              "      <td>0</td>\n",
              "      <td>0</td>\n",
              "      <td>0</td>\n",
              "      <td>0</td>\n",
              "    </tr>\n",
              "    <tr>\n",
              "      <th>1</th>\n",
              "      <td>0</td>\n",
              "      <td>0</td>\n",
              "      <td>0</td>\n",
              "      <td>0</td>\n",
              "      <td>0</td>\n",
              "      <td>0</td>\n",
              "      <td>0</td>\n",
              "      <td>0</td>\n",
              "      <td>0</td>\n",
              "      <td>0</td>\n",
              "      <td>...</td>\n",
              "      <td>0</td>\n",
              "      <td>0</td>\n",
              "      <td>0</td>\n",
              "      <td>0</td>\n",
              "      <td>0</td>\n",
              "      <td>0</td>\n",
              "      <td>0</td>\n",
              "      <td>0</td>\n",
              "      <td>0</td>\n",
              "      <td>1</td>\n",
              "    </tr>\n",
              "    <tr>\n",
              "      <th>2</th>\n",
              "      <td>0</td>\n",
              "      <td>0</td>\n",
              "      <td>0</td>\n",
              "      <td>0</td>\n",
              "      <td>0</td>\n",
              "      <td>0</td>\n",
              "      <td>0</td>\n",
              "      <td>0</td>\n",
              "      <td>0</td>\n",
              "      <td>0</td>\n",
              "      <td>...</td>\n",
              "      <td>0</td>\n",
              "      <td>0</td>\n",
              "      <td>0</td>\n",
              "      <td>0</td>\n",
              "      <td>0</td>\n",
              "      <td>0</td>\n",
              "      <td>0</td>\n",
              "      <td>0</td>\n",
              "      <td>0</td>\n",
              "      <td>1</td>\n",
              "    </tr>\n",
              "    <tr>\n",
              "      <th>3</th>\n",
              "      <td>0</td>\n",
              "      <td>0</td>\n",
              "      <td>0</td>\n",
              "      <td>0</td>\n",
              "      <td>0</td>\n",
              "      <td>0</td>\n",
              "      <td>0</td>\n",
              "      <td>0</td>\n",
              "      <td>0</td>\n",
              "      <td>1</td>\n",
              "      <td>...</td>\n",
              "      <td>0</td>\n",
              "      <td>1</td>\n",
              "      <td>0</td>\n",
              "      <td>0</td>\n",
              "      <td>0</td>\n",
              "      <td>0</td>\n",
              "      <td>0</td>\n",
              "      <td>0</td>\n",
              "      <td>0</td>\n",
              "      <td>1</td>\n",
              "    </tr>\n",
              "    <tr>\n",
              "      <th>4</th>\n",
              "      <td>0</td>\n",
              "      <td>1</td>\n",
              "      <td>0</td>\n",
              "      <td>0</td>\n",
              "      <td>0</td>\n",
              "      <td>0</td>\n",
              "      <td>0</td>\n",
              "      <td>0</td>\n",
              "      <td>0</td>\n",
              "      <td>0</td>\n",
              "      <td>...</td>\n",
              "      <td>0</td>\n",
              "      <td>0</td>\n",
              "      <td>0</td>\n",
              "      <td>0</td>\n",
              "      <td>0</td>\n",
              "      <td>0</td>\n",
              "      <td>0</td>\n",
              "      <td>0</td>\n",
              "      <td>0</td>\n",
              "      <td>0</td>\n",
              "    </tr>\n",
              "  </tbody>\n",
              "</table>\n",
              "<p>5 rows × 2049 columns</p>\n",
              "</div>\n",
              "      <button class=\"colab-df-convert\" onclick=\"convertToInteractive('df-bf684c10-5a90-4b8c-b3de-1da774927fd3')\"\n",
              "              title=\"Convert this dataframe to an interactive table.\"\n",
              "              style=\"display:none;\">\n",
              "        \n",
              "  <svg xmlns=\"http://www.w3.org/2000/svg\" height=\"24px\"viewBox=\"0 0 24 24\"\n",
              "       width=\"24px\">\n",
              "    <path d=\"M0 0h24v24H0V0z\" fill=\"none\"/>\n",
              "    <path d=\"M18.56 5.44l.94 2.06.94-2.06 2.06-.94-2.06-.94-.94-2.06-.94 2.06-2.06.94zm-11 1L8.5 8.5l.94-2.06 2.06-.94-2.06-.94L8.5 2.5l-.94 2.06-2.06.94zm10 10l.94 2.06.94-2.06 2.06-.94-2.06-.94-.94-2.06-.94 2.06-2.06.94z\"/><path d=\"M17.41 7.96l-1.37-1.37c-.4-.4-.92-.59-1.43-.59-.52 0-1.04.2-1.43.59L10.3 9.45l-7.72 7.72c-.78.78-.78 2.05 0 2.83L4 21.41c.39.39.9.59 1.41.59.51 0 1.02-.2 1.41-.59l7.78-7.78 2.81-2.81c.8-.78.8-2.07 0-2.86zM5.41 20L4 18.59l7.72-7.72 1.47 1.35L5.41 20z\"/>\n",
              "  </svg>\n",
              "      </button>\n",
              "      \n",
              "  <style>\n",
              "    .colab-df-container {\n",
              "      display:flex;\n",
              "      flex-wrap:wrap;\n",
              "      gap: 12px;\n",
              "    }\n",
              "\n",
              "    .colab-df-convert {\n",
              "      background-color: #E8F0FE;\n",
              "      border: none;\n",
              "      border-radius: 50%;\n",
              "      cursor: pointer;\n",
              "      display: none;\n",
              "      fill: #1967D2;\n",
              "      height: 32px;\n",
              "      padding: 0 0 0 0;\n",
              "      width: 32px;\n",
              "    }\n",
              "\n",
              "    .colab-df-convert:hover {\n",
              "      background-color: #E2EBFA;\n",
              "      box-shadow: 0px 1px 2px rgba(60, 64, 67, 0.3), 0px 1px 3px 1px rgba(60, 64, 67, 0.15);\n",
              "      fill: #174EA6;\n",
              "    }\n",
              "\n",
              "    [theme=dark] .colab-df-convert {\n",
              "      background-color: #3B4455;\n",
              "      fill: #D2E3FC;\n",
              "    }\n",
              "\n",
              "    [theme=dark] .colab-df-convert:hover {\n",
              "      background-color: #434B5C;\n",
              "      box-shadow: 0px 1px 3px 1px rgba(0, 0, 0, 0.15);\n",
              "      filter: drop-shadow(0px 1px 2px rgba(0, 0, 0, 0.3));\n",
              "      fill: #FFFFFF;\n",
              "    }\n",
              "  </style>\n",
              "\n",
              "      <script>\n",
              "        const buttonEl =\n",
              "          document.querySelector('#df-bf684c10-5a90-4b8c-b3de-1da774927fd3 button.colab-df-convert');\n",
              "        buttonEl.style.display =\n",
              "          google.colab.kernel.accessAllowed ? 'block' : 'none';\n",
              "\n",
              "        async function convertToInteractive(key) {\n",
              "          const element = document.querySelector('#df-bf684c10-5a90-4b8c-b3de-1da774927fd3');\n",
              "          const dataTable =\n",
              "            await google.colab.kernel.invokeFunction('convertToInteractive',\n",
              "                                                     [key], {});\n",
              "          if (!dataTable) return;\n",
              "\n",
              "          const docLinkHtml = 'Like what you see? Visit the ' +\n",
              "            '<a target=\"_blank\" href=https://colab.research.google.com/notebooks/data_table.ipynb>data table notebook</a>'\n",
              "            + ' to learn more about interactive tables.';\n",
              "          element.innerHTML = '';\n",
              "          dataTable['output_type'] = 'display_data';\n",
              "          await google.colab.output.renderOutput(dataTable, element);\n",
              "          const docLink = document.createElement('div');\n",
              "          docLink.innerHTML = docLinkHtml;\n",
              "          element.appendChild(docLink);\n",
              "        }\n",
              "      </script>\n",
              "    </div>\n",
              "  </div>\n",
              "  "
            ]
          },
          "metadata": {},
          "execution_count": 50
        }
      ],
      "source": [
        "fps = get_fingerprints(data)\n",
        "fps[\"activity\"] = data.activity\n",
        "fps.head()"
      ]
    },
    {
      "cell_type": "markdown",
      "metadata": {
        "id": "swvCQ80Vc_F9"
      },
      "source": [
        "`fps` enthält insgesamt 2049 Spalten. 2048 davon sind die jeweiligen Bits des Fingerprints. Die letzte Spalte enthält die `activity`.\n",
        "\n",
        "Teilen Sie zunächst den Datensatz in `train` und `test`. 80 % der Daten sollen in das Trainingsset und 20 % in das Testset."
      ]
    },
    {
      "cell_type": "code",
      "execution_count": null,
      "metadata": {
        "id": "LFrIVwjsc_F9"
      },
      "outputs": [],
      "source": [
        "train, val=train_test_split(fps,test_size= 0.2 , train_size= 0.8, random_state=1234)\n",
        "\n",
        "train_x = fps.iloc[:,:2048]\n",
        "train_y = fps.iloc[:,2048]\n",
        "test_x = fps.iloc[:,:2048]\n",
        "test_y = fps.iloc[:,2048] "
      ]
    },
    {
      "cell_type": "markdown",
      "metadata": {
        "id": "7YTlU0gnc_F9"
      },
      "source": [
        "Nachdem Sie die Daten geteilt haben, trainieren Sie einen Random Forest Classifier mithilfe des Trainingsdatensatzes.\n",
        "Mit dem trainierten Modell klassifizieren Sie dann die Moleküle im Test Datensatz `test`."
      ]
    },
    {
      "cell_type": "code",
      "execution_count": null,
      "metadata": {
        "id": "-4HzuF7Hc_F9"
      },
      "outputs": [],
      "source": [
        "rf = RandomForestClassifier(n_estimators = 1000, random_state = 42)\n",
        "rf.fit(train_x.values, train_y.values)\n",
        "y_hat=rf.predict_proba(test_x)[:,1]"
      ]
    },
    {
      "cell_type": "markdown",
      "metadata": {
        "id": "gm7-iKnRc_F-"
      },
      "source": [
        "Berrechnen Sie den ROC-AUC, denken Sie daran, dass Sie vorher die Wahrscheinlichkeiten runden müssen."
      ]
    },
    {
      "cell_type": "code",
      "execution_count": null,
      "metadata": {
        "id": "RKsUzFsfc_F-",
        "colab": {
          "base_uri": "https://localhost:8080/"
        },
        "outputId": "3dc215c1-9c1f-44dd-99e8-e8c3145bd300"
      },
      "outputs": [
        {
          "output_type": "execute_result",
          "data": {
            "text/plain": [
              "0.9951024042742654"
            ]
          },
          "metadata": {},
          "execution_count": 59
        }
      ],
      "source": [
        "y_pred = np.round(y_hat)\n",
        "roc_auc_score(test_y,y_pred)"
      ]
    },
    {
      "cell_type": "markdown",
      "metadata": {
        "id": "Yd4o_DKwc_F-"
      },
      "source": [
        "Wir können uns auch wieder die Feature Importance anschauen:"
      ]
    },
    {
      "cell_type": "code",
      "execution_count": null,
      "metadata": {
        "id": "USOzvuZzc_F-",
        "colab": {
          "base_uri": "https://localhost:8080/",
          "height": 299
        },
        "outputId": "d0b08d12-1f5f-497a-8f3a-9bbda1a869af"
      },
      "outputs": [
        {
          "output_type": "execute_result",
          "data": {
            "text/plain": [
              "<matplotlib.axes._subplots.AxesSubplot at 0x7fb186383890>"
            ]
          },
          "metadata": {},
          "execution_count": 60
        },
        {
          "output_type": "display_data",
          "data": {
            "text/plain": [
              "<Figure size 432x288 with 1 Axes>"
            ],
            "image/png": "[encoded data removed]"
          },
          "metadata": {
            "needs_background": "light"
          }
        }
      ],
      "source": [
        "feat_importances = pd.Series(rf.feature_importances_, index=range(2048))\n",
        "feat_importances.nlargest(20).nsmallest(20).plot(kind='barh', title = \"Importance of Features\")"
      ]
    },
    {
      "cell_type": "markdown",
      "metadata": {
        "id": "k-bgO9b0c_F-"
      },
      "source": [
        "Dieser Plot lässt sich leider nicht mehr so gut interpretieren, auch wenn deutlich wird, dass die obersten fünf Bits wichtig für die Aktivität sind. Leider kann man die Bits nicht so gut darstellen, aber es lassen sich die Fragmente, die jedem Bit zugeordnet sind mit RDKit zeigen:"
      ]
    },
    {
      "cell_type": "code",
      "execution_count": null,
      "metadata": {
        "scrolled": false,
        "id": "4DOn74xhc_F-",
        "colab": {
          "base_uri": "https://localhost:8080/",
          "height": 1000
        },
        "outputId": "8bbdf301-9534-414a-d6b5-7545a7fc1af0"
      },
      "outputs": [
        {
          "output_type": "stream",
          "name": "stdout",
          "text": [
            "Die 20 wichtigsten bits: [1602 1873 1380 1750  875  202   80  650 1917 1313  745 1607 1778 1199\n",
            "  807  561  352 1088 1274 1057]\n"
          ]
        },
        {
          "output_type": "execute_result",
          "data": {
            "text/plain": [
              "<IPython.core.display.SVG object>"
            ],
            "image/svg+xml": "<svg baseProfile=\"full\" height=\"2100px\" version=\"1.1\" viewBox=\"0 0 900 2100\" width=\"900px\" xml:space=\"preserve\" xmlns=\"http://www.w3.org/2000/svg\" xmlns:rdkit=\"http://www.rdkit.org/xml\" xmlns:xlink=\"http://www.w3.org/1999/xlink\">\n<!-- END OF HEADER -->\n<rect height=\"2100\" style=\"opacity:1.0;fill:#FFFFFF;stroke:none\" width=\"900\" x=\"0\" y=\"0\"> </rect>\n<rect height=\"2100\" style=\"opacity:1.0;fill:#FFFFFF;stroke:none\" width=\"900\" x=\"0\" y=\"0\"> </rect>\n<rect height=\"2100\" style=\"opacity:1.0;fill:#FFFFFF;stroke:none\" width=\"900\" x=\"0\" y=\"0\"> </rect>\n<rect height=\"2100\" style=\"opacity:1.0;fill:#FFFFFF;stroke:none\" width=\"900\" x=\"0\" y=\"0\"> </rect>\n<rect height=\"2100\" style=\"opacity:1.0;fill:#FFFFFF;stroke:none\" width=\"900\" x=\"0\" y=\"0\"> </rect>\n<rect height=\"2100\" style=\"opacity:1.0;fill:#FFFFFF;stroke:none\" width=\"900\" x=\"0\" y=\"0\"> </rect>\n<rect height=\"2100\" style=\"opacity:1.0;fill:#FFFFFF;stroke:none\" width=\"900\" x=\"0\" y=\"0\"> </rect>\n<rect height=\"2100\" style=\"opacity:1.0;fill:#FFFFFF;stroke:none\" width=\"900\" x=\"0\" y=\"0\"> </rect>\n<rect height=\"2100\" style=\"opacity:1.0;fill:#FFFFFF;stroke:none\" width=\"900\" x=\"0\" y=\"0\"> </rect>\n<rect height=\"2100\" style=\"opacity:1.0;fill:#FFFFFF;stroke:none\" width=\"900\" x=\"0\" y=\"0\"> </rect>\n<rect height=\"2100\" style=\"opacity:1.0;fill:#FFFFFF;stroke:none\" width=\"900\" x=\"0\" y=\"0\"> </rect>\n<rect height=\"2100\" style=\"opacity:1.0;fill:#FFFFFF;stroke:none\" width=\"900\" x=\"0\" y=\"0\"> </rect>\n<rect height=\"2100\" style=\"opacity:1.0;fill:#FFFFFF;stroke:none\" width=\"900\" x=\"0\" y=\"0\"> </rect>\n<rect height=\"2100\" style=\"opacity:1.0;fill:#FFFFFF;stroke:none\" width=\"900\" x=\"0\" y=\"0\"> </rect>\n<rect height=\"2100\" style=\"opacity:1.0;fill:#FFFFFF;stroke:none\" width=\"900\" x=\"0\" y=\"0\"> </rect>\n<rect height=\"2100\" style=\"opacity:1.0;fill:#FFFFFF;stroke:none\" width=\"900\" x=\"0\" y=\"0\"> </rect>\n<rect height=\"2100\" style=\"opacity:1.0;fill:#FFFFFF;stroke:none\" width=\"900\" x=\"0\" y=\"0\"> </rect>\n<rect height=\"2100\" style=\"opacity:1.0;fill:#FFFFFF;stroke:none\" width=\"900\" x=\"0\" y=\"0\"> </rect>\n<rect height=\"2100\" style=\"opacity:1.0;fill:#FFFFFF;stroke:none\" width=\"900\" x=\"0\" y=\"0\"> </rect>\n<rect height=\"2100\" style=\"opacity:1.0;fill:#FFFFFF;stroke:none\" width=\"900\" x=\"0\" y=\"0\"> </rect>\n<rect height=\"2100\" style=\"opacity:1.0;fill:#FFFFFF;stroke:none\" width=\"900\" x=\"0\" y=\"0\"> </rect>\n<ellipse cx=\"256.32\" cy=\"133.277\" rx=\"5.45612\" ry=\"5.45612\" style=\"fill:#E5E533;fill-rule:evenodd;stroke:#E5E533;stroke-width:2px;stroke-linecap:butt;stroke-linejoin:miter;stroke-opacity:1\"/>\n<ellipse cx=\"283.199\" cy=\"128.612\" rx=\"5.45612\" ry=\"5.45612\" style=\"fill:#9999E5;fill-rule:evenodd;stroke:#9999E5;stroke-width:2px;stroke-linecap:butt;stroke-linejoin:miter;stroke-opacity:1\"/>\n<path class=\"bond-0\" d=\"M 251.173,155.217 L 258.881,134.217\" style=\"fill:none;fill-rule:evenodd;stroke:#E5E5E5;stroke-width:1.5px;stroke-linecap:butt;stroke-linejoin:miter;stroke-opacity:1\"/>\n<path class=\"bond-0\" d=\"M 246.051,153.337 L 253.759,132.337\" style=\"fill:none;fill-rule:evenodd;stroke:#E5E5E5;stroke-width:1.5px;stroke-linecap:butt;stroke-linejoin:miter;stroke-opacity:1;stroke-dasharray:6,6\"/>\n<path class=\"bond-1\" d=\"M 256.32,133.277 L 267.645,131.312\" style=\"fill:none;fill-rule:evenodd;stroke:#000000;stroke-width:2.0px;stroke-linecap:butt;stroke-linejoin:miter;stroke-opacity:1\"/>\n<path class=\"bond-1\" d=\"M 267.645,131.312 L 278.97,129.346\" style=\"fill:none;fill-rule:evenodd;stroke:#FF0000;stroke-width:2.0px;stroke-linecap:butt;stroke-linejoin:miter;stroke-opacity:1\"/>\n<path class=\"bond-2\" d=\"M 258.414,131.529 L 241.177,110.873\" style=\"fill:none;fill-rule:evenodd;stroke:#E5E5E5;stroke-width:1.5px;stroke-linecap:butt;stroke-linejoin:miter;stroke-opacity:1\"/>\n<path class=\"bond-2\" d=\"M 254.225,135.025 L 236.987,114.368\" style=\"fill:none;fill-rule:evenodd;stroke:#E5E5E5;stroke-width:1.5px;stroke-linecap:butt;stroke-linejoin:miter;stroke-opacity:1;stroke-dasharray:6,6\"/>\n<path class=\"atom-0\" d=\"M 245.463 158.025 L 246.598 156.868 L 245.092 156.563 L 245.321 155.788 L 246.707 156.486 L 246.511 154.969 L 247.329 154.959 L 247.1 156.475 L 248.508 155.821 L 248.748 156.563 L 247.22 156.846 L 248.311 158.014 L 247.645 158.494 L 246.892 157.054 L 246.129 158.494 L 245.463 158.025 \" fill=\"#191919\"/>\n<path class=\"atom-2\" d=\"M 279.652 128.634 Q 279.652 126.779, 280.569 125.743 Q 281.485 124.706, 283.199 124.706 Q 284.912 124.706, 285.828 125.743 Q 286.745 126.779, 286.745 128.634 Q 286.745 130.511, 285.817 131.581 Q 284.89 132.639, 283.199 132.639 Q 281.496 132.639, 280.569 131.581 Q 279.652 130.522, 279.652 128.634 M 283.199 131.766 Q 284.377 131.766, 285.01 130.98 Q 285.654 130.184, 285.654 128.634 Q 285.654 127.117, 285.01 126.354 Q 284.377 125.579, 283.199 125.579 Q 282.02 125.579, 281.376 126.343 Q 280.743 127.107, 280.743 128.634 Q 280.743 130.195, 281.376 130.98 Q 282.02 131.766, 283.199 131.766 \" fill=\"#FF0000\"/>\n<path class=\"atom-2\" d=\"M 287.673 124.793 L 288.72 124.793 L 288.72 128.078 L 292.67 128.078 L 292.67 124.793 L 293.718 124.793 L 293.718 132.519 L 292.67 132.519 L 292.67 128.951 L 288.72 128.951 L 288.72 132.519 L 287.673 132.519 L 287.673 124.793 \" fill=\"#FF0000\"/>\n<path class=\"atom-3\" d=\"M 237.384 111.469 L 238.519 110.313 L 237.013 110.007 L 237.242 109.232 L 238.628 109.931 L 238.431 108.414 L 239.25 108.403 L 239.021 109.92 L 240.428 109.265 L 240.669 110.007 L 239.141 110.291 L 240.232 111.458 L 239.566 111.939 L 238.813 110.498 L 238.05 111.939 L 237.384 111.469 \" fill=\"#191919\"/>\n<path d=\"M 130.162 292.864 L 132.642 292.864 L 132.642 284.4 L 129.906 285.248 L 129.538 284.304 L 133.01 282.752 L 134.146 282.944 L 134.146 292.864 L 136.37 292.864 L 136.37 294.144 L 130.162 294.144 L 130.162 292.864 \" fill=\"#000000\"/>\n<path d=\"M 141.89 287.072 Q 142.882 287.072, 143.666 287.504 Q 144.45 287.936, 144.882 288.72 Q 145.314 289.504, 145.314 290.496 Q 145.314 291.6, 144.818 292.464 Q 144.338 293.312, 143.474 293.792 Q 142.61 294.272, 141.506 294.272 Q 139.49 294.272, 138.466 292.912 Q 137.458 291.536, 137.458 288.816 Q 137.458 285.808, 138.706 284.256 Q 139.97 282.688, 142.386 282.688 Q 143.09 282.688, 143.682 282.848 Q 144.29 283.008, 144.866 283.344 L 144.242 284.416 Q 143.41 283.968, 142.402 283.968 Q 140.802 283.968, 139.986 285.008 Q 139.17 286.032, 139.074 288.16 Q 139.65 287.632, 140.37 287.36 Q 141.106 287.072, 141.89 287.072 M 141.522 292.96 Q 142.13 292.96, 142.626 292.64 Q 143.138 292.32, 143.426 291.76 Q 143.714 291.2, 143.714 290.512 Q 143.714 289.504, 143.154 288.928 Q 142.594 288.352, 141.602 288.352 Q 140.914 288.352, 140.226 288.64 Q 139.554 288.912, 139.074 289.392 Q 139.138 291.264, 139.73 292.112 Q 140.322 292.96, 141.522 292.96 \" fill=\"#000000\"/>\n<path d=\"M 150.434 294.272 Q 148.354 294.272, 147.314 292.736 Q 146.29 291.2, 146.29 288.464 Q 146.29 285.728, 147.314 284.208 Q 148.338 282.688, 150.434 282.688 Q 152.53 282.688, 153.554 284.208 Q 154.578 285.728, 154.578 288.464 Q 154.578 291.2, 153.538 292.736 Q 152.514 294.272, 150.434 294.272 M 150.434 292.992 Q 151.666 292.992, 152.322 291.856 Q 152.978 290.704, 152.978 288.464 Q 152.978 286.24, 152.322 285.104 Q 151.666 283.968, 150.434 283.968 Q 149.218 283.968, 148.546 285.104 Q 147.89 286.24, 147.89 288.464 Q 147.89 290.704, 148.546 291.856 Q 149.218 292.992, 150.434 292.992 \" fill=\"#000000\"/>\n<path d=\"M 155.41 284.96 Q 155.826 283.888, 156.818 283.296 Q 157.81 282.688, 159.186 282.688 Q 160.898 282.688, 161.858 283.616 Q 162.818 284.544, 162.818 286.192 Q 162.818 287.872, 161.57 289.44 Q 160.338 291.008, 157.778 292.864 L 163.01 292.864 L 163.01 294.144 L 155.378 294.144 L 155.378 293.072 Q 157.49 291.568, 158.738 290.448 Q 160.002 289.328, 160.61 288.32 Q 161.218 287.312, 161.218 286.272 Q 161.218 285.184, 160.674 284.576 Q 160.13 283.968, 159.186 283.968 Q 158.274 283.968, 157.666 284.336 Q 157.058 284.704, 156.626 285.52 L 155.41 284.96 \" fill=\"#000000\"/>\n<ellipse cx=\"546.92\" cy=\"158.887\" rx=\"5.45612\" ry=\"5.45612\" style=\"fill:#9999E5;fill-rule:evenodd;stroke:#9999E5;stroke-width:2px;stroke-linecap:butt;stroke-linejoin:miter;stroke-opacity:1\"/>\n<path class=\"bond-0\" d=\"M 523.017,165.804 L 547.386,161.575\" style=\"fill:none;fill-rule:evenodd;stroke:#E5E5E5;stroke-width:1.5px;stroke-linecap:butt;stroke-linejoin:miter;stroke-opacity:1\"/>\n<path class=\"bond-0\" d=\"M 522.084,160.428 L 546.453,156.199\" style=\"fill:none;fill-rule:evenodd;stroke:#E5E5E5;stroke-width:1.5px;stroke-linecap:butt;stroke-linejoin:miter;stroke-opacity:1;stroke-dasharray:6,6\"/>\n<path class=\"bond-1\" d=\"M 549.481,159.827 L 558.775,134.506\" style=\"fill:none;fill-rule:evenodd;stroke:#E5E5E5;stroke-width:1.5px;stroke-linecap:butt;stroke-linejoin:miter;stroke-opacity:1\"/>\n<path class=\"bond-1\" d=\"M 544.359,157.947 L 553.653,132.626\" style=\"fill:none;fill-rule:evenodd;stroke:#E5E5E5;stroke-width:1.5px;stroke-linecap:butt;stroke-linejoin:miter;stroke-opacity:1;stroke-dasharray:6,6\"/>\n<path class=\"atom-0\" d=\"M 518.584 162.689 L 519.719 161.533 L 518.213 161.227 L 518.442 160.452 L 519.828 161.151 L 519.632 159.634 L 520.45 159.623 L 520.221 161.14 L 521.629 160.485 L 521.869 161.227 L 520.341 161.511 L 521.432 162.678 L 520.767 163.159 L 520.014 161.718 L 519.25 163.159 L 518.584 162.689 \" fill=\"#191919\"/>\n<path class=\"atom-2\" d=\"M 554.863 132.415 L 555.998 131.258 L 554.492 130.953 L 554.721 130.178 L 556.107 130.876 L 555.91 129.359 L 556.729 129.349 L 556.5 130.865 L 557.907 130.211 L 558.147 130.953 L 556.62 131.236 L 557.711 132.404 L 557.045 132.884 L 556.292 131.444 L 555.529 132.884 L 554.863 132.415 \" fill=\"#191919\"/>\n<path d=\"M 431.178 292.832 L 433.658 292.832 L 433.658 284.368 L 430.922 285.216 L 430.554 284.272 L 434.026 282.72 L 435.162 282.912 L 435.162 292.832 L 437.386 292.832 L 437.386 294.112 L 431.178 294.112 L 431.178 292.832 \" fill=\"#000000\"/>\n<path d=\"M 444.154 288.112 Q 445.194 288.56, 445.786 289.232 Q 446.378 289.888, 446.378 291.008 Q 446.378 291.968, 445.882 292.72 Q 445.386 293.456, 444.49 293.872 Q 443.61 294.272, 442.442 294.272 Q 440.554 294.272, 439.466 293.408 Q 438.378 292.528, 438.378 291.008 Q 438.378 290.08, 438.858 289.392 Q 439.338 288.688, 440.33 288.16 Q 439.594 287.744, 439.194 287.136 Q 438.794 286.512, 438.794 285.552 Q 438.794 284.224, 439.754 283.44 Q 440.73 282.656, 442.378 282.656 Q 444.026 282.656, 444.986 283.44 Q 445.962 284.224, 445.962 285.552 Q 445.962 286.384, 445.498 287.008 Q 445.05 287.616, 444.154 288.112 M 442.378 283.856 Q 441.434 283.856, 440.906 284.304 Q 440.394 284.752, 440.394 285.552 Q 440.394 286.144, 440.746 286.544 Q 441.098 286.928, 441.594 287.152 Q 442.106 287.376, 443.082 287.712 Q 443.77 287.232, 444.058 286.72 Q 444.362 286.208, 444.362 285.552 Q 444.362 284.752, 443.834 284.304 Q 443.322 283.856, 442.378 283.856 M 442.442 293.072 Q 443.498 293.072, 444.138 292.512 Q 444.778 291.936, 444.778 290.992 Q 444.778 290.384, 444.442 290 Q 444.106 289.616, 443.594 289.392 Q 443.098 289.168, 442.202 288.88 L 441.482 288.64 Q 440.682 289.12, 440.33 289.696 Q 439.978 290.256, 439.978 290.992 Q 439.978 291.936, 440.65 292.512 Q 441.322 293.072, 442.442 293.072 \" fill=\"#000000\"/>\n<path d=\"M 452.602 284.064 L 446.666 284.064 L 446.666 282.784 L 454.186 282.784 L 454.186 283.92 L 449.61 294.112 L 448.074 294.112 L 452.602 284.064 \" fill=\"#000000\"/>\n<path d=\"M 460.298 288.144 Q 461.402 288.464, 461.93 289.184 Q 462.474 289.888, 462.474 291.008 Q 462.474 291.968, 461.994 292.72 Q 461.514 293.456, 460.634 293.872 Q 459.754 294.272, 458.602 294.272 Q 457.386 294.272, 456.474 293.856 Q 455.578 293.424, 454.858 292.56 L 455.77 291.632 Q 456.474 292.4, 457.066 292.704 Q 457.658 292.992, 458.602 292.992 Q 459.626 292.992, 460.25 292.448 Q 460.874 291.888, 460.874 290.992 Q 460.874 289.84, 460.218 289.328 Q 459.578 288.8, 458.186 288.8 L 457.37 288.8 L 457.37 287.648 L 458.09 287.648 Q 459.322 287.632, 459.978 287.104 Q 460.634 286.56, 460.634 285.552 Q 460.634 284.816, 460.09 284.384 Q 459.546 283.936, 458.618 283.936 Q 457.674 283.936, 457.082 284.272 Q 456.506 284.608, 456.058 285.456 L 454.954 284.864 Q 455.354 283.92, 456.314 283.296 Q 457.274 282.656, 458.618 282.656 Q 460.282 282.656, 461.258 283.44 Q 462.234 284.224, 462.234 285.552 Q 462.234 286.464, 461.738 287.12 Q 461.242 287.776, 460.298 288.144 \" fill=\"#000000\"/>\n<ellipse cx=\"820.041\" cy=\"163.551\" rx=\"5.45612\" ry=\"5.45612\" style=\"fill:#9999E5;fill-rule:evenodd;stroke:#9999E5;stroke-width:2px;stroke-linecap:butt;stroke-linejoin:miter;stroke-opacity:1\"/>\n<path class=\"bond-0\" d=\"M 812.333,184.551 L 820.041,163.551\" style=\"fill:none;fill-rule:evenodd;stroke:#E5E5E5;stroke-width:1.5px;stroke-linecap:butt;stroke-linejoin:miter;stroke-opacity:1\"/>\n<path class=\"bond-1\" d=\"M 820.507,166.239 L 845.72,161.864\" style=\"fill:none;fill-rule:evenodd;stroke:#E5E5E5;stroke-width:1.5px;stroke-linecap:butt;stroke-linejoin:miter;stroke-opacity:1\"/>\n<path class=\"bond-1\" d=\"M 819.574,160.864 L 844.787,156.488\" style=\"fill:none;fill-rule:evenodd;stroke:#E5E5E5;stroke-width:1.5px;stroke-linecap:butt;stroke-linejoin:miter;stroke-opacity:1;stroke-dasharray:6,6\"/>\n<path class=\"bond-2\" d=\"M 822.135,161.804 L 804.898,141.147\" style=\"fill:none;fill-rule:evenodd;stroke:#E5E5E5;stroke-width:1.5px;stroke-linecap:butt;stroke-linejoin:miter;stroke-opacity:1\"/>\n<path class=\"bond-2\" d=\"M 817.946,165.299 L 800.709,144.643\" style=\"fill:none;fill-rule:evenodd;stroke:#E5E5E5;stroke-width:1.5px;stroke-linecap:butt;stroke-linejoin:miter;stroke-opacity:1;stroke-dasharray:6,6\"/>\n<path class=\"atom-0\" d=\"M 809.184 188.299 L 810.319 187.143 L 808.813 186.837 L 809.042 186.062 L 810.428 186.761 L 810.232 185.244 L 811.05 185.233 L 810.821 186.75 L 812.229 186.095 L 812.469 186.837 L 810.941 187.121 L 812.032 188.288 L 811.367 188.769 L 810.614 187.328 L 809.85 188.769 L 809.184 188.299 \" fill=\"#191919\"/>\n<path class=\"atom-2\" d=\"M 845.463 158.025 L 846.598 156.868 L 845.092 156.563 L 845.321 155.788 L 846.707 156.486 L 846.511 154.969 L 847.329 154.959 L 847.1 156.475 L 848.508 155.821 L 848.748 156.563 L 847.22 156.846 L 848.311 158.014 L 847.645 158.494 L 846.892 157.054 L 846.129 158.494 L 845.463 158.025 \" fill=\"#191919\"/>\n<path class=\"atom-3\" d=\"M 801.105 141.744 L 802.24 140.587 L 800.734 140.282 L 800.963 139.507 L 802.349 140.205 L 802.153 138.688 L 802.971 138.677 L 802.742 140.194 L 804.15 139.54 L 804.39 140.282 L 802.862 140.565 L 803.953 141.733 L 803.288 142.213 L 802.535 140.773 L 801.771 142.213 L 801.105 141.744 \" fill=\"#191919\"/>\n<path d=\"M 730.502 292.832 L 732.982 292.832 L 732.982 284.368 L 730.246 285.216 L 729.878 284.272 L 733.35 282.72 L 734.486 282.912 L 734.486 292.832 L 736.71 292.832 L 736.71 294.112 L 730.502 294.112 L 730.502 292.832 \" fill=\"#000000\"/>\n<path d=\"M 742.822 288.144 Q 743.926 288.464, 744.454 289.184 Q 744.998 289.888, 744.998 291.008 Q 744.998 291.968, 744.518 292.72 Q 744.038 293.456, 743.158 293.872 Q 742.278 294.272, 741.126 294.272 Q 739.91 294.272, 738.998 293.856 Q 738.102 293.424, 737.382 292.56 L 738.294 291.632 Q 738.998 292.4, 739.59 292.704 Q 740.182 292.992, 741.126 292.992 Q 742.15 292.992, 742.774 292.448 Q 743.398 291.888, 743.398 290.992 Q 743.398 289.84, 742.742 289.328 Q 742.102 288.8, 740.71 288.8 L 739.894 288.8 L 739.894 287.648 L 740.614 287.648 Q 741.846 287.632, 742.502 287.104 Q 743.158 286.56, 743.158 285.552 Q 743.158 284.816, 742.614 284.384 Q 742.07 283.936, 741.142 283.936 Q 740.198 283.936, 739.606 284.272 Q 739.03 284.608, 738.582 285.456 L 737.478 284.864 Q 737.878 283.92, 738.838 283.296 Q 739.798 282.656, 741.142 282.656 Q 742.806 282.656, 743.782 283.44 Q 744.758 284.224, 744.758 285.552 Q 744.758 286.464, 744.262 287.12 Q 743.766 287.776, 742.822 288.144 \" fill=\"#000000\"/>\n<path d=\"M 751.766 288.112 Q 752.806 288.56, 753.398 289.232 Q 753.99 289.888, 753.99 291.008 Q 753.99 291.968, 753.494 292.72 Q 752.998 293.456, 752.102 293.872 Q 751.222 294.272, 750.054 294.272 Q 748.166 294.272, 747.078 293.408 Q 745.99 292.528, 745.99 291.008 Q 745.99 290.08, 746.47 289.392 Q 746.95 288.688, 747.942 288.16 Q 747.206 287.744, 746.806 287.136 Q 746.406 286.512, 746.406 285.552 Q 746.406 284.224, 747.366 283.44 Q 748.342 282.656, 749.99 282.656 Q 751.638 282.656, 752.598 283.44 Q 753.574 284.224, 753.574 285.552 Q 753.574 286.384, 753.11 287.008 Q 752.662 287.616, 751.766 288.112 M 749.99 283.856 Q 749.046 283.856, 748.518 284.304 Q 748.006 284.752, 748.006 285.552 Q 748.006 286.144, 748.358 286.544 Q 748.71 286.928, 749.206 287.152 Q 749.718 287.376, 750.694 287.712 Q 751.382 287.232, 751.67 286.72 Q 751.974 286.208, 751.974 285.552 Q 751.974 284.752, 751.446 284.304 Q 750.934 283.856, 749.99 283.856 M 750.054 293.072 Q 751.11 293.072, 751.75 292.512 Q 752.39 291.936, 752.39 290.992 Q 752.39 290.384, 752.054 290 Q 751.718 289.616, 751.206 289.392 Q 750.71 289.168, 749.814 288.88 L 749.094 288.64 Q 748.294 289.12, 747.942 289.696 Q 747.59 290.256, 747.59 290.992 Q 747.59 291.936, 748.262 292.512 Q 748.934 293.072, 750.054 293.072 \" fill=\"#000000\"/>\n<path d=\"M 759.11 294.24 Q 757.03 294.24, 755.99 292.704 Q 754.966 291.168, 754.966 288.432 Q 754.966 285.696, 755.99 284.176 Q 757.014 282.656, 759.11 282.656 Q 761.206 282.656, 762.23 284.176 Q 763.254 285.696, 763.254 288.432 Q 763.254 291.168, 762.214 292.704 Q 761.19 294.24, 759.11 294.24 M 759.11 292.96 Q 760.342 292.96, 760.998 291.824 Q 761.654 290.672, 761.654 288.432 Q 761.654 286.208, 760.998 285.072 Q 760.342 283.936, 759.11 283.936 Q 757.894 283.936, 757.222 285.072 Q 756.566 286.208, 756.566 288.432 Q 756.566 290.672, 757.222 291.824 Q 757.894 292.96, 759.11 292.96 \" fill=\"#000000\"/>\n<ellipse cx=\"256.32\" cy=\"433.277\" rx=\"5.45612\" ry=\"5.45612\" style=\"fill:#E5E533;fill-rule:evenodd;stroke:#E5E533;stroke-width:2px;stroke-linecap:butt;stroke-linejoin:miter;stroke-opacity:1\"/>\n<ellipse cx=\"238.841\" cy=\"412.331\" rx=\"5.45612\" ry=\"5.45612\" style=\"fill:#9999E5;fill-rule:evenodd;stroke:#9999E5;stroke-width:2px;stroke-linecap:butt;stroke-linejoin:miter;stroke-opacity:1\"/>\n<ellipse cx=\"211.962\" cy=\"416.996\" rx=\"5.45612\" ry=\"5.45612\" style=\"fill:#E5E533;fill-rule:evenodd;stroke:#E5E533;stroke-width:2px;stroke-linecap:butt;stroke-linejoin:miter;stroke-opacity:1\"/>\n<path class=\"bond-0\" d=\"M 251.173,455.217 L 258.881,434.217\" style=\"fill:none;fill-rule:evenodd;stroke:#E5E5E5;stroke-width:1.5px;stroke-linecap:butt;stroke-linejoin:miter;stroke-opacity:1\"/>\n<path class=\"bond-0\" d=\"M 246.051,453.337 L 253.759,432.337\" style=\"fill:none;fill-rule:evenodd;stroke:#E5E5E5;stroke-width:1.5px;stroke-linecap:butt;stroke-linejoin:miter;stroke-opacity:1;stroke-dasharray:6,6\"/>\n<path class=\"bond-1\" d=\"M 256.32,433.277 L 281.532,428.902\" style=\"fill:none;fill-rule:evenodd;stroke:#E5E5E5;stroke-width:1.5px;stroke-linecap:butt;stroke-linejoin:miter;stroke-opacity:1\"/>\n<path class=\"bond-2\" d=\"M 256.32,433.277 L 238.841,412.331\" style=\"fill:none;fill-rule:evenodd;stroke:#000000;stroke-width:2.0px;stroke-linecap:butt;stroke-linejoin:miter;stroke-opacity:1\"/>\n<path class=\"bond-2\" d=\"M 249.509,433.631 L 237.273,418.969\" style=\"fill:none;fill-rule:evenodd;stroke:#000000;stroke-width:2.0px;stroke-linecap:butt;stroke-linejoin:miter;stroke-opacity:1;stroke-dasharray:6,6\"/>\n<path class=\"bond-3\" d=\"M 238.841,412.331 L 211.962,416.996\" style=\"fill:none;fill-rule:evenodd;stroke:#000000;stroke-width:2.0px;stroke-linecap:butt;stroke-linejoin:miter;stroke-opacity:1\"/>\n<path class=\"bond-3\" d=\"M 235.742,418.407 L 216.927,421.672\" style=\"fill:none;fill-rule:evenodd;stroke:#000000;stroke-width:2.0px;stroke-linecap:butt;stroke-linejoin:miter;stroke-opacity:1;stroke-dasharray:6,6\"/>\n<path class=\"bond-4\" d=\"M 209.401,416.056 L 201.693,437.055\" style=\"fill:none;fill-rule:evenodd;stroke:#E5E5E5;stroke-width:1.5px;stroke-linecap:butt;stroke-linejoin:miter;stroke-opacity:1\"/>\n<path class=\"bond-4\" d=\"M 214.523,417.936 L 206.815,438.935\" style=\"fill:none;fill-rule:evenodd;stroke:#E5E5E5;stroke-width:1.5px;stroke-linecap:butt;stroke-linejoin:miter;stroke-opacity:1;stroke-dasharray:6,6\"/>\n<path class=\"atom-0\" d=\"M 245.463 458.025 L 246.598 456.868 L 245.092 456.563 L 245.321 455.788 L 246.707 456.486 L 246.511 454.969 L 247.329 454.959 L 247.1 456.475 L 248.508 455.821 L 248.748 456.563 L 247.22 456.846 L 248.311 458.014 L 247.645 458.494 L 246.892 457.054 L 246.129 458.494 L 245.463 458.025 \" fill=\"#191919\"/>\n<path class=\"atom-2\" d=\"M 281.742 427.75 L 282.877 426.594 L 281.371 426.288 L 281.6 425.513 L 282.986 426.212 L 282.789 424.695 L 283.608 424.684 L 283.379 426.201 L 284.786 425.546 L 285.026 426.288 L 283.499 426.572 L 284.59 427.739 L 283.924 428.22 L 283.171 426.779 L 282.407 428.22 L 281.742 427.75 \" fill=\"#191919\"/>\n<path class=\"atom-5\" d=\"M 201.105 441.744 L 202.24 440.587 L 200.734 440.282 L 200.963 439.507 L 202.349 440.205 L 202.153 438.688 L 202.971 438.677 L 202.742 440.194 L 204.15 439.54 L 204.39 440.282 L 202.862 440.565 L 203.953 441.733 L 203.288 442.213 L 202.535 440.773 L 201.771 442.213 L 201.105 441.744 \" fill=\"#191919\"/>\n<path d=\"M 131.252 592.864 L 133.732 592.864 L 133.732 584.4 L 130.996 585.248 L 130.628 584.304 L 134.1 582.752 L 135.236 582.944 L 135.236 592.864 L 137.46 592.864 L 137.46 594.144 L 131.252 594.144 L 131.252 592.864 \" fill=\"#000000\"/>\n<path d=\"M 143.684 584.096 L 137.748 584.096 L 137.748 582.816 L 145.268 582.816 L 145.268 583.952 L 140.692 594.144 L 139.156 594.144 L 143.684 584.096 \" fill=\"#000000\"/>\n<path d=\"M 150.116 587.056 Q 151.108 587.056, 151.924 587.488 Q 152.74 587.904, 153.204 588.704 Q 153.668 589.488, 153.668 590.56 Q 153.668 591.728, 153.092 592.576 Q 152.532 593.408, 151.604 593.84 Q 150.676 594.272, 149.62 594.272 Q 148.58 594.272, 147.62 593.888 Q 146.66 593.504, 146.004 592.768 L 146.964 591.776 Q 147.492 592.352, 148.212 592.672 Q 148.932 592.976, 149.668 592.976 Q 150.676 592.976, 151.364 592.352 Q 152.068 591.728, 152.068 590.592 Q 152.068 589.392, 151.364 588.832 Q 150.676 588.256, 149.572 588.256 Q 148.58 588.256, 147.476 588.688 L 146.596 588.272 L 147.14 582.816 L 152.964 582.816 L 152.804 584.096 L 148.452 584.096 L 148.116 587.456 Q 149.124 587.056, 150.116 587.056 \" fill=\"#000000\"/>\n<path d=\"M 158.788 594.272 Q 156.708 594.272, 155.668 592.736 Q 154.644 591.2, 154.644 588.464 Q 154.644 585.728, 155.668 584.208 Q 156.692 582.688, 158.788 582.688 Q 160.884 582.688, 161.908 584.208 Q 162.932 585.728, 162.932 588.464 Q 162.932 591.2, 161.892 592.736 Q 160.868 594.272, 158.788 594.272 M 158.788 592.992 Q 160.02 592.992, 160.676 591.856 Q 161.332 590.704, 161.332 588.464 Q 161.332 586.24, 160.676 585.104 Q 160.02 583.968, 158.788 583.968 Q 157.572 583.968, 156.9 585.104 Q 156.244 586.24, 156.244 588.464 Q 156.244 590.704, 156.9 591.856 Q 157.572 592.992, 158.788 592.992 \" fill=\"#000000\"/>\n<ellipse cx=\"520.041\" cy=\"463.551\" rx=\"5.45612\" ry=\"5.45612\" style=\"fill:#E5E533;fill-rule:evenodd;stroke:#E5E533;stroke-width:2px;stroke-linecap:butt;stroke-linejoin:miter;stroke-opacity:1\"/>\n<ellipse cx=\"546.92\" cy=\"458.887\" rx=\"5.45612\" ry=\"5.45612\" style=\"fill:#9999E5;fill-rule:evenodd;stroke:#9999E5;stroke-width:2px;stroke-linecap:butt;stroke-linejoin:miter;stroke-opacity:1\"/>\n<ellipse cx=\"556.32\" cy=\"433.277\" rx=\"5.45612\" ry=\"5.45612\" style=\"fill:#E5E533;fill-rule:evenodd;stroke:#E5E533;stroke-width:2px;stroke-linecap:butt;stroke-linejoin:miter;stroke-opacity:1\"/>\n<path class=\"bond-0\" d=\"M 512.333,484.551 L 520.041,463.551\" style=\"fill:none;fill-rule:evenodd;stroke:#E5E5E5;stroke-width:1.5px;stroke-linecap:butt;stroke-linejoin:miter;stroke-opacity:1\"/>\n<path class=\"bond-1\" d=\"M 520.041,463.551 L 546.92,458.887\" style=\"fill:none;fill-rule:evenodd;stroke:#000000;stroke-width:2.0px;stroke-linecap:butt;stroke-linejoin:miter;stroke-opacity:1\"/>\n<path class=\"bond-1\" d=\"M 525.006,468.228 L 543.821,464.962\" style=\"fill:none;fill-rule:evenodd;stroke:#000000;stroke-width:2.0px;stroke-linecap:butt;stroke-linejoin:miter;stroke-opacity:1;stroke-dasharray:6,6\"/>\n<path class=\"bond-5\" d=\"M 522.135,461.804 L 504.898,441.147\" style=\"fill:none;fill-rule:evenodd;stroke:#E5E5E5;stroke-width:1.5px;stroke-linecap:butt;stroke-linejoin:miter;stroke-opacity:1\"/>\n<path class=\"bond-5\" d=\"M 517.946,465.299 L 500.709,444.643\" style=\"fill:none;fill-rule:evenodd;stroke:#E5E5E5;stroke-width:1.5px;stroke-linecap:butt;stroke-linejoin:miter;stroke-opacity:1;stroke-dasharray:6,6\"/>\n<path class=\"bond-2\" d=\"M 546.92,458.887 L 556.32,433.277\" style=\"fill:none;fill-rule:evenodd;stroke:#000000;stroke-width:2.0px;stroke-linecap:butt;stroke-linejoin:miter;stroke-opacity:1\"/>\n<path class=\"bond-2\" d=\"M 543.208,453.165 L 549.788,435.238\" style=\"fill:none;fill-rule:evenodd;stroke:#000000;stroke-width:2.0px;stroke-linecap:butt;stroke-linejoin:miter;stroke-opacity:1;stroke-dasharray:6,6\"/>\n<path class=\"bond-3\" d=\"M 556.32,433.277 L 581.532,428.902\" style=\"fill:none;fill-rule:evenodd;stroke:#E5E5E5;stroke-width:1.5px;stroke-linecap:butt;stroke-linejoin:miter;stroke-opacity:1\"/>\n<path class=\"bond-4\" d=\"M 558.414,431.529 L 541.177,410.873\" style=\"fill:none;fill-rule:evenodd;stroke:#E5E5E5;stroke-width:1.5px;stroke-linecap:butt;stroke-linejoin:miter;stroke-opacity:1\"/>\n<path class=\"bond-4\" d=\"M 554.225,435.025 L 536.987,414.368\" style=\"fill:none;fill-rule:evenodd;stroke:#E5E5E5;stroke-width:1.5px;stroke-linecap:butt;stroke-linejoin:miter;stroke-opacity:1;stroke-dasharray:6,6\"/>\n<path class=\"atom-0\" d=\"M 509.184 488.299 L 510.319 487.143 L 508.813 486.837 L 509.042 486.062 L 510.428 486.761 L 510.232 485.244 L 511.05 485.233 L 510.821 486.75 L 512.229 486.095 L 512.469 486.837 L 510.941 487.121 L 512.032 488.288 L 511.367 488.769 L 510.614 487.328 L 509.85 488.769 L 509.184 488.299 \" fill=\"#191919\"/>\n<path class=\"atom-4\" d=\"M 581.742 427.75 L 582.877 426.594 L 581.371 426.288 L 581.6 425.513 L 582.986 426.212 L 582.789 424.695 L 583.608 424.684 L 583.379 426.201 L 584.786 425.546 L 585.026 426.288 L 583.499 426.572 L 584.59 427.739 L 583.924 428.22 L 583.171 426.779 L 582.407 428.22 L 581.742 427.75 \" fill=\"#191919\"/>\n<path class=\"atom-5\" d=\"M 537.384 411.469 L 538.519 410.313 L 537.013 410.007 L 537.242 409.232 L 538.628 409.931 L 538.431 408.414 L 539.25 408.403 L 539.021 409.92 L 540.428 409.265 L 540.669 410.007 L 539.141 410.291 L 540.232 411.458 L 539.566 411.939 L 538.813 410.498 L 538.05 411.939 L 537.384 411.469 \" fill=\"#191919\"/>\n<path class=\"atom-6\" d=\"M 501.105 441.744 L 502.24 440.587 L 500.734 440.282 L 500.963 439.507 L 502.349 440.205 L 502.153 438.688 L 502.971 438.677 L 502.742 440.194 L 504.15 439.54 L 504.39 440.282 L 502.862 440.565 L 503.953 441.733 L 503.288 442.213 L 502.535 440.773 L 501.771 442.213 L 501.105 441.744 \" fill=\"#191919\"/>\n<path d=\"M 439.916 588.112 Q 440.956 588.56, 441.548 589.232 Q 442.14 589.888, 442.14 591.008 Q 442.14 591.968, 441.644 592.72 Q 441.148 593.456, 440.252 593.872 Q 439.372 594.272, 438.204 594.272 Q 436.316 594.272, 435.228 593.408 Q 434.14 592.528, 434.14 591.008 Q 434.14 590.08, 434.62 589.392 Q 435.1 588.688, 436.092 588.16 Q 435.356 587.744, 434.956 587.136 Q 434.556 586.512, 434.556 585.552 Q 434.556 584.224, 435.516 583.44 Q 436.492 582.656, 438.14 582.656 Q 439.788 582.656, 440.748 583.44 Q 441.724 584.224, 441.724 585.552 Q 441.724 586.384, 441.26 587.008 Q 440.812 587.616, 439.916 588.112 M 438.14 583.856 Q 437.196 583.856, 436.668 584.304 Q 436.156 584.752, 436.156 585.552 Q 436.156 586.144, 436.508 586.544 Q 436.86 586.928, 437.356 587.152 Q 437.868 587.376, 438.844 587.712 Q 439.532 587.232, 439.82 586.72 Q 440.124 586.208, 440.124 585.552 Q 440.124 584.752, 439.596 584.304 Q 439.084 583.856, 438.14 583.856 M 438.204 593.072 Q 439.26 593.072, 439.9 592.512 Q 440.54 591.936, 440.54 590.992 Q 440.54 590.384, 440.204 590 Q 439.868 589.616, 439.356 589.392 Q 438.86 589.168, 437.964 588.88 L 437.244 588.64 Q 436.444 589.12, 436.092 589.696 Q 435.74 590.256, 435.74 590.992 Q 435.74 591.936, 436.412 592.512 Q 437.084 593.072, 438.204 593.072 \" fill=\"#000000\"/>\n<path d=\"M 448.364 584.064 L 442.428 584.064 L 442.428 582.784 L 449.948 582.784 L 449.948 583.92 L 445.372 594.112 L 443.836 594.112 L 448.364 584.064 \" fill=\"#000000\"/>\n<path d=\"M 454.796 587.024 Q 455.788 587.024, 456.604 587.456 Q 457.42 587.872, 457.884 588.672 Q 458.348 589.456, 458.348 590.528 Q 458.348 591.696, 457.772 592.544 Q 457.212 593.376, 456.284 593.808 Q 455.356 594.24, 454.3 594.24 Q 453.26 594.24, 452.3 593.856 Q 451.34 593.472, 450.684 592.736 L 451.644 591.744 Q 452.172 592.32, 452.892 592.64 Q 453.612 592.944, 454.348 592.944 Q 455.356 592.944, 456.044 592.32 Q 456.748 591.696, 456.748 590.56 Q 456.748 589.36, 456.044 588.8 Q 455.356 588.224, 454.252 588.224 Q 453.26 588.224, 452.156 588.656 L 451.276 588.24 L 451.82 582.784 L 457.644 582.784 L 457.484 584.064 L 453.132 584.064 L 452.796 587.424 Q 453.804 587.024, 454.796 587.024 \" fill=\"#000000\"/>\n<ellipse cx=\"647.156\" cy=\"427.089\" rx=\"5.45612\" ry=\"5.45612\" style=\"fill:#E5E533;fill-rule:evenodd;stroke:#E5E533;stroke-width:2px;stroke-linecap:butt;stroke-linejoin:miter;stroke-opacity:1\"/>\n<ellipse cx=\"640.562\" cy=\"453.56\" rx=\"5.45612\" ry=\"5.45612\" style=\"fill:#9999E5;fill-rule:evenodd;stroke:#9999E5;stroke-width:2px;stroke-linecap:butt;stroke-linejoin:miter;stroke-opacity:1\"/>\n<ellipse cx=\"660.19\" cy=\"472.507\" rx=\"5.45612\" ry=\"5.45612\" style=\"fill:#E5E533;fill-rule:evenodd;stroke:#E5E533;stroke-width:2px;stroke-linecap:butt;stroke-linejoin:miter;stroke-opacity:1\"/>\n<path class=\"bond-0\" d=\"M 671.618,417.231 L 646.403,424.466\" style=\"fill:none;fill-rule:evenodd;stroke:#E5E5E5;stroke-width:1.5px;stroke-linecap:butt;stroke-linejoin:miter;stroke-opacity:1\"/>\n<path class=\"bond-0\" d=\"M 673.123,422.475 L 647.908,429.711\" style=\"fill:none;fill-rule:evenodd;stroke:#E5E5E5;stroke-width:1.5px;stroke-linecap:butt;stroke-linejoin:miter;stroke-opacity:1;stroke-dasharray:6,6\"/>\n<path class=\"bond-1\" d=\"M 647.156,427.089 L 627.828,408.431\" style=\"fill:none;fill-rule:evenodd;stroke:#E5E5E5;stroke-width:1.5px;stroke-linecap:butt;stroke-linejoin:miter;stroke-opacity:1\"/>\n<path class=\"bond-2\" d=\"M 647.156,427.089 L 640.562,453.56\" style=\"fill:none;fill-rule:evenodd;stroke:#000000;stroke-width:2.0px;stroke-linecap:butt;stroke-linejoin:miter;stroke-opacity:1\"/>\n<path class=\"bond-2\" d=\"M 651.461,432.378 L 646.845,450.908\" style=\"fill:none;fill-rule:evenodd;stroke:#000000;stroke-width:2.0px;stroke-linecap:butt;stroke-linejoin:miter;stroke-opacity:1;stroke-dasharray:6,6\"/>\n<path class=\"bond-3\" d=\"M 640.562,453.56 L 629.565,456.716\" style=\"fill:none;fill-rule:evenodd;stroke:#000000;stroke-width:2.0px;stroke-linecap:butt;stroke-linejoin:miter;stroke-opacity:1\"/>\n<path class=\"bond-3\" d=\"M 629.565,456.716 L 618.568,459.872\" style=\"fill:none;fill-rule:evenodd;stroke:#FF0000;stroke-width:2.0px;stroke-linecap:butt;stroke-linejoin:miter;stroke-opacity:1\"/>\n<path class=\"bond-4\" d=\"M 640.562,453.56 L 660.19,472.507\" style=\"fill:none;fill-rule:evenodd;stroke:#000000;stroke-width:2.0px;stroke-linecap:butt;stroke-linejoin:miter;stroke-opacity:1\"/>\n<path class=\"bond-4\" d=\"M 647.295,452.477 L 661.035,465.739\" style=\"fill:none;fill-rule:evenodd;stroke:#000000;stroke-width:2.0px;stroke-linecap:butt;stroke-linejoin:miter;stroke-opacity:1;stroke-dasharray:6,6\"/>\n<path class=\"bond-5\" d=\"M 660.19,472.507 L 654.744,494.368\" style=\"fill:none;fill-rule:evenodd;stroke:#E5E5E5;stroke-width:1.5px;stroke-linecap:butt;stroke-linejoin:miter;stroke-opacity:1\"/>\n<path class=\"bond-6\" d=\"M 660.942,475.129 L 686.157,467.893\" style=\"fill:none;fill-rule:evenodd;stroke:#E5E5E5;stroke-width:1.5px;stroke-linecap:butt;stroke-linejoin:miter;stroke-opacity:1\"/>\n<path class=\"bond-6\" d=\"M 659.437,469.885 L 684.652,462.649\" style=\"fill:none;fill-rule:evenodd;stroke:#E5E5E5;stroke-width:1.5px;stroke-linecap:butt;stroke-linejoin:miter;stroke-opacity:1;stroke-dasharray:6,6\"/>\n<path class=\"atom-0\" d=\"M 671.921 418.702 L 673.056 417.545 L 671.55 417.239 L 671.78 416.465 L 673.165 417.163 L 672.969 415.646 L 673.787 415.635 L 673.558 417.152 L 674.966 416.497 L 675.206 417.239 L 673.678 417.523 L 674.77 418.691 L 674.104 419.171 L 673.351 417.731 L 672.587 419.171 L 671.921 418.702 \" fill=\"#191919\"/>\n<path class=\"atom-2\" d=\"M 626.071 407.28 L 627.206 406.123 L 625.7 405.818 L 625.929 405.043 L 627.315 405.741 L 627.119 404.225 L 627.937 404.214 L 627.708 405.73 L 629.116 405.076 L 629.356 405.818 L 627.828 406.101 L 628.919 407.269 L 628.254 407.749 L 627.501 406.309 L 626.737 407.749 L 626.071 407.28 \" fill=\"#191919\"/>\n<path class=\"atom-4\" d=\"M 604.202 457.266 L 605.249 457.266 L 605.249 460.551 L 609.2 460.551 L 609.2 457.266 L 610.247 457.266 L 610.247 464.992 L 609.2 464.992 L 609.2 461.424 L 605.249 461.424 L 605.249 464.992 L 604.202 464.992 L 604.202 457.266 \" fill=\"#FF0000\"/>\n<path class=\"atom-4\" d=\"M 610.793 461.107 Q 610.793 459.252, 611.71 458.215 Q 612.626 457.179, 614.339 457.179 Q 616.053 457.179, 616.969 458.215 Q 617.886 459.252, 617.886 461.107 Q 617.886 462.984, 616.958 464.053 Q 616.031 465.112, 614.339 465.112 Q 612.637 465.112, 611.71 464.053 Q 610.793 462.995, 610.793 461.107 M 614.339 464.239 Q 615.518 464.239, 616.151 463.453 Q 616.795 462.657, 616.795 461.107 Q 616.795 459.59, 616.151 458.826 Q 615.518 458.052, 614.339 458.052 Q 613.161 458.052, 612.517 458.815 Q 611.884 459.579, 611.884 461.107 Q 611.884 462.667, 612.517 463.453 Q 613.161 464.239, 614.339 464.239 \" fill=\"#FF0000\"/>\n<path class=\"atom-6\" d=\"M 652.138 498.117 L 653.273 496.96 L 651.767 496.654 L 651.997 495.88 L 653.382 496.578 L 653.186 495.061 L 654.004 495.05 L 653.775 496.567 L 655.183 495.912 L 655.423 496.654 L 653.895 496.938 L 654.986 498.106 L 654.321 498.586 L 653.568 497.145 L 652.804 498.586 L 652.138 498.117 \" fill=\"#191919\"/>\n<path class=\"atom-7\" d=\"M 684.955 464.12 L 686.09 462.963 L 684.584 462.658 L 684.813 461.883 L 686.199 462.581 L 686.003 461.065 L 686.821 461.054 L 686.592 462.57 L 688 461.916 L 688.24 462.658 L 686.712 462.942 L 687.803 464.109 L 687.137 464.589 L 686.385 463.149 L 685.621 464.589 L 684.955 464.12 \" fill=\"#191919\"/>\n<path d=\"M 733.384 584.96 Q 733.8 583.888, 734.792 583.296 Q 735.784 582.688, 737.16 582.688 Q 738.872 582.688, 739.832 583.616 Q 740.792 584.544, 740.792 586.192 Q 740.792 587.872, 739.544 589.44 Q 738.312 591.008, 735.752 592.864 L 740.984 592.864 L 740.984 594.144 L 733.352 594.144 L 733.352 593.072 Q 735.464 591.568, 736.712 590.448 Q 737.976 589.328, 738.584 588.32 Q 739.192 587.312, 739.192 586.272 Q 739.192 585.184, 738.648 584.576 Q 738.104 583.968, 737.16 583.968 Q 736.248 583.968, 735.64 584.336 Q 735.032 584.704, 734.6 585.52 L 733.384 584.96 \" fill=\"#000000\"/>\n<path d=\"M 746.104 594.272 Q 744.024 594.272, 742.984 592.736 Q 741.96 591.2, 741.96 588.464 Q 741.96 585.728, 742.984 584.208 Q 744.008 582.688, 746.104 582.688 Q 748.2 582.688, 749.224 584.208 Q 750.248 585.728, 750.248 588.464 Q 750.248 591.2, 749.208 592.736 Q 748.184 594.272, 746.104 594.272 M 746.104 592.992 Q 747.336 592.992, 747.992 591.856 Q 748.648 590.704, 748.648 588.464 Q 748.648 586.24, 747.992 585.104 Q 747.336 583.968, 746.104 583.968 Q 744.888 583.968, 744.216 585.104 Q 743.56 586.24, 743.56 588.464 Q 743.56 590.704, 744.216 591.856 Q 744.888 592.992, 746.104 592.992 \" fill=\"#000000\"/>\n<path d=\"M 751.08 584.96 Q 751.496 583.888, 752.488 583.296 Q 753.48 582.688, 754.856 582.688 Q 756.568 582.688, 757.528 583.616 Q 758.488 584.544, 758.488 586.192 Q 758.488 587.872, 757.24 589.44 Q 756.008 591.008, 753.448 592.864 L 758.68 592.864 L 758.68 594.144 L 751.048 594.144 L 751.048 593.072 Q 753.16 591.568, 754.408 590.448 Q 755.672 589.328, 756.28 588.32 Q 756.888 587.312, 756.888 586.272 Q 756.888 585.184, 756.344 584.576 Q 755.8 583.968, 754.856 583.968 Q 753.944 583.968, 753.336 584.336 Q 752.728 584.704, 752.296 585.52 L 751.08 584.96 \" fill=\"#000000\"/>\n<ellipse cx=\"179.513\" cy=\"743.083\" rx=\"5.45612\" ry=\"5.45612\" style=\"fill:#9999E5;fill-rule:evenodd;stroke:#9999E5;stroke-width:2px;stroke-linecap:butt;stroke-linejoin:miter;stroke-opacity:1\"/>\n<path class=\"bond-0\" d=\"M 158.632,755.616 L 179.513,743.083\" style=\"fill:none;fill-rule:evenodd;stroke:#E5E5E5;stroke-width:1.5px;stroke-linecap:butt;stroke-linejoin:miter;stroke-opacity:1\"/>\n<path class=\"bond-1\" d=\"M 179.513,743.083 L 200.857,754.928\" style=\"fill:none;fill-rule:evenodd;stroke:#E5E5E5;stroke-width:1.5px;stroke-linecap:butt;stroke-linejoin:miter;stroke-opacity:1\"/>\n<path class=\"atom-0\" d=\"M 154.666 756.26 L 155.801 755.104 L 154.295 754.798 L 154.524 754.023 L 155.91 754.722 L 155.713 753.205 L 156.532 753.194 L 156.303 754.711 L 157.71 754.056 L 157.95 754.798 L 156.423 755.082 L 157.514 756.249 L 156.848 756.73 L 156.095 755.289 L 155.331 756.73 L 154.666 756.26 \" fill=\"#191919\"/>\n<path class=\"atom-2\" d=\"M 201.91 755.458 L 203.045 754.302 L 201.539 753.996 L 201.769 753.221 L 203.154 753.92 L 202.958 752.403 L 203.776 752.392 L 203.547 753.909 L 204.955 753.254 L 205.195 753.996 L 203.667 754.28 L 204.759 755.447 L 204.093 755.928 L 203.34 754.487 L 202.576 755.928 L 201.91 755.458 \" fill=\"#191919\"/>\n<path d=\"M 143.144 888.112 Q 144.184 888.56, 144.776 889.232 Q 145.368 889.888, 145.368 891.008 Q 145.368 891.968, 144.872 892.72 Q 144.376 893.456, 143.48 893.872 Q 142.6 894.272, 141.432 894.272 Q 139.544 894.272, 138.456 893.408 Q 137.368 892.528, 137.368 891.008 Q 137.368 890.08, 137.848 889.392 Q 138.328 888.688, 139.32 888.16 Q 138.584 887.744, 138.184 887.136 Q 137.784 886.512, 137.784 885.552 Q 137.784 884.224, 138.744 883.44 Q 139.72 882.656, 141.368 882.656 Q 143.016 882.656, 143.976 883.44 Q 144.952 884.224, 144.952 885.552 Q 144.952 886.384, 144.488 887.008 Q 144.04 887.616, 143.144 888.112 M 141.368 883.856 Q 140.424 883.856, 139.896 884.304 Q 139.384 884.752, 139.384 885.552 Q 139.384 886.144, 139.736 886.544 Q 140.088 886.928, 140.584 887.152 Q 141.096 887.376, 142.072 887.712 Q 142.76 887.232, 143.048 886.72 Q 143.352 886.208, 143.352 885.552 Q 143.352 884.752, 142.824 884.304 Q 142.312 883.856, 141.368 883.856 M 141.432 893.072 Q 142.488 893.072, 143.128 892.512 Q 143.768 891.936, 143.768 890.992 Q 143.768 890.384, 143.432 890 Q 143.096 889.616, 142.584 889.392 Q 142.088 889.168, 141.192 888.88 L 140.472 888.64 Q 139.672 889.12, 139.32 889.696 Q 138.968 890.256, 138.968 890.992 Q 138.968 891.936, 139.64 892.512 Q 140.312 893.072, 141.432 893.072 \" fill=\"#000000\"/>\n<path d=\"M 150.488 894.24 Q 148.408 894.24, 147.368 892.704 Q 146.344 891.168, 146.344 888.432 Q 146.344 885.696, 147.368 884.176 Q 148.392 882.656, 150.488 882.656 Q 152.584 882.656, 153.608 884.176 Q 154.632 885.696, 154.632 888.432 Q 154.632 891.168, 153.592 892.704 Q 152.568 894.24, 150.488 894.24 M 150.488 892.96 Q 151.72 892.96, 152.376 891.824 Q 153.032 890.672, 153.032 888.432 Q 153.032 886.208, 152.376 885.072 Q 151.72 883.936, 150.488 883.936 Q 149.272 883.936, 148.6 885.072 Q 147.944 886.208, 147.944 888.432 Q 147.944 890.672, 148.6 891.824 Q 149.272 892.96, 150.488 892.96 \" fill=\"#000000\"/>\n<ellipse cx=\"362.096\" cy=\"786.003\" rx=\"5.45612\" ry=\"5.45612\" style=\"fill:#9999E5;fill-rule:evenodd;stroke:#9999E5;stroke-width:2px;stroke-linecap:butt;stroke-linejoin:miter;stroke-opacity:1\"/>\n<path class=\"bond-0\" d=\"M 358.911,759.062 L 359.291,781.468\" style=\"fill:none;fill-rule:evenodd;stroke:#E5E5E5;stroke-width:1.5px;stroke-linecap:butt;stroke-linejoin:miter;stroke-opacity:1\"/>\n<path class=\"bond-0\" d=\"M 364.366,758.969 L 364.746,781.375\" style=\"fill:none;fill-rule:evenodd;stroke:#E5E5E5;stroke-width:1.5px;stroke-linecap:butt;stroke-linejoin:miter;stroke-opacity:1\"/>\n<path class=\"atom-0\" d=\"M 360.177 757.864 L 361.312 756.708 L 359.806 756.402 L 360.035 755.627 L 361.421 756.326 L 361.224 754.809 L 362.043 754.798 L 361.813 756.315 L 363.221 755.66 L 363.461 756.402 L 361.934 756.686 L 363.025 757.853 L 362.359 758.334 L 361.606 756.893 L 360.842 758.334 L 360.177 757.864 \" fill=\"#191919\"/>\n<path class=\"atom-1\" d=\"M 358.55 786.025 Q 358.55 784.17, 359.467 783.133 Q 360.383 782.097, 362.096 782.097 Q 363.81 782.097, 364.726 783.133 Q 365.643 784.17, 365.643 786.025 Q 365.643 787.902, 364.715 788.971 Q 363.788 790.03, 362.096 790.03 Q 360.394 790.03, 359.467 788.971 Q 358.55 787.913, 358.55 786.025 M 362.096 789.157 Q 363.275 789.157, 363.908 788.371 Q 364.552 787.575, 364.552 786.025 Q 364.552 784.508, 363.908 783.744 Q 363.275 782.97, 362.096 782.97 Q 360.918 782.97, 360.274 783.733 Q 359.641 784.497, 359.641 786.025 Q 359.641 787.585, 360.274 788.371 Q 360.918 789.157, 362.096 789.157 \" fill=\"#FF0000\"/>\n<path d=\"M 437.911 887.072 Q 438.903 887.072, 439.687 887.504 Q 440.471 887.936, 440.903 888.72 Q 441.335 889.504, 441.335 890.496 Q 441.335 891.6, 440.839 892.464 Q 440.359 893.312, 439.495 893.792 Q 438.631 894.272, 437.527 894.272 Q 435.511 894.272, 434.487 892.912 Q 433.479 891.536, 433.479 888.816 Q 433.479 885.808, 434.727 884.256 Q 435.991 882.688, 438.407 882.688 Q 439.111 882.688, 439.703 882.848 Q 440.311 883.008, 440.887 883.344 L 440.263 884.416 Q 439.431 883.968, 438.423 883.968 Q 436.823 883.968, 436.007 885.008 Q 435.191 886.032, 435.095 888.16 Q 435.671 887.632, 436.391 887.36 Q 437.127 887.072, 437.911 887.072 M 437.543 892.96 Q 438.151 892.96, 438.647 892.64 Q 439.159 892.32, 439.447 891.76 Q 439.735 891.2, 439.735 890.512 Q 439.735 889.504, 439.175 888.928 Q 438.615 888.352, 437.623 888.352 Q 436.935 888.352, 436.247 888.64 Q 435.575 888.912, 435.095 889.392 Q 435.159 891.264, 435.751 892.112 Q 436.343 892.96, 437.543 892.96 \" fill=\"#000000\"/>\n<path d=\"M 446.183 887.056 Q 447.175 887.056, 447.991 887.488 Q 448.807 887.904, 449.271 888.704 Q 449.735 889.488, 449.735 890.56 Q 449.735 891.728, 449.159 892.576 Q 448.599 893.408, 447.671 893.84 Q 446.743 894.272, 445.687 894.272 Q 444.647 894.272, 443.687 893.888 Q 442.727 893.504, 442.071 892.768 L 443.031 891.776 Q 443.559 892.352, 444.279 892.672 Q 444.999 892.976, 445.735 892.976 Q 446.743 892.976, 447.431 892.352 Q 448.135 891.728, 448.135 890.592 Q 448.135 889.392, 447.431 888.832 Q 446.743 888.256, 445.639 888.256 Q 444.647 888.256, 443.543 888.688 L 442.663 888.272 L 443.207 882.816 L 449.031 882.816 L 448.871 884.096 L 444.519 884.096 L 444.183 887.456 Q 445.191 887.056, 446.183 887.056 \" fill=\"#000000\"/>\n<path d=\"M 454.855 894.272 Q 452.775 894.272, 451.735 892.736 Q 450.711 891.2, 450.711 888.464 Q 450.711 885.728, 451.735 884.208 Q 452.759 882.688, 454.855 882.688 Q 456.951 882.688, 457.975 884.208 Q 458.999 885.728, 458.999 888.464 Q 458.999 891.2, 457.959 892.736 Q 456.935 894.272, 454.855 894.272 M 454.855 892.992 Q 456.087 892.992, 456.743 891.856 Q 457.399 890.704, 457.399 888.464 Q 457.399 886.24, 456.743 885.104 Q 456.087 883.968, 454.855 883.968 Q 453.639 883.968, 452.967 885.104 Q 452.311 886.24, 452.311 888.464 Q 452.311 890.704, 452.967 891.856 Q 453.639 892.992, 454.855 892.992 \" fill=\"#000000\"/>\n<ellipse cx=\"662.096\" cy=\"786.003\" rx=\"5.45612\" ry=\"5.45612\" style=\"fill:#9999E5;fill-rule:evenodd;stroke:#9999E5;stroke-width:2px;stroke-linecap:butt;stroke-linejoin:miter;stroke-opacity:1\"/>\n<path class=\"bond-0\" d=\"M 638.301,745.778 L 661.633,758.726\" style=\"fill:none;fill-rule:evenodd;stroke:#E5E5E5;stroke-width:1.5px;stroke-linecap:butt;stroke-linejoin:miter;stroke-opacity:1\"/>\n<path class=\"bond-1\" d=\"M 658.906,758.773 L 659.098,770.117\" style=\"fill:none;fill-rule:evenodd;stroke:#000000;stroke-width:2.0px;stroke-linecap:butt;stroke-linejoin:miter;stroke-opacity:1\"/>\n<path class=\"bond-1\" d=\"M 659.098,770.117 L 659.291,781.461\" style=\"fill:none;fill-rule:evenodd;stroke:#FF0000;stroke-width:2.0px;stroke-linecap:butt;stroke-linejoin:miter;stroke-opacity:1\"/>\n<path class=\"bond-1\" d=\"M 664.361,758.68 L 664.554,770.024\" style=\"fill:none;fill-rule:evenodd;stroke:#000000;stroke-width:2.0px;stroke-linecap:butt;stroke-linejoin:miter;stroke-opacity:1\"/>\n<path class=\"bond-1\" d=\"M 664.554,770.024 L 664.746,781.368\" style=\"fill:none;fill-rule:evenodd;stroke:#FF0000;stroke-width:2.0px;stroke-linecap:butt;stroke-linejoin:miter;stroke-opacity:1\"/>\n<path class=\"bond-2\" d=\"M 684.542,744.976 L 660.229,756.387 L 663.037,761.066 Z\" style=\"fill:#E5E5E5;fill-rule:evenodd;fill-opacity:1;stroke:#E5E5E5;stroke-width:4px;stroke-linecap:butt;stroke-linejoin:miter;stroke-opacity:1;\"/>\n<path class=\"atom-0\" d=\"M 636.323 744.627 L 637.458 743.47 L 635.952 743.165 L 636.181 742.39 L 637.567 743.088 L 637.37 741.572 L 638.189 741.561 L 637.96 743.078 L 639.367 742.423 L 639.607 743.165 L 638.08 743.449 L 639.171 744.616 L 638.505 745.096 L 637.752 743.656 L 636.988 745.096 L 636.323 744.627 \" fill=\"#191919\"/>\n<path class=\"atom-2\" d=\"M 658.55 786.025 Q 658.55 784.17, 659.467 783.133 Q 660.383 782.097, 662.096 782.097 Q 663.81 782.097, 664.726 783.133 Q 665.643 784.17, 665.643 786.025 Q 665.643 787.902, 664.715 788.971 Q 663.788 790.03, 662.096 790.03 Q 660.394 790.03, 659.467 788.971 Q 658.55 787.913, 658.55 786.025 M 662.096 789.157 Q 663.275 789.157, 663.908 788.371 Q 664.552 787.575, 664.552 786.025 Q 664.552 784.508, 663.908 783.744 Q 663.275 782.97, 662.096 782.97 Q 660.918 782.97, 660.274 783.733 Q 659.641 784.497, 659.641 786.025 Q 659.641 787.585, 660.274 788.371 Q 660.918 789.157, 662.096 789.157 \" fill=\"#FF0000\"/>\n<path class=\"atom-3\" d=\"M 683.567 743.825 L 684.702 742.668 L 683.196 742.363 L 683.426 741.588 L 684.811 742.286 L 684.615 740.77 L 685.433 740.759 L 685.204 742.276 L 686.612 741.621 L 686.852 742.363 L 685.324 742.647 L 686.416 743.814 L 685.75 744.294 L 684.997 742.854 L 684.233 744.294 L 683.567 743.825 \" fill=\"#191919\"/>\n<path class=\"atom-3\" d=\"M 687.78 740.89 L 688.827 740.89 L 688.827 744.174 L 692.777 744.174 L 692.777 740.89 L 693.825 740.89 L 693.825 748.616 L 692.777 748.616 L 692.777 745.047 L 688.827 745.047 L 688.827 748.616 L 687.78 748.616 L 687.78 740.89 \" fill=\"#191919\"/>\n<path d=\"M 731.482 892.864 L 733.962 892.864 L 733.962 884.4 L 731.226 885.248 L 730.858 884.304 L 734.33 882.752 L 735.466 882.944 L 735.466 892.864 L 737.69 892.864 L 737.69 894.144 L 731.482 894.144 L 731.482 892.864 \" fill=\"#000000\"/>\n<path d=\"M 742.378 882.688 Q 744.394 882.688, 745.402 884.064 Q 746.426 885.424, 746.426 888.144 Q 746.426 891.152, 745.162 892.72 Q 743.914 894.272, 741.498 894.272 Q 740.794 894.272, 740.186 894.112 Q 739.594 893.952, 739.018 893.616 L 739.642 892.544 Q 740.474 892.992, 741.482 892.992 Q 743.082 892.992, 743.898 891.968 Q 744.714 890.928, 744.81 888.8 Q 744.234 889.328, 743.498 889.616 Q 742.778 889.888, 741.994 889.888 Q 741.002 889.888, 740.218 889.456 Q 739.434 889.024, 739.002 888.24 Q 738.57 887.456, 738.57 886.464 Q 738.57 885.36, 739.05 884.512 Q 739.546 883.648, 740.41 883.168 Q 741.274 882.688, 742.378 882.688 M 740.17 886.448 Q 740.17 887.456, 740.73 888.032 Q 741.29 888.608, 742.282 888.608 Q 742.97 888.608, 743.642 888.336 Q 744.33 888.048, 744.81 887.568 Q 744.746 885.696, 744.154 884.848 Q 743.562 884, 742.362 884 Q 741.754 884, 741.242 884.32 Q 740.746 884.64, 740.458 885.2 Q 740.17 885.76, 740.17 886.448 \" fill=\"#000000\"/>\n<path d=\"M 747.914 892.864 L 750.394 892.864 L 750.394 884.4 L 747.658 885.248 L 747.29 884.304 L 750.762 882.752 L 751.898 882.944 L 751.898 892.864 L 754.122 892.864 L 754.122 894.144 L 747.914 894.144 L 747.914 892.864 \" fill=\"#000000\"/>\n<path d=\"M 760.346 884.096 L 754.41 884.096 L 754.41 882.816 L 761.93 882.816 L 761.93 883.952 L 757.354 894.144 L 755.818 894.144 L 760.346 884.096 \" fill=\"#000000\"/>\n<ellipse cx=\"246.92\" cy=\"1058.89\" rx=\"5.45612\" ry=\"5.45612\" style=\"fill:#E5E533;fill-rule:evenodd;stroke:#E5E533;stroke-width:2px;stroke-linecap:butt;stroke-linejoin:miter;stroke-opacity:1\"/>\n<ellipse cx=\"256.32\" cy=\"1033.28\" rx=\"5.45612\" ry=\"5.45612\" style=\"fill:#E5E533;fill-rule:evenodd;stroke:#E5E533;stroke-width:2px;stroke-linecap:butt;stroke-linejoin:miter;stroke-opacity:1\"/>\n<ellipse cx=\"238.841\" cy=\"1012.33\" rx=\"5.45612\" ry=\"5.45612\" style=\"fill:#9999E5;fill-rule:evenodd;stroke:#9999E5;stroke-width:2px;stroke-linecap:butt;stroke-linejoin:miter;stroke-opacity:1\"/>\n<ellipse cx=\"211.962\" cy=\"1017\" rx=\"5.45612\" ry=\"5.45612\" style=\"fill:#E5E533;fill-rule:evenodd;stroke:#E5E533;stroke-width:2px;stroke-linecap:butt;stroke-linejoin:miter;stroke-opacity:1\"/>\n<ellipse cx=\"202.562\" cy=\"1042.61\" rx=\"5.45612\" ry=\"5.45612\" style=\"fill:#E5E533;fill-rule:evenodd;stroke:#E5E533;stroke-width:2px;stroke-linecap:butt;stroke-linejoin:miter;stroke-opacity:1\"/>\n<path class=\"bond-0\" d=\"M 222.551,1063.12 L 246.92,1058.89\" style=\"fill:none;fill-rule:evenodd;stroke:#E5E5E5;stroke-width:1.5px;stroke-linecap:butt;stroke-linejoin:miter;stroke-opacity:1\"/>\n<path class=\"bond-0\" d=\"M 225.273,1057.11 L 242.332,1054.15\" style=\"fill:none;fill-rule:evenodd;stroke:#E5E5E5;stroke-width:1.5px;stroke-linecap:butt;stroke-linejoin:miter;stroke-opacity:1\"/>\n<path class=\"bond-7\" d=\"M 217.531,1060.54 L 202.562,1042.61\" style=\"fill:none;fill-rule:evenodd;stroke:#E5E5E5;stroke-width:1.5px;stroke-linecap:butt;stroke-linejoin:miter;stroke-opacity:1\"/>\n<path class=\"bond-1\" d=\"M 246.92,1058.89 L 256.32,1033.28\" style=\"fill:none;fill-rule:evenodd;stroke:#000000;stroke-width:2.0px;stroke-linecap:butt;stroke-linejoin:miter;stroke-opacity:1\"/>\n<path class=\"bond-2\" d=\"M 256.32,1033.28 L 267.645,1031.31\" style=\"fill:none;fill-rule:evenodd;stroke:#000000;stroke-width:2.0px;stroke-linecap:butt;stroke-linejoin:miter;stroke-opacity:1\"/>\n<path class=\"bond-2\" d=\"M 267.645,1031.31 L 278.97,1029.35\" style=\"fill:none;fill-rule:evenodd;stroke:#FF0000;stroke-width:2.0px;stroke-linecap:butt;stroke-linejoin:miter;stroke-opacity:1\"/>\n<path class=\"bond-3\" d=\"M 256.32,1033.28 L 238.841,1012.33\" style=\"fill:none;fill-rule:evenodd;stroke:#000000;stroke-width:2.0px;stroke-linecap:butt;stroke-linejoin:miter;stroke-opacity:1\"/>\n<path class=\"bond-3\" d=\"M 249.509,1033.63 L 237.273,1018.97\" style=\"fill:none;fill-rule:evenodd;stroke:#000000;stroke-width:2.0px;stroke-linecap:butt;stroke-linejoin:miter;stroke-opacity:1\"/>\n<path class=\"bond-4\" d=\"M 238.841,1012.33 L 211.962,1017\" style=\"fill:none;fill-rule:evenodd;stroke:#000000;stroke-width:2.0px;stroke-linecap:butt;stroke-linejoin:miter;stroke-opacity:1\"/>\n<path class=\"bond-5\" d=\"M 211.962,1017 L 202.562,1042.61\" style=\"fill:none;fill-rule:evenodd;stroke:#000000;stroke-width:2.0px;stroke-linecap:butt;stroke-linejoin:miter;stroke-opacity:1\"/>\n<path class=\"bond-5\" d=\"M 215.674,1022.72 L 209.094,1040.64\" style=\"fill:none;fill-rule:evenodd;stroke:#000000;stroke-width:2.0px;stroke-linecap:butt;stroke-linejoin:miter;stroke-opacity:1\"/>\n<path class=\"bond-6\" d=\"M 184.116,1046.36 L 183.929,1045.29\" style=\"fill:none;fill-rule:evenodd;stroke:#E5E5E5;stroke-width:1.0px;stroke-linecap:butt;stroke-linejoin:miter;stroke-opacity:1\"/>\n<path class=\"bond-6\" d=\"M 188.844,1046.09 L 188.471,1043.94\" style=\"fill:none;fill-rule:evenodd;stroke:#E5E5E5;stroke-width:1.0px;stroke-linecap:butt;stroke-linejoin:miter;stroke-opacity:1\"/>\n<path class=\"bond-6\" d=\"M 193.572,1045.83 L 193.012,1042.6\" style=\"fill:none;fill-rule:evenodd;stroke:#E5E5E5;stroke-width:1.0px;stroke-linecap:butt;stroke-linejoin:miter;stroke-opacity:1\"/>\n<path class=\"bond-6\" d=\"M 198.3,1045.56 L 197.554,1041.26\" style=\"fill:none;fill-rule:evenodd;stroke:#E5E5E5;stroke-width:1.0px;stroke-linecap:butt;stroke-linejoin:miter;stroke-opacity:1\"/>\n<path class=\"bond-6\" d=\"M 203.028,1045.29 L 202.095,1039.92\" style=\"fill:none;fill-rule:evenodd;stroke:#E5E5E5;stroke-width:1.0px;stroke-linecap:butt;stroke-linejoin:miter;stroke-opacity:1\"/>\n<path class=\"atom-0\" d=\"M 218.584 1062.69 L 219.719 1061.53 L 218.213 1061.23 L 218.442 1060.45 L 219.828 1061.15 L 219.632 1059.63 L 220.45 1059.62 L 220.221 1061.14 L 221.629 1060.49 L 221.869 1061.23 L 220.341 1061.51 L 221.432 1062.68 L 220.767 1063.16 L 220.014 1061.72 L 219.25 1063.16 L 218.584 1062.69 \" fill=\"#191919\"/>\n<path class=\"atom-3\" d=\"M 279.652 1028.63 Q 279.652 1026.78, 280.569 1025.74 Q 281.485 1024.71, 283.199 1024.71 Q 284.912 1024.71, 285.828 1025.74 Q 286.745 1026.78, 286.745 1028.63 Q 286.745 1030.51, 285.817 1031.58 Q 284.89 1032.64, 283.199 1032.64 Q 281.496 1032.64, 280.569 1031.58 Q 279.652 1030.52, 279.652 1028.63 M 283.199 1031.77 Q 284.377 1031.77, 285.01 1030.98 Q 285.654 1030.18, 285.654 1028.63 Q 285.654 1027.12, 285.01 1026.35 Q 284.377 1025.58, 283.199 1025.58 Q 282.02 1025.58, 281.376 1026.34 Q 280.743 1027.11, 280.743 1028.63 Q 280.743 1030.19, 281.376 1030.98 Q 282.02 1031.77, 283.199 1031.77 \" fill=\"#FF0000\"/>\n<path class=\"atom-3\" d=\"M 287.673 1024.79 L 288.72 1024.79 L 288.72 1028.08 L 292.67 1028.08 L 292.67 1024.79 L 293.718 1024.79 L 293.718 1032.52 L 292.67 1032.52 L 292.67 1028.95 L 288.72 1028.95 L 288.72 1032.52 L 287.673 1032.52 L 287.673 1024.79 \" fill=\"#FF0000\"/>\n<path class=\"atom-7\" d=\"M 168.448 1046.41 L 169.583 1045.25 L 168.077 1044.95 L 168.306 1044.17 L 169.692 1044.87 L 169.496 1043.35 L 170.314 1043.34 L 170.085 1044.86 L 171.493 1044.2 L 171.733 1044.95 L 170.205 1045.23 L 171.296 1046.4 L 170.631 1046.88 L 169.878 1045.44 L 169.114 1046.88 L 168.448 1046.41 \" fill=\"#191919\"/>\n<path class=\"atom-7\" d=\"M 172.66 1043.47 L 173.708 1043.47 L 173.708 1046.76 L 177.658 1046.76 L 177.658 1043.47 L 178.706 1043.47 L 178.706 1051.2 L 177.658 1051.2 L 177.658 1047.63 L 173.708 1047.63 L 173.708 1051.2 L 172.66 1051.2 L 172.66 1043.47 \" fill=\"#191919\"/>\n<path d=\"M 131.656 1192.83 L 134.136 1192.83 L 134.136 1184.37 L 131.4 1185.22 L 131.032 1184.27 L 134.504 1182.72 L 135.64 1182.91 L 135.64 1192.83 L 137.864 1192.83 L 137.864 1194.11 L 131.656 1194.11 L 131.656 1192.83 \" fill=\"#000000\"/>\n<path d=\"M 143.976 1188.14 Q 145.08 1188.46, 145.608 1189.18 Q 146.152 1189.89, 146.152 1191.01 Q 146.152 1191.97, 145.672 1192.72 Q 145.192 1193.46, 144.312 1193.87 Q 143.432 1194.27, 142.28 1194.27 Q 141.064 1194.27, 140.152 1193.86 Q 139.256 1193.42, 138.536 1192.56 L 139.448 1191.63 Q 140.152 1192.4, 140.744 1192.7 Q 141.336 1192.99, 142.28 1192.99 Q 143.304 1192.99, 143.928 1192.45 Q 144.552 1191.89, 144.552 1190.99 Q 144.552 1189.84, 143.896 1189.33 Q 143.256 1188.8, 141.864 1188.8 L 141.048 1188.8 L 141.048 1187.65 L 141.768 1187.65 Q 143 1187.63, 143.656 1187.1 Q 144.312 1186.56, 144.312 1185.55 Q 144.312 1184.82, 143.768 1184.38 Q 143.224 1183.94, 142.296 1183.94 Q 141.352 1183.94, 140.76 1184.27 Q 140.184 1184.61, 139.736 1185.46 L 138.632 1184.86 Q 139.032 1183.92, 139.992 1183.3 Q 140.952 1182.66, 142.296 1182.66 Q 143.96 1182.66, 144.936 1183.44 Q 145.912 1184.22, 145.912 1185.55 Q 145.912 1186.46, 145.416 1187.12 Q 144.92 1187.78, 143.976 1188.14 \" fill=\"#000000\"/>\n<path d=\"M 147.64 1192.83 L 150.12 1192.83 L 150.12 1184.37 L 147.384 1185.22 L 147.016 1184.27 L 150.488 1182.72 L 151.624 1182.91 L 151.624 1192.83 L 153.848 1192.83 L 153.848 1194.11 L 147.64 1194.11 L 147.64 1192.83 \" fill=\"#000000\"/>\n<path d=\"M 159.96 1188.14 Q 161.064 1188.46, 161.592 1189.18 Q 162.136 1189.89, 162.136 1191.01 Q 162.136 1191.97, 161.656 1192.72 Q 161.176 1193.46, 160.296 1193.87 Q 159.416 1194.27, 158.264 1194.27 Q 157.048 1194.27, 156.136 1193.86 Q 155.24 1193.42, 154.52 1192.56 L 155.432 1191.63 Q 156.136 1192.4, 156.728 1192.7 Q 157.32 1192.99, 158.264 1192.99 Q 159.288 1192.99, 159.912 1192.45 Q 160.536 1191.89, 160.536 1190.99 Q 160.536 1189.84, 159.88 1189.33 Q 159.24 1188.8, 157.848 1188.8 L 157.032 1188.8 L 157.032 1187.65 L 157.752 1187.65 Q 158.984 1187.63, 159.64 1187.1 Q 160.296 1186.56, 160.296 1185.55 Q 160.296 1184.82, 159.752 1184.38 Q 159.208 1183.94, 158.28 1183.94 Q 157.336 1183.94, 156.744 1184.27 Q 156.168 1184.61, 155.72 1185.46 L 154.616 1184.86 Q 155.016 1183.92, 155.976 1183.3 Q 156.936 1182.66, 158.28 1182.66 Q 159.944 1182.66, 160.92 1183.44 Q 161.896 1184.22, 161.896 1185.55 Q 161.896 1186.46, 161.4 1187.12 Q 160.904 1187.78, 159.96 1188.14 \" fill=\"#000000\"/>\n<ellipse cx=\"546.92\" cy=\"1058.89\" rx=\"5.45612\" ry=\"5.45612\" style=\"fill:#E5E533;fill-rule:evenodd;stroke:#E5E533;stroke-width:2px;stroke-linecap:butt;stroke-linejoin:miter;stroke-opacity:1\"/>\n<ellipse cx=\"556.32\" cy=\"1033.28\" rx=\"5.45612\" ry=\"5.45612\" style=\"fill:#9999E5;fill-rule:evenodd;stroke:#9999E5;stroke-width:2px;stroke-linecap:butt;stroke-linejoin:miter;stroke-opacity:1\"/>\n<ellipse cx=\"538.841\" cy=\"1012.33\" rx=\"5.45612\" ry=\"5.45612\" style=\"fill:#E5E533;fill-rule:evenodd;stroke:#E5E533;stroke-width:2px;stroke-linecap:butt;stroke-linejoin:miter;stroke-opacity:1\"/>\n<path class=\"bond-0\" d=\"M 523.017,1065.8 L 547.386,1061.57\" style=\"fill:none;fill-rule:evenodd;stroke:#E5E5E5;stroke-width:1.5px;stroke-linecap:butt;stroke-linejoin:miter;stroke-opacity:1\"/>\n<path class=\"bond-0\" d=\"M 522.084,1060.43 L 546.453,1056.2\" style=\"fill:none;fill-rule:evenodd;stroke:#E5E5E5;stroke-width:1.5px;stroke-linecap:butt;stroke-linejoin:miter;stroke-opacity:1;stroke-dasharray:6,6\"/>\n<path class=\"bond-1\" d=\"M 546.92,1058.89 L 556.32,1033.28\" style=\"fill:none;fill-rule:evenodd;stroke:#000000;stroke-width:2.0px;stroke-linecap:butt;stroke-linejoin:miter;stroke-opacity:1\"/>\n<path class=\"bond-1\" d=\"M 543.208,1053.17 L 549.788,1035.24\" style=\"fill:none;fill-rule:evenodd;stroke:#000000;stroke-width:2.0px;stroke-linecap:butt;stroke-linejoin:miter;stroke-opacity:1;stroke-dasharray:6,6\"/>\n<path class=\"bond-2\" d=\"M 556.32,1033.28 L 567.645,1031.31\" style=\"fill:none;fill-rule:evenodd;stroke:#000000;stroke-width:2.0px;stroke-linecap:butt;stroke-linejoin:miter;stroke-opacity:1\"/>\n<path class=\"bond-2\" d=\"M 567.645,1031.31 L 578.97,1029.35\" style=\"fill:none;fill-rule:evenodd;stroke:#FF0000;stroke-width:2.0px;stroke-linecap:butt;stroke-linejoin:miter;stroke-opacity:1\"/>\n<path class=\"bond-3\" d=\"M 556.32,1033.28 L 538.841,1012.33\" style=\"fill:none;fill-rule:evenodd;stroke:#000000;stroke-width:2.0px;stroke-linecap:butt;stroke-linejoin:miter;stroke-opacity:1\"/>\n<path class=\"bond-3\" d=\"M 549.509,1033.63 L 537.273,1018.97\" style=\"fill:none;fill-rule:evenodd;stroke:#000000;stroke-width:2.0px;stroke-linecap:butt;stroke-linejoin:miter;stroke-opacity:1;stroke-dasharray:6,6\"/>\n<path class=\"bond-4\" d=\"M 538.374,1009.64 L 514.005,1013.87\" style=\"fill:none;fill-rule:evenodd;stroke:#E5E5E5;stroke-width:1.5px;stroke-linecap:butt;stroke-linejoin:miter;stroke-opacity:1\"/>\n<path class=\"bond-4\" d=\"M 539.307,1015.02 L 514.938,1019.25\" style=\"fill:none;fill-rule:evenodd;stroke:#E5E5E5;stroke-width:1.5px;stroke-linecap:butt;stroke-linejoin:miter;stroke-opacity:1;stroke-dasharray:6,6\"/>\n<path class=\"atom-0\" d=\"M 518.584 1062.69 L 519.719 1061.53 L 518.213 1061.23 L 518.442 1060.45 L 519.828 1061.15 L 519.632 1059.63 L 520.45 1059.62 L 520.221 1061.14 L 521.629 1060.49 L 521.869 1061.23 L 520.341 1061.51 L 521.432 1062.68 L 520.767 1063.16 L 520.014 1061.72 L 519.25 1063.16 L 518.584 1062.69 \" fill=\"#191919\"/>\n<path class=\"atom-3\" d=\"M 579.652 1028.63 Q 579.652 1026.78, 580.569 1025.74 Q 581.485 1024.71, 583.199 1024.71 Q 584.912 1024.71, 585.828 1025.74 Q 586.745 1026.78, 586.745 1028.63 Q 586.745 1030.51, 585.817 1031.58 Q 584.89 1032.64, 583.199 1032.64 Q 581.496 1032.64, 580.569 1031.58 Q 579.652 1030.52, 579.652 1028.63 M 583.199 1031.77 Q 584.377 1031.77, 585.01 1030.98 Q 585.654 1030.18, 585.654 1028.63 Q 585.654 1027.12, 585.01 1026.35 Q 584.377 1025.58, 583.199 1025.58 Q 582.02 1025.58, 581.376 1026.34 Q 580.743 1027.11, 580.743 1028.63 Q 580.743 1030.19, 581.376 1030.98 Q 582.02 1031.77, 583.199 1031.77 \" fill=\"#FF0000\"/>\n<path class=\"atom-3\" d=\"M 587.673 1024.79 L 588.72 1024.79 L 588.72 1028.08 L 592.67 1028.08 L 592.67 1024.79 L 593.718 1024.79 L 593.718 1032.52 L 592.67 1032.52 L 592.67 1028.95 L 588.72 1028.95 L 588.72 1032.52 L 587.673 1032.52 L 587.673 1024.79 \" fill=\"#FF0000\"/>\n<path class=\"atom-5\" d=\"M 510.505 1016.13 L 511.64 1014.98 L 510.134 1014.67 L 510.363 1013.9 L 511.749 1014.6 L 511.553 1013.08 L 512.371 1013.07 L 512.142 1014.58 L 513.55 1013.93 L 513.79 1014.67 L 512.262 1014.96 L 513.353 1016.12 L 512.687 1016.6 L 511.935 1015.16 L 511.171 1016.6 L 510.505 1016.13 \" fill=\"#191919\"/>\n<path d=\"M 439.439 1184.16 L 433.503 1184.16 L 433.503 1182.88 L 441.023 1182.88 L 441.023 1184.02 L 436.447 1194.21 L 434.911 1194.21 L 439.439 1184.16 \" fill=\"#000000\"/>\n<path d=\"M 448.863 1190.32 L 450.223 1190.32 L 450.223 1191.6 L 448.863 1191.6 L 448.863 1194.21 L 447.359 1194.21 L 447.359 1191.6 L 441.503 1191.6 L 441.503 1190.59 L 446.463 1182.88 L 448.863 1182.88 L 448.863 1190.32 M 443.359 1190.32 L 447.359 1190.32 L 447.359 1183.9 L 443.359 1190.32 \" fill=\"#000000\"/>\n<path d=\"M 455.071 1187.12 Q 456.063 1187.12, 456.879 1187.55 Q 457.695 1187.97, 458.159 1188.77 Q 458.623 1189.55, 458.623 1190.62 Q 458.623 1191.79, 458.047 1192.64 Q 457.487 1193.47, 456.559 1193.9 Q 455.631 1194.34, 454.575 1194.34 Q 453.535 1194.34, 452.575 1193.95 Q 451.615 1193.57, 450.959 1192.83 L 451.919 1191.84 Q 452.447 1192.42, 453.167 1192.74 Q 453.887 1193.04, 454.623 1193.04 Q 455.631 1193.04, 456.319 1192.42 Q 457.023 1191.79, 457.023 1190.66 Q 457.023 1189.46, 456.319 1188.9 Q 455.631 1188.32, 454.527 1188.32 Q 453.535 1188.32, 452.431 1188.75 L 451.551 1188.34 L 452.095 1182.88 L 457.919 1182.88 L 457.759 1184.16 L 453.407 1184.16 L 453.071 1187.52 Q 454.079 1187.12, 455.071 1187.12 \" fill=\"#000000\"/>\n<ellipse cx=\"722.484\" cy=\"1055.94\" rx=\"5.45612\" ry=\"5.45612\" style=\"fill:#E5E533;fill-rule:evenodd;stroke:#E5E533;stroke-width:2px;stroke-linecap:butt;stroke-linejoin:miter;stroke-opacity:1\"/>\n<ellipse cx=\"692.118\" cy=\"1019.74\" rx=\"5.45612\" ry=\"5.45612\" style=\"fill:#E5E533;fill-rule:evenodd;stroke:#E5E533;stroke-width:2px;stroke-linecap:butt;stroke-linejoin:miter;stroke-opacity:1\"/>\n<ellipse cx=\"717.752\" cy=\"1029.07\" rx=\"5.45612\" ry=\"5.45612\" style=\"fill:#9999E5;fill-rule:evenodd;stroke:#9999E5;stroke-width:2px;stroke-linecap:butt;stroke-linejoin:miter;stroke-opacity:1\"/>\n<path class=\"bond-0\" d=\"M 745.607,1064.36 L 722.484,1055.94\" style=\"fill:none;fill-rule:evenodd;stroke:#E5E5E5;stroke-width:1.5px;stroke-linecap:butt;stroke-linejoin:miter;stroke-opacity:1\"/>\n<path class=\"bond-1\" d=\"M 720.73,1053.85 L 702.339,1069.27\" style=\"fill:none;fill-rule:evenodd;stroke:#E5E5E5;stroke-width:1.5px;stroke-linecap:butt;stroke-linejoin:miter;stroke-opacity:1\"/>\n<path class=\"bond-1\" d=\"M 724.237,1058.03 L 705.845,1073.46\" style=\"fill:none;fill-rule:evenodd;stroke:#E5E5E5;stroke-width:1.5px;stroke-linecap:butt;stroke-linejoin:miter;stroke-opacity:1;stroke-dasharray:6,6\"/>\n<path class=\"bond-5\" d=\"M 722.484,1055.94 L 717.752,1029.07\" style=\"fill:none;fill-rule:evenodd;stroke:#000000;stroke-width:2.0px;stroke-linecap:butt;stroke-linejoin:miter;stroke-opacity:1\"/>\n<path class=\"bond-5\" d=\"M 716.4,1052.85 L 713.088,1034.05\" style=\"fill:none;fill-rule:evenodd;stroke:#000000;stroke-width:2.0px;stroke-linecap:butt;stroke-linejoin:miter;stroke-opacity:1;stroke-dasharray:6,6\"/>\n<path class=\"bond-2\" d=\"M 675.479,1037.25 L 693.871,1021.83\" style=\"fill:none;fill-rule:evenodd;stroke:#E5E5E5;stroke-width:1.5px;stroke-linecap:butt;stroke-linejoin:miter;stroke-opacity:1\"/>\n<path class=\"bond-2\" d=\"M 671.973,1033.07 L 690.365,1017.65\" style=\"fill:none;fill-rule:evenodd;stroke:#E5E5E5;stroke-width:1.5px;stroke-linecap:butt;stroke-linejoin:miter;stroke-opacity:1;stroke-dasharray:6,6\"/>\n<path class=\"bond-3\" d=\"M 692.118,1019.74 L 717.752,1029.07\" style=\"fill:none;fill-rule:evenodd;stroke:#000000;stroke-width:2.0px;stroke-linecap:butt;stroke-linejoin:miter;stroke-opacity:1\"/>\n<path class=\"bond-3\" d=\"M 694.096,1026.26 L 712.04,1032.8\" style=\"fill:none;fill-rule:evenodd;stroke:#000000;stroke-width:2.0px;stroke-linecap:butt;stroke-linejoin:miter;stroke-opacity:1;stroke-dasharray:6,6\"/>\n<path class=\"bond-4\" d=\"M 717.752,1029.07 L 726.088,1022.08\" style=\"fill:none;fill-rule:evenodd;stroke:#000000;stroke-width:2.0px;stroke-linecap:butt;stroke-linejoin:miter;stroke-opacity:1\"/>\n<path class=\"bond-4\" d=\"M 726.088,1022.08 L 734.425,1015.09\" style=\"fill:none;fill-rule:evenodd;stroke:#FF0000;stroke-width:2.0px;stroke-linecap:butt;stroke-linejoin:miter;stroke-opacity:1\"/>\n<path class=\"atom-0\" d=\"M 746.66 1064.41 L 747.795 1063.26 L 746.289 1062.95 L 746.518 1062.18 L 747.904 1062.87 L 747.708 1061.36 L 748.526 1061.35 L 748.297 1062.86 L 749.705 1062.21 L 749.945 1062.95 L 748.417 1063.23 L 749.508 1064.4 L 748.843 1064.88 L 748.09 1063.44 L 747.326 1064.88 L 746.66 1064.41 \" fill=\"#191919\"/>\n<path class=\"atom-2\" d=\"M 700.125 1072.61 L 701.26 1071.45 L 699.754 1071.15 L 699.983 1070.37 L 701.369 1071.07 L 701.173 1069.55 L 701.991 1069.54 L 701.762 1071.06 L 703.17 1070.4 L 703.41 1071.15 L 701.882 1071.43 L 702.973 1072.6 L 702.308 1073.08 L 701.555 1071.64 L 700.791 1073.08 L 700.125 1072.61 \" fill=\"#191919\"/>\n<path class=\"atom-3\" d=\"M 669.76 1036.41 L 670.895 1035.25 L 669.389 1034.94 L 669.618 1034.17 L 671.004 1034.87 L 670.807 1033.35 L 671.626 1033.34 L 671.397 1034.86 L 672.804 1034.2 L 673.044 1034.94 L 671.517 1035.23 L 672.608 1036.39 L 671.942 1036.87 L 671.189 1035.43 L 670.425 1036.87 L 669.76 1036.41 \" fill=\"#191919\"/>\n<path class=\"atom-6\" d=\"M 735.107 1011.56 Q 735.107 1009.71, 736.024 1008.67 Q 736.94 1007.63, 738.653 1007.63 Q 740.367 1007.63, 741.283 1008.67 Q 742.2 1009.71, 742.2 1011.56 Q 742.2 1013.44, 741.272 1014.51 Q 740.345 1015.57, 738.653 1015.57 Q 736.951 1015.57, 736.024 1014.51 Q 735.107 1013.45, 735.107 1011.56 M 738.653 1014.69 Q 739.832 1014.69, 740.465 1013.91 Q 741.109 1013.11, 741.109 1011.56 Q 741.109 1010.05, 740.465 1009.28 Q 739.832 1008.51, 738.653 1008.51 Q 737.475 1008.51, 736.831 1009.27 Q 736.198 1010.03, 736.198 1011.56 Q 736.198 1013.12, 736.831 1013.91 Q 737.475 1014.69, 738.653 1014.69 \" fill=\"#FF0000\"/>\n<path class=\"atom-6\" d=\"M 743.127 1007.72 L 744.175 1007.72 L 744.175 1011.01 L 748.125 1011.01 L 748.125 1007.72 L 749.173 1007.72 L 749.173 1015.45 L 748.125 1015.45 L 748.125 1011.88 L 744.175 1011.88 L 744.175 1015.45 L 743.127 1015.45 L 743.127 1007.72 \" fill=\"#FF0000\"/>\n<path d=\"M 730.332 1192.86 L 732.812 1192.86 L 732.812 1184.4 L 730.076 1185.25 L 729.708 1184.3 L 733.18 1182.75 L 734.316 1182.94 L 734.316 1192.86 L 736.54 1192.86 L 736.54 1194.14 L 730.332 1194.14 L 730.332 1192.86 \" fill=\"#000000\"/>\n<path d=\"M 742.06 1187.07 Q 743.052 1187.07, 743.836 1187.5 Q 744.62 1187.94, 745.052 1188.72 Q 745.484 1189.5, 745.484 1190.5 Q 745.484 1191.6, 744.988 1192.46 Q 744.508 1193.31, 743.644 1193.79 Q 742.78 1194.27, 741.676 1194.27 Q 739.66 1194.27, 738.636 1192.91 Q 737.628 1191.54, 737.628 1188.82 Q 737.628 1185.81, 738.876 1184.26 Q 740.14 1182.69, 742.556 1182.69 Q 743.26 1182.69, 743.852 1182.85 Q 744.46 1183.01, 745.036 1183.34 L 744.412 1184.42 Q 743.58 1183.97, 742.572 1183.97 Q 740.972 1183.97, 740.156 1185.01 Q 739.34 1186.03, 739.244 1188.16 Q 739.82 1187.63, 740.54 1187.36 Q 741.276 1187.07, 742.06 1187.07 M 741.692 1192.96 Q 742.3 1192.96, 742.796 1192.64 Q 743.308 1192.32, 743.596 1191.76 Q 743.884 1191.2, 743.884 1190.51 Q 743.884 1189.5, 743.324 1188.93 Q 742.764 1188.35, 741.772 1188.35 Q 741.084 1188.35, 740.396 1188.64 Q 739.724 1188.91, 739.244 1189.39 Q 739.308 1191.26, 739.9 1192.11 Q 740.492 1192.96, 741.692 1192.96 \" fill=\"#000000\"/>\n<path d=\"M 750.604 1194.27 Q 748.524 1194.27, 747.484 1192.74 Q 746.46 1191.2, 746.46 1188.46 Q 746.46 1185.73, 747.484 1184.21 Q 748.508 1182.69, 750.604 1182.69 Q 752.7 1182.69, 753.724 1184.21 Q 754.748 1185.73, 754.748 1188.46 Q 754.748 1191.2, 753.708 1192.74 Q 752.684 1194.27, 750.604 1194.27 M 750.604 1192.99 Q 751.836 1192.99, 752.492 1191.86 Q 753.148 1190.7, 753.148 1188.46 Q 753.148 1186.24, 752.492 1185.1 Q 751.836 1183.97, 750.604 1183.97 Q 749.388 1183.97, 748.716 1185.1 Q 748.06 1186.24, 748.06 1188.46 Q 748.06 1190.7, 748.716 1191.86 Q 749.388 1192.99, 750.604 1192.99 \" fill=\"#000000\"/>\n<path d=\"M 760.972 1184.1 L 755.036 1184.1 L 755.036 1182.82 L 762.556 1182.82 L 762.556 1183.95 L 757.98 1194.14 L 756.444 1194.14 L 760.972 1184.1 \" fill=\"#000000\"/>\n<ellipse cx=\"76.7722\" cy=\"1351.09\" rx=\"5.45612\" ry=\"5.45612\" style=\"fill:#E5E533;fill-rule:evenodd;stroke:#E5E533;stroke-width:2px;stroke-linecap:butt;stroke-linejoin:miter;stroke-opacity:1\"/>\n<ellipse cx=\"50.3389\" cy=\"1357.83\" rx=\"5.45612\" ry=\"5.45612\" style=\"fill:#E5E533;fill-rule:evenodd;stroke:#E5E533;stroke-width:2px;stroke-linecap:butt;stroke-linejoin:miter;stroke-opacity:1\"/>\n<ellipse cx=\"42.9644\" cy=\"1384.1\" rx=\"5.45612\" ry=\"5.45612\" style=\"fill:#9999E5;fill-rule:evenodd;stroke:#9999E5;stroke-width:2px;stroke-linecap:butt;stroke-linejoin:miter;stroke-opacity:1\"/>\n<ellipse cx=\"62.0233\" cy=\"1403.62\" rx=\"5.45612\" ry=\"5.45612\" style=\"fill:#E5E533;fill-rule:evenodd;stroke:#E5E533;stroke-width:2px;stroke-linecap:butt;stroke-linejoin:miter;stroke-opacity:1\"/>\n<ellipse cx=\"88.4567\" cy=\"1396.87\" rx=\"5.45612\" ry=\"5.45612\" style=\"fill:#E5E533;fill-rule:evenodd;stroke:#E5E533;stroke-width:2px;stroke-linecap:butt;stroke-linejoin:miter;stroke-opacity:1\"/>\n<path class=\"bond-0\" d=\"M 93.3213,1368.03 L 76.7722,1351.09\" style=\"fill:none;fill-rule:evenodd;stroke:#E5E5E5;stroke-width:1.5px;stroke-linecap:butt;stroke-linejoin:miter;stroke-opacity:1\"/>\n<path class=\"bond-0\" d=\"M 86.9352,1369.3 L 75.3508,1357.44\" style=\"fill:none;fill-rule:evenodd;stroke:#E5E5E5;stroke-width:1.5px;stroke-linecap:butt;stroke-linejoin:miter;stroke-opacity:1\"/>\n<path class=\"bond-6\" d=\"M 95.7499,1370.89 L 88.4567,1396.87\" style=\"fill:none;fill-rule:evenodd;stroke:#E5E5E5;stroke-width:1.5px;stroke-linecap:butt;stroke-linejoin:miter;stroke-opacity:1\"/>\n<path class=\"bond-1\" d=\"M 76.7722,1351.09 L 50.3389,1357.83\" style=\"fill:none;fill-rule:evenodd;stroke:#000000;stroke-width:2.0px;stroke-linecap:butt;stroke-linejoin:miter;stroke-opacity:1\"/>\n<path class=\"bond-2\" d=\"M 50.3389,1357.83 L 42.9644,1384.1\" style=\"fill:none;fill-rule:evenodd;stroke:#000000;stroke-width:2.0px;stroke-linecap:butt;stroke-linejoin:miter;stroke-opacity:1\"/>\n<path class=\"bond-2\" d=\"M 54.4857,1363.25 L 49.3236,1381.63\" style=\"fill:none;fill-rule:evenodd;stroke:#000000;stroke-width:2.0px;stroke-linecap:butt;stroke-linejoin:miter;stroke-opacity:1\"/>\n<path class=\"bond-3\" d=\"M 42.9644,1384.1 L 31.862,1386.93\" style=\"fill:none;fill-rule:evenodd;stroke:#000000;stroke-width:2.0px;stroke-linecap:butt;stroke-linejoin:miter;stroke-opacity:1\"/>\n<path class=\"bond-3\" d=\"M 31.862,1386.93 L 20.7595,1389.76\" style=\"fill:none;fill-rule:evenodd;stroke:#FF0000;stroke-width:2.0px;stroke-linecap:butt;stroke-linejoin:miter;stroke-opacity:1\"/>\n<path class=\"bond-4\" d=\"M 42.9644,1384.1 L 62.0233,1403.62\" style=\"fill:none;fill-rule:evenodd;stroke:#000000;stroke-width:2.0px;stroke-linecap:butt;stroke-linejoin:miter;stroke-opacity:1\"/>\n<path class=\"bond-5\" d=\"M 62.0233,1403.62 L 88.4567,1396.87\" style=\"fill:none;fill-rule:evenodd;stroke:#000000;stroke-width:2.0px;stroke-linecap:butt;stroke-linejoin:miter;stroke-opacity:1\"/>\n<path class=\"bond-5\" d=\"M 64.6391,1397.32 L 83.1425,1392.6\" style=\"fill:none;fill-rule:evenodd;stroke:#000000;stroke-width:2.0px;stroke-linecap:butt;stroke-linejoin:miter;stroke-opacity:1\"/>\n<path class=\"atom-0\" d=\"M 94.3743 1369.74 L 95.5092 1368.59 L 94.0033 1368.28 L 94.2325 1367.51 L 95.6183 1368.2 L 95.4219 1366.69 L 96.2403 1366.68 L 96.0112 1368.19 L 97.4189 1367.54 L 97.6589 1368.28 L 96.1312 1368.56 L 97.2224 1369.73 L 96.5568 1370.21 L 95.8038 1368.77 L 95.04 1370.21 L 94.3743 1369.74 \" fill=\"#191919\"/>\n<path class=\"atom-4\" d=\"M 6.39356 1387.02 L 7.44114 1387.02 L 7.44114 1390.31 L 11.3914 1390.31 L 11.3914 1387.02 L 12.4389 1387.02 L 12.4389 1394.75 L 11.3914 1394.75 L 11.3914 1391.18 L 7.44114 1391.18 L 7.44114 1394.75 L 6.39356 1394.75 L 6.39356 1387.02 \" fill=\"#FF0000\"/>\n<path class=\"atom-4\" d=\"M 12.9846 1390.86 Q 12.9846 1389.01, 13.9012 1387.97 Q 14.8178 1386.94, 16.531 1386.94 Q 18.2443 1386.94, 19.1609 1387.97 Q 20.0775 1389.01, 20.0775 1390.86 Q 20.0775 1392.74, 19.15 1393.81 Q 18.2224 1394.87, 16.531 1394.87 Q 14.8287 1394.87, 13.9012 1393.81 Q 12.9846 1392.75, 12.9846 1390.86 M 16.531 1394 Q 17.7096 1394, 18.3425 1393.21 Q 18.9863 1392.41, 18.9863 1390.86 Q 18.9863 1389.35, 18.3425 1388.58 Q 17.7096 1387.81, 16.531 1387.81 Q 15.3525 1387.81, 14.7087 1388.57 Q 14.0758 1389.34, 14.0758 1390.86 Q 14.0758 1392.43, 14.7087 1393.21 Q 15.3525 1394, 16.531 1394 \" fill=\"#FF0000\"/>\n<path d=\"M 131.782 1492.83 L 134.262 1492.83 L 134.262 1484.37 L 131.526 1485.22 L 131.158 1484.27 L 134.63 1482.72 L 135.766 1482.91 L 135.766 1492.83 L 137.99 1492.83 L 137.99 1494.11 L 131.782 1494.11 L 131.782 1492.83 \" fill=\"#000000\"/>\n<path d=\"M 144.214 1484.06 L 138.278 1484.06 L 138.278 1482.78 L 145.798 1482.78 L 145.798 1483.92 L 141.222 1494.11 L 139.686 1494.11 L 144.214 1484.06 \" fill=\"#000000\"/>\n<path d=\"M 152.022 1484.06 L 146.086 1484.06 L 146.086 1482.78 L 153.606 1482.78 L 153.606 1483.92 L 149.03 1494.11 L 147.494 1494.11 L 152.022 1484.06 \" fill=\"#000000\"/>\n<path d=\"M 160.374 1488.11 Q 161.414 1488.56, 162.006 1489.23 Q 162.598 1489.89, 162.598 1491.01 Q 162.598 1491.97, 162.102 1492.72 Q 161.606 1493.46, 160.71 1493.87 Q 159.83 1494.27, 158.662 1494.27 Q 156.774 1494.27, 155.686 1493.41 Q 154.598 1492.53, 154.598 1491.01 Q 154.598 1490.08, 155.078 1489.39 Q 155.558 1488.69, 156.55 1488.16 Q 155.814 1487.74, 155.414 1487.14 Q 155.014 1486.51, 155.014 1485.55 Q 155.014 1484.22, 155.974 1483.44 Q 156.95 1482.66, 158.598 1482.66 Q 160.246 1482.66, 161.206 1483.44 Q 162.182 1484.22, 162.182 1485.55 Q 162.182 1486.38, 161.718 1487.01 Q 161.27 1487.62, 160.374 1488.11 M 158.598 1483.86 Q 157.654 1483.86, 157.126 1484.3 Q 156.614 1484.75, 156.614 1485.55 Q 156.614 1486.14, 156.966 1486.54 Q 157.318 1486.93, 157.814 1487.15 Q 158.326 1487.38, 159.302 1487.71 Q 159.99 1487.23, 160.278 1486.72 Q 160.582 1486.21, 160.582 1485.55 Q 160.582 1484.75, 160.054 1484.3 Q 159.542 1483.86, 158.598 1483.86 M 158.662 1493.07 Q 159.718 1493.07, 160.358 1492.51 Q 160.998 1491.94, 160.998 1490.99 Q 160.998 1490.38, 160.662 1490 Q 160.326 1489.62, 159.814 1489.39 Q 159.318 1489.17, 158.422 1488.88 L 157.702 1488.64 Q 156.902 1489.12, 156.55 1489.7 Q 156.198 1490.26, 156.198 1490.99 Q 156.198 1491.94, 156.87 1492.51 Q 157.542 1493.07, 158.662 1493.07 \" fill=\"#000000\"/>\n<ellipse cx=\"416.075\" cy=\"1312.14\" rx=\"5.45612\" ry=\"5.45612\" style=\"fill:#E5E533;fill-rule:evenodd;stroke:#E5E533;stroke-width:2px;stroke-linecap:butt;stroke-linejoin:miter;stroke-opacity:1\"/>\n<ellipse cx=\"439.701\" cy=\"1298.5\" rx=\"5.45612\" ry=\"5.45612\" style=\"fill:#E5E533;fill-rule:evenodd;stroke:#E5E533;stroke-width:2px;stroke-linecap:butt;stroke-linejoin:miter;stroke-opacity:1\"/>\n<ellipse cx=\"439.701\" cy=\"1271.22\" rx=\"5.45612\" ry=\"5.45612\" style=\"fill:#9999E5;fill-rule:evenodd;stroke:#9999E5;stroke-width:2px;stroke-linecap:butt;stroke-linejoin:miter;stroke-opacity:1\"/>\n<ellipse cx=\"416.075\" cy=\"1257.58\" rx=\"5.45612\" ry=\"5.45612\" style=\"fill:#E5E533;fill-rule:evenodd;stroke:#E5E533;stroke-width:2px;stroke-linecap:butt;stroke-linejoin:miter;stroke-opacity:1\"/>\n<ellipse cx=\"392.449\" cy=\"1271.22\" rx=\"5.45612\" ry=\"5.45612\" style=\"fill:#E5E533;fill-rule:evenodd;stroke:#E5E533;stroke-width:2px;stroke-linecap:butt;stroke-linejoin:miter;stroke-opacity:1\"/>\n<path class=\"bond-0\" d=\"M 416.075,1334.81 L 416.075,1312.14\" style=\"fill:none;fill-rule:evenodd;stroke:#E5E5E5;stroke-width:1.5px;stroke-linecap:butt;stroke-linejoin:miter;stroke-opacity:1\"/>\n<path class=\"bond-1\" d=\"M 416.075,1312.14 L 439.701,1298.5\" style=\"fill:none;fill-rule:evenodd;stroke:#000000;stroke-width:2.0px;stroke-linecap:butt;stroke-linejoin:miter;stroke-opacity:1\"/>\n<path class=\"bond-1\" d=\"M 416.891,1305.37 L 433.429,1295.82\" style=\"fill:none;fill-rule:evenodd;stroke:#000000;stroke-width:2.0px;stroke-linecap:butt;stroke-linejoin:miter;stroke-opacity:1\"/>\n<path class=\"bond-6\" d=\"M 416.075,1312.14 L 392.95,1298.79\" style=\"fill:none;fill-rule:evenodd;stroke:#E5E5E5;stroke-width:1.5px;stroke-linecap:butt;stroke-linejoin:miter;stroke-opacity:1\"/>\n<path class=\"bond-2\" d=\"M 439.701,1298.5 L 439.701,1271.22\" style=\"fill:none;fill-rule:evenodd;stroke:#000000;stroke-width:2.0px;stroke-linecap:butt;stroke-linejoin:miter;stroke-opacity:1\"/>\n<path class=\"bond-3\" d=\"M 439.701,1271.22 L 416.075,1257.58\" style=\"fill:none;fill-rule:evenodd;stroke:#000000;stroke-width:2.0px;stroke-linecap:butt;stroke-linejoin:miter;stroke-opacity:1\"/>\n<path class=\"bond-3\" d=\"M 433.429,1273.9 L 416.891,1264.35\" style=\"fill:none;fill-rule:evenodd;stroke:#000000;stroke-width:2.0px;stroke-linecap:butt;stroke-linejoin:miter;stroke-opacity:1\"/>\n<path class=\"bond-4\" d=\"M 416.075,1257.58 L 392.449,1271.22\" style=\"fill:none;fill-rule:evenodd;stroke:#000000;stroke-width:2.0px;stroke-linecap:butt;stroke-linejoin:miter;stroke-opacity:1\"/>\n<path class=\"bond-5\" d=\"M 392.449,1271.22 L 392.449,1293.89\" style=\"fill:none;fill-rule:evenodd;stroke:#E5E5E5;stroke-width:1.5px;stroke-linecap:butt;stroke-linejoin:miter;stroke-opacity:1\"/>\n<path class=\"bond-5\" d=\"M 397.906,1274.62 L 397.906,1290.49\" style=\"fill:none;fill-rule:evenodd;stroke:#E5E5E5;stroke-width:1.5px;stroke-linecap:butt;stroke-linejoin:miter;stroke-opacity:1\"/>\n<path class=\"atom-0\" d=\"M 414.618 1338.56 L 415.753 1337.4 L 414.247 1337.09 L 414.477 1336.32 L 415.862 1337.02 L 415.666 1335.5 L 416.484 1335.49 L 416.255 1337.01 L 417.663 1336.35 L 417.903 1337.09 L 416.375 1337.38 L 417.466 1338.55 L 416.801 1339.03 L 416.048 1337.59 L 415.284 1339.03 L 414.618 1338.56 \" fill=\"#191919\"/>\n<path class=\"atom-6\" d=\"M 390.993 1297.64 L 392.128 1296.48 L 390.622 1296.17 L 390.851 1295.4 L 392.237 1296.1 L 392.04 1294.58 L 392.859 1294.57 L 392.63 1296.09 L 394.037 1295.43 L 394.277 1296.17 L 392.75 1296.46 L 393.841 1297.62 L 393.175 1298.1 L 392.422 1296.66 L 391.658 1298.1 L 390.993 1297.64 \" fill=\"#191919\"/>\n<path d=\"M 431.208 1492.86 L 433.688 1492.86 L 433.688 1484.4 L 430.952 1485.25 L 430.584 1484.3 L 434.056 1482.75 L 435.192 1482.94 L 435.192 1492.86 L 437.416 1492.86 L 437.416 1494.14 L 431.208 1494.14 L 431.208 1492.86 \" fill=\"#000000\"/>\n<path d=\"M 438.904 1492.86 L 441.384 1492.86 L 441.384 1484.4 L 438.648 1485.25 L 438.28 1484.3 L 441.752 1482.75 L 442.888 1482.94 L 442.888 1492.86 L 445.112 1492.86 L 445.112 1494.14 L 438.904 1494.14 L 438.904 1492.86 \" fill=\"#000000\"/>\n<path d=\"M 449.8 1482.69 Q 451.816 1482.69, 452.824 1484.06 Q 453.848 1485.42, 453.848 1488.14 Q 453.848 1491.15, 452.584 1492.72 Q 451.336 1494.27, 448.92 1494.27 Q 448.216 1494.27, 447.608 1494.11 Q 447.016 1493.95, 446.44 1493.62 L 447.064 1492.54 Q 447.896 1492.99, 448.904 1492.99 Q 450.504 1492.99, 451.32 1491.97 Q 452.136 1490.93, 452.232 1488.8 Q 451.656 1489.33, 450.92 1489.62 Q 450.2 1489.89, 449.416 1489.89 Q 448.424 1489.89, 447.64 1489.46 Q 446.856 1489.02, 446.424 1488.24 Q 445.992 1487.46, 445.992 1486.46 Q 445.992 1485.36, 446.472 1484.51 Q 446.968 1483.65, 447.832 1483.17 Q 448.696 1482.69, 449.8 1482.69 M 447.592 1486.45 Q 447.592 1487.46, 448.152 1488.03 Q 448.712 1488.61, 449.704 1488.61 Q 450.392 1488.61, 451.064 1488.34 Q 451.752 1488.05, 452.232 1487.57 Q 452.168 1485.7, 451.576 1484.85 Q 450.984 1484, 449.784 1484 Q 449.176 1484, 448.664 1484.32 Q 448.168 1484.64, 447.88 1485.2 Q 447.592 1485.76, 447.592 1486.45 \" fill=\"#000000\"/>\n<path d=\"M 458.536 1482.69 Q 460.552 1482.69, 461.56 1484.06 Q 462.584 1485.42, 462.584 1488.14 Q 462.584 1491.15, 461.32 1492.72 Q 460.072 1494.27, 457.656 1494.27 Q 456.952 1494.27, 456.344 1494.11 Q 455.752 1493.95, 455.176 1493.62 L 455.8 1492.54 Q 456.632 1492.99, 457.64 1492.99 Q 459.24 1492.99, 460.056 1491.97 Q 460.872 1490.93, 460.968 1488.8 Q 460.392 1489.33, 459.656 1489.62 Q 458.936 1489.89, 458.152 1489.89 Q 457.16 1489.89, 456.376 1489.46 Q 455.592 1489.02, 455.16 1488.24 Q 454.728 1487.46, 454.728 1486.46 Q 454.728 1485.36, 455.208 1484.51 Q 455.704 1483.65, 456.568 1483.17 Q 457.432 1482.69, 458.536 1482.69 M 456.328 1486.45 Q 456.328 1487.46, 456.888 1488.03 Q 457.448 1488.61, 458.44 1488.61 Q 459.128 1488.61, 459.8 1488.34 Q 460.488 1488.05, 460.968 1487.57 Q 460.904 1485.7, 460.312 1484.85 Q 459.72 1484, 458.52 1484 Q 457.912 1484, 457.4 1484.32 Q 456.904 1484.64, 456.616 1485.2 Q 456.328 1485.76, 456.328 1486.45 \" fill=\"#000000\"/>\n<ellipse cx=\"637.78\" cy=\"1345.49\" rx=\"5.45612\" ry=\"5.45612\" style=\"fill:#9999E5;fill-rule:evenodd;stroke:#9999E5;stroke-width:2px;stroke-linecap:butt;stroke-linejoin:miter;stroke-opacity:1\"/>\n<path class=\"bond-0\" d=\"M 642.008,1347.84 L 659.245,1357.4\" style=\"fill:none;fill-rule:evenodd;stroke:#E5E5E5;stroke-width:1.5px;stroke-linecap:butt;stroke-linejoin:miter;stroke-opacity:1\"/>\n<path class=\"atom-0\" d=\"M 627.642 1341.67 L 628.69 1341.67 L 628.69 1344.95 L 632.64 1344.95 L 632.64 1341.67 L 633.688 1341.67 L 633.688 1349.4 L 632.64 1349.4 L 632.64 1345.83 L 628.69 1345.83 L 628.69 1349.4 L 627.642 1349.4 L 627.642 1341.67 \" fill=\"#FF0000\"/>\n<path class=\"atom-0\" d=\"M 634.233 1345.51 Q 634.233 1343.66, 635.15 1342.62 Q 636.066 1341.58, 637.78 1341.58 Q 639.493 1341.58, 640.409 1342.62 Q 641.326 1343.66, 641.326 1345.51 Q 641.326 1347.39, 640.399 1348.46 Q 639.471 1349.52, 637.78 1349.52 Q 636.077 1349.52, 635.15 1348.46 Q 634.233 1347.4, 634.233 1345.51 M 637.78 1348.64 Q 638.958 1348.64, 639.591 1347.86 Q 640.235 1347.06, 640.235 1345.51 Q 640.235 1343.99, 639.591 1343.23 Q 638.958 1342.46, 637.78 1342.46 Q 636.601 1342.46, 635.957 1343.22 Q 635.324 1343.98, 635.324 1345.51 Q 635.324 1347.07, 635.957 1347.86 Q 636.601 1348.64, 637.78 1348.64 \" fill=\"#FF0000\"/>\n<path class=\"atom-1\" d=\"M 660.177 1357.86 L 661.312 1356.71 L 659.806 1356.4 L 660.035 1355.63 L 661.421 1356.33 L 661.224 1354.81 L 662.043 1354.8 L 661.813 1356.31 L 663.221 1355.66 L 663.461 1356.4 L 661.934 1356.69 L 663.025 1357.85 L 662.359 1358.33 L 661.606 1356.89 L 660.842 1358.33 L 660.177 1357.86 \" fill=\"#191919\"/>\n<path d=\"M 739.04 1488.11 Q 740.08 1488.56, 740.672 1489.23 Q 741.264 1489.89, 741.264 1491.01 Q 741.264 1491.97, 740.768 1492.72 Q 740.272 1493.46, 739.376 1493.87 Q 738.496 1494.27, 737.328 1494.27 Q 735.44 1494.27, 734.352 1493.41 Q 733.264 1492.53, 733.264 1491.01 Q 733.264 1490.08, 733.744 1489.39 Q 734.224 1488.69, 735.216 1488.16 Q 734.48 1487.74, 734.08 1487.14 Q 733.68 1486.51, 733.68 1485.55 Q 733.68 1484.22, 734.64 1483.44 Q 735.616 1482.66, 737.264 1482.66 Q 738.912 1482.66, 739.872 1483.44 Q 740.848 1484.22, 740.848 1485.55 Q 740.848 1486.38, 740.384 1487.01 Q 739.936 1487.62, 739.04 1488.11 M 737.264 1483.86 Q 736.32 1483.86, 735.792 1484.3 Q 735.28 1484.75, 735.28 1485.55 Q 735.28 1486.14, 735.632 1486.54 Q 735.984 1486.93, 736.48 1487.15 Q 736.992 1487.38, 737.968 1487.71 Q 738.656 1487.23, 738.944 1486.72 Q 739.248 1486.21, 739.248 1485.55 Q 739.248 1484.75, 738.72 1484.3 Q 738.208 1483.86, 737.264 1483.86 M 737.328 1493.07 Q 738.384 1493.07, 739.024 1492.51 Q 739.664 1491.94, 739.664 1490.99 Q 739.664 1490.38, 739.328 1490 Q 738.992 1489.62, 738.48 1489.39 Q 737.984 1489.17, 737.088 1488.88 L 736.368 1488.64 Q 735.568 1489.12, 735.216 1489.7 Q 734.864 1490.26, 734.864 1490.99 Q 734.864 1491.94, 735.536 1492.51 Q 736.208 1493.07, 737.328 1493.07 \" fill=\"#000000\"/>\n<path d=\"M 746.384 1494.24 Q 744.304 1494.24, 743.264 1492.7 Q 742.24 1491.17, 742.24 1488.43 Q 742.24 1485.7, 743.264 1484.18 Q 744.288 1482.66, 746.384 1482.66 Q 748.48 1482.66, 749.504 1484.18 Q 750.528 1485.7, 750.528 1488.43 Q 750.528 1491.17, 749.488 1492.7 Q 748.464 1494.24, 746.384 1494.24 M 746.384 1492.96 Q 747.616 1492.96, 748.272 1491.82 Q 748.928 1490.67, 748.928 1488.43 Q 748.928 1486.21, 748.272 1485.07 Q 747.616 1483.94, 746.384 1483.94 Q 745.168 1483.94, 744.496 1485.07 Q 743.84 1486.21, 743.84 1488.43 Q 743.84 1490.67, 744.496 1491.82 Q 745.168 1492.96, 746.384 1492.96 \" fill=\"#000000\"/>\n<path d=\"M 756.752 1484.06 L 750.816 1484.06 L 750.816 1482.78 L 758.336 1482.78 L 758.336 1483.92 L 753.76 1494.11 L 752.224 1494.11 L 756.752 1484.06 \" fill=\"#000000\"/>\n<ellipse cx=\"210.641\" cy=\"1689.16\" rx=\"5.45612\" ry=\"5.45612\" style=\"fill:#CCCCCC;fill-rule:evenodd;stroke:#CCCCCC;stroke-width:2px;stroke-linecap:butt;stroke-linejoin:miter;stroke-opacity:1\"/>\n<ellipse cx=\"220.041\" cy=\"1663.55\" rx=\"5.45612\" ry=\"5.45612\" style=\"fill:#E5E533;fill-rule:evenodd;stroke:#E5E533;stroke-width:2px;stroke-linecap:butt;stroke-linejoin:miter;stroke-opacity:1\"/>\n<ellipse cx=\"246.92\" cy=\"1658.89\" rx=\"5.45612\" ry=\"5.45612\" style=\"fill:#9999E5;fill-rule:evenodd;stroke:#9999E5;stroke-width:2px;stroke-linecap:butt;stroke-linejoin:miter;stroke-opacity:1\"/>\n<ellipse cx=\"256.32\" cy=\"1633.28\" rx=\"5.45612\" ry=\"5.45612\" style=\"fill:#E5E533;fill-rule:evenodd;stroke:#E5E533;stroke-width:2px;stroke-linecap:butt;stroke-linejoin:miter;stroke-opacity:1\"/>\n<ellipse cx=\"238.841\" cy=\"1612.33\" rx=\"5.45612\" ry=\"5.45612\" style=\"fill:#E5E533;fill-rule:evenodd;stroke:#E5E533;stroke-width:2px;stroke-linecap:butt;stroke-linejoin:miter;stroke-opacity:1\"/>\n<ellipse cx=\"202.562\" cy=\"1642.61\" rx=\"5.45612\" ry=\"5.45612\" style=\"fill:#E5E533;fill-rule:evenodd;stroke:#E5E533;stroke-width:2px;stroke-linecap:butt;stroke-linejoin:miter;stroke-opacity:1\"/>\n<path class=\"bond-0\" d=\"M 186.272,1693.39 L 210.641,1689.16\" style=\"fill:none;fill-rule:evenodd;stroke:#E5E5E5;stroke-width:1.5px;stroke-linecap:butt;stroke-linejoin:miter;stroke-opacity:1\"/>\n<path class=\"bond-1\" d=\"M 210.641,1689.16 L 220.041,1663.55\" style=\"fill:none;fill-rule:evenodd;stroke:#000000;stroke-width:2.0px;stroke-linecap:butt;stroke-linejoin:miter;stroke-opacity:1\"/>\n<path class=\"bond-2\" d=\"M 220.041,1663.55 L 246.92,1658.89\" style=\"fill:none;fill-rule:evenodd;stroke:#000000;stroke-width:2.0px;stroke-linecap:butt;stroke-linejoin:miter;stroke-opacity:1\"/>\n<path class=\"bond-2\" d=\"M 223.14,1657.48 L 241.955,1654.21\" style=\"fill:none;fill-rule:evenodd;stroke:#000000;stroke-width:2.0px;stroke-linecap:butt;stroke-linejoin:miter;stroke-opacity:1\"/>\n<path class=\"bond-9\" d=\"M 220.041,1663.55 L 202.562,1642.61\" style=\"fill:none;fill-rule:evenodd;stroke:#000000;stroke-width:2.0px;stroke-linecap:butt;stroke-linejoin:miter;stroke-opacity:1\"/>\n<path class=\"bond-3\" d=\"M 246.92,1658.89 L 256.32,1633.28\" style=\"fill:none;fill-rule:evenodd;stroke:#000000;stroke-width:2.0px;stroke-linecap:butt;stroke-linejoin:miter;stroke-opacity:1\"/>\n<path class=\"bond-4\" d=\"M 256.32,1633.28 L 267.645,1631.31\" style=\"fill:none;fill-rule:evenodd;stroke:#000000;stroke-width:2.0px;stroke-linecap:butt;stroke-linejoin:miter;stroke-opacity:1\"/>\n<path class=\"bond-4\" d=\"M 267.645,1631.31 L 278.97,1629.35\" style=\"fill:none;fill-rule:evenodd;stroke:#FF0000;stroke-width:2.0px;stroke-linecap:butt;stroke-linejoin:miter;stroke-opacity:1\"/>\n<path class=\"bond-5\" d=\"M 256.32,1633.28 L 238.841,1612.33\" style=\"fill:none;fill-rule:evenodd;stroke:#000000;stroke-width:2.0px;stroke-linecap:butt;stroke-linejoin:miter;stroke-opacity:1\"/>\n<path class=\"bond-5\" d=\"M 249.509,1633.63 L 237.273,1618.97\" style=\"fill:none;fill-rule:evenodd;stroke:#000000;stroke-width:2.0px;stroke-linecap:butt;stroke-linejoin:miter;stroke-opacity:1\"/>\n<path class=\"bond-6\" d=\"M 238.841,1612.33 L 214.472,1616.56\" style=\"fill:none;fill-rule:evenodd;stroke:#E5E5E5;stroke-width:1.5px;stroke-linecap:butt;stroke-linejoin:miter;stroke-opacity:1\"/>\n<path class=\"bond-7\" d=\"M 211.856,1617.28 L 202.562,1642.61\" style=\"fill:none;fill-rule:evenodd;stroke:#E5E5E5;stroke-width:1.5px;stroke-linecap:butt;stroke-linejoin:miter;stroke-opacity:1\"/>\n<path class=\"bond-7\" d=\"M 215.584,1622.96 L 209.078,1640.69\" style=\"fill:none;fill-rule:evenodd;stroke:#E5E5E5;stroke-width:1.5px;stroke-linecap:butt;stroke-linejoin:miter;stroke-opacity:1\"/>\n<path class=\"bond-8\" d=\"M 184.116,1646.36 L 183.929,1645.29\" style=\"fill:none;fill-rule:evenodd;stroke:#E5E5E5;stroke-width:1.0px;stroke-linecap:butt;stroke-linejoin:miter;stroke-opacity:1\"/>\n<path class=\"bond-8\" d=\"M 188.844,1646.09 L 188.471,1643.94\" style=\"fill:none;fill-rule:evenodd;stroke:#E5E5E5;stroke-width:1.0px;stroke-linecap:butt;stroke-linejoin:miter;stroke-opacity:1\"/>\n<path class=\"bond-8\" d=\"M 193.572,1645.83 L 193.012,1642.6\" style=\"fill:none;fill-rule:evenodd;stroke:#E5E5E5;stroke-width:1.0px;stroke-linecap:butt;stroke-linejoin:miter;stroke-opacity:1\"/>\n<path class=\"bond-8\" d=\"M 198.3,1645.56 L 197.554,1641.26\" style=\"fill:none;fill-rule:evenodd;stroke:#E5E5E5;stroke-width:1.0px;stroke-linecap:butt;stroke-linejoin:miter;stroke-opacity:1\"/>\n<path class=\"bond-8\" d=\"M 203.028,1645.29 L 202.095,1639.92\" style=\"fill:none;fill-rule:evenodd;stroke:#E5E5E5;stroke-width:1.0px;stroke-linecap:butt;stroke-linejoin:miter;stroke-opacity:1\"/>\n<path class=\"atom-0\" d=\"M 182.305 1692.96 L 183.44 1691.81 L 181.934 1691.5 L 182.163 1690.73 L 183.549 1691.43 L 183.353 1689.91 L 184.171 1689.9 L 183.942 1691.41 L 185.35 1690.76 L 185.59 1691.5 L 184.062 1691.79 L 185.153 1692.95 L 184.488 1693.43 L 183.735 1691.99 L 182.971 1693.43 L 182.305 1692.96 \" fill=\"#191919\"/>\n<path class=\"atom-5\" d=\"M 279.652 1628.63 Q 279.652 1626.78, 280.569 1625.74 Q 281.485 1624.71, 283.199 1624.71 Q 284.912 1624.71, 285.828 1625.74 Q 286.745 1626.78, 286.745 1628.63 Q 286.745 1630.51, 285.817 1631.58 Q 284.89 1632.64, 283.199 1632.64 Q 281.496 1632.64, 280.569 1631.58 Q 279.652 1630.52, 279.652 1628.63 M 283.199 1631.77 Q 284.377 1631.77, 285.01 1630.98 Q 285.654 1630.18, 285.654 1628.63 Q 285.654 1627.12, 285.01 1626.35 Q 284.377 1625.58, 283.199 1625.58 Q 282.02 1625.58, 281.376 1626.34 Q 280.743 1627.11, 280.743 1628.63 Q 280.743 1630.19, 281.376 1630.98 Q 282.02 1631.77, 283.199 1631.77 \" fill=\"#FF0000\"/>\n<path class=\"atom-5\" d=\"M 287.673 1624.79 L 288.72 1624.79 L 288.72 1628.08 L 292.67 1628.08 L 292.67 1624.79 L 293.718 1624.79 L 293.718 1632.52 L 292.67 1632.52 L 292.67 1628.95 L 288.72 1628.95 L 288.72 1632.52 L 287.673 1632.52 L 287.673 1624.79 \" fill=\"#FF0000\"/>\n<path class=\"atom-7\" d=\"M 210.505 1616.13 L 211.64 1614.98 L 210.134 1614.67 L 210.363 1613.9 L 211.749 1614.6 L 211.553 1613.08 L 212.371 1613.07 L 212.142 1614.58 L 213.55 1613.93 L 213.79 1614.67 L 212.262 1614.96 L 213.353 1616.12 L 212.687 1616.6 L 211.935 1615.16 L 211.171 1616.6 L 210.505 1616.13 \" fill=\"#191919\"/>\n<path class=\"atom-9\" d=\"M 168.448 1646.41 L 169.583 1645.25 L 168.077 1644.95 L 168.306 1644.17 L 169.692 1644.87 L 169.496 1643.35 L 170.314 1643.34 L 170.085 1644.86 L 171.493 1644.2 L 171.733 1644.95 L 170.205 1645.23 L 171.296 1646.4 L 170.631 1646.88 L 169.878 1645.44 L 169.114 1646.88 L 168.448 1646.41 \" fill=\"#191919\"/>\n<path class=\"atom-9\" d=\"M 172.66 1643.47 L 173.708 1643.47 L 173.708 1646.76 L 177.658 1646.76 L 177.658 1643.47 L 178.706 1643.47 L 178.706 1651.2 L 177.658 1651.2 L 177.658 1647.63 L 173.708 1647.63 L 173.708 1651.2 L 172.66 1651.2 L 172.66 1643.47 \" fill=\"#191919\"/>\n<path d=\"M 137.931 1787.06 Q 138.923 1787.06, 139.739 1787.49 Q 140.555 1787.9, 141.019 1788.7 Q 141.483 1789.49, 141.483 1790.56 Q 141.483 1791.73, 140.907 1792.58 Q 140.347 1793.41, 139.419 1793.84 Q 138.491 1794.27, 137.435 1794.27 Q 136.395 1794.27, 135.435 1793.89 Q 134.475 1793.5, 133.819 1792.77 L 134.779 1791.78 Q 135.307 1792.35, 136.027 1792.67 Q 136.747 1792.98, 137.483 1792.98 Q 138.491 1792.98, 139.179 1792.35 Q 139.883 1791.73, 139.883 1790.59 Q 139.883 1789.39, 139.179 1788.83 Q 138.491 1788.26, 137.387 1788.26 Q 136.395 1788.26, 135.291 1788.69 L 134.411 1788.27 L 134.955 1782.82 L 140.779 1782.82 L 140.619 1784.1 L 136.267 1784.1 L 135.931 1787.46 Q 136.939 1787.06, 137.931 1787.06 \" fill=\"#000000\"/>\n<path d=\"M 147.003 1787.07 Q 147.995 1787.07, 148.779 1787.5 Q 149.563 1787.94, 149.995 1788.72 Q 150.427 1789.5, 150.427 1790.5 Q 150.427 1791.6, 149.931 1792.46 Q 149.451 1793.31, 148.587 1793.79 Q 147.723 1794.27, 146.619 1794.27 Q 144.603 1794.27, 143.579 1792.91 Q 142.571 1791.54, 142.571 1788.82 Q 142.571 1785.81, 143.819 1784.26 Q 145.083 1782.69, 147.499 1782.69 Q 148.203 1782.69, 148.795 1782.85 Q 149.403 1783.01, 149.979 1783.34 L 149.355 1784.42 Q 148.523 1783.97, 147.515 1783.97 Q 145.915 1783.97, 145.099 1785.01 Q 144.283 1786.03, 144.187 1788.16 Q 144.763 1787.63, 145.483 1787.36 Q 146.219 1787.07, 147.003 1787.07 M 146.635 1792.96 Q 147.243 1792.96, 147.739 1792.64 Q 148.251 1792.32, 148.539 1791.76 Q 148.827 1791.2, 148.827 1790.51 Q 148.827 1789.5, 148.267 1788.93 Q 147.707 1788.35, 146.715 1788.35 Q 146.027 1788.35, 145.339 1788.64 Q 144.667 1788.91, 144.187 1789.39 Q 144.251 1791.26, 144.843 1792.11 Q 145.435 1792.96, 146.635 1792.96 \" fill=\"#000000\"/>\n<path d=\"M 151.915 1792.86 L 154.395 1792.86 L 154.395 1784.4 L 151.659 1785.25 L 151.291 1784.3 L 154.763 1782.75 L 155.899 1782.94 L 155.899 1792.86 L 158.123 1792.86 L 158.123 1794.14 L 151.915 1794.14 L 151.915 1792.86 \" fill=\"#000000\"/>\n<ellipse cx=\"350.608\" cy=\"1667.92\" rx=\"5.45612\" ry=\"5.45612\" style=\"fill:#E5E533;fill-rule:evenodd;stroke:#E5E533;stroke-width:2px;stroke-linecap:butt;stroke-linejoin:miter;stroke-opacity:1\"/>\n<ellipse cx=\"367.077\" cy=\"1623.63\" rx=\"5.45612\" ry=\"5.45612\" style=\"fill:#E5E533;fill-rule:evenodd;stroke:#E5E533;stroke-width:2px;stroke-linecap:butt;stroke-linejoin:miter;stroke-opacity:1\"/>\n<ellipse cx=\"371.628\" cy=\"1650.53\" rx=\"5.45612\" ry=\"5.45612\" style=\"fill:#9999E5;fill-rule:evenodd;stroke:#9999E5;stroke-width:2px;stroke-linecap:butt;stroke-linejoin:miter;stroke-opacity:1\"/>\n<ellipse cx=\"397.198\" cy=\"1660.04\" rx=\"5.45612\" ry=\"5.45612\" style=\"fill:#E5E533;fill-rule:evenodd;stroke:#E5E533;stroke-width:2px;stroke-linecap:butt;stroke-linejoin:miter;stroke-opacity:1\"/>\n<path class=\"bond-0\" d=\"M 354.379,1690.21 L 350.608,1667.92\" style=\"fill:none;fill-rule:evenodd;stroke:#E5E5E5;stroke-width:1.5px;stroke-linecap:butt;stroke-linejoin:miter;stroke-opacity:1\"/>\n<path class=\"bond-1\" d=\"M 351.559,1665.37 L 326.767,1656.15\" style=\"fill:none;fill-rule:evenodd;stroke:#E5E5E5;stroke-width:1.5px;stroke-linecap:butt;stroke-linejoin:miter;stroke-opacity:1\"/>\n<path class=\"bond-1\" d=\"M 349.658,1670.48 L 324.865,1661.26\" style=\"fill:none;fill-rule:evenodd;stroke:#E5E5E5;stroke-width:1.5px;stroke-linecap:butt;stroke-linejoin:miter;stroke-opacity:1;stroke-dasharray:6,6\"/>\n<path class=\"bond-6\" d=\"M 350.608,1667.92 L 371.628,1650.53\" style=\"fill:none;fill-rule:evenodd;stroke:#000000;stroke-width:2.0px;stroke-linecap:butt;stroke-linejoin:miter;stroke-opacity:1\"/>\n<path class=\"bond-6\" d=\"M 350.283,1661.11 L 364.997,1648.94\" style=\"fill:none;fill-rule:evenodd;stroke:#000000;stroke-width:2.0px;stroke-linecap:butt;stroke-linejoin:miter;stroke-opacity:1;stroke-dasharray:6,6\"/>\n<path class=\"bond-2\" d=\"M 341.334,1616.97 L 366.126,1626.19\" style=\"fill:none;fill-rule:evenodd;stroke:#E5E5E5;stroke-width:1.5px;stroke-linecap:butt;stroke-linejoin:miter;stroke-opacity:1\"/>\n<path class=\"bond-2\" d=\"M 343.235,1611.86 L 368.028,1621.08\" style=\"fill:none;fill-rule:evenodd;stroke:#E5E5E5;stroke-width:1.5px;stroke-linecap:butt;stroke-linejoin:miter;stroke-opacity:1;stroke-dasharray:6,6\"/>\n<path class=\"bond-3\" d=\"M 367.077,1623.63 L 371.628,1650.53\" style=\"fill:none;fill-rule:evenodd;stroke:#000000;stroke-width:2.0px;stroke-linecap:butt;stroke-linejoin:miter;stroke-opacity:1\"/>\n<path class=\"bond-3\" d=\"M 362.38,1628.58 L 365.565,1647.41\" style=\"fill:none;fill-rule:evenodd;stroke:#000000;stroke-width:2.0px;stroke-linecap:butt;stroke-linejoin:miter;stroke-opacity:1;stroke-dasharray:6,6\"/>\n<path class=\"bond-4\" d=\"M 371.628,1650.53 L 397.198,1660.04\" style=\"fill:none;fill-rule:evenodd;stroke:#000000;stroke-width:2.0px;stroke-linecap:butt;stroke-linejoin:miter;stroke-opacity:1\"/>\n<path class=\"bond-5\" d=\"M 398.707,1662.31 L 420.994,1647.5\" style=\"fill:none;fill-rule:evenodd;stroke:#E5E5E5;stroke-width:1.5px;stroke-linecap:butt;stroke-linejoin:miter;stroke-opacity:1\"/>\n<path class=\"bond-5\" d=\"M 395.688,1657.77 L 417.975,1642.96\" style=\"fill:none;fill-rule:evenodd;stroke:#E5E5E5;stroke-width:1.5px;stroke-linecap:butt;stroke-linejoin:miter;stroke-opacity:1;stroke-dasharray:6,6\"/>\n<path class=\"bond-7\" d=\"M 394.57,1660.77 L 400.62,1682.44\" style=\"fill:none;fill-rule:evenodd;stroke:#E5E5E5;stroke-width:1.5px;stroke-linecap:butt;stroke-linejoin:miter;stroke-opacity:1\"/>\n<path class=\"bond-7\" d=\"M 399.825,1659.31 L 405.875,1680.97\" style=\"fill:none;fill-rule:evenodd;stroke:#E5E5E5;stroke-width:1.5px;stroke-linecap:butt;stroke-linejoin:miter;stroke-opacity:1;stroke-dasharray:6,6\"/>\n<path class=\"atom-0\" d=\"M 353.702 1693.96 L 354.837 1692.8 L 353.331 1692.5 L 353.56 1691.72 L 354.946 1692.42 L 354.75 1690.9 L 355.568 1690.89 L 355.339 1692.41 L 356.747 1691.75 L 356.987 1692.5 L 355.459 1692.78 L 356.55 1693.95 L 355.885 1694.43 L 355.132 1692.99 L 354.368 1694.43 L 353.702 1693.96 \" fill=\"#191919\"/>\n<path class=\"atom-2\" d=\"M 323.582 1657.55 L 324.716 1656.4 L 323.211 1656.09 L 323.44 1655.32 L 324.826 1656.01 L 324.629 1654.5 L 325.448 1654.49 L 325.218 1656 L 326.626 1655.35 L 326.866 1656.09 L 325.338 1656.37 L 326.43 1657.54 L 325.764 1658.02 L 325.011 1656.58 L 324.247 1658.02 L 323.582 1657.55 \" fill=\"#191919\"/>\n<path class=\"atom-3\" d=\"M 340.05 1613.26 L 341.185 1612.11 L 339.679 1611.8 L 339.908 1611.03 L 341.294 1611.73 L 341.098 1610.21 L 341.916 1610.2 L 341.687 1611.71 L 343.095 1611.06 L 343.335 1611.8 L 341.807 1612.09 L 342.898 1613.25 L 342.233 1613.73 L 341.48 1612.29 L 340.716 1613.73 L 340.05 1613.26 \" fill=\"#191919\"/>\n<path class=\"atom-7\" d=\"M 418.463 1644.08 L 419.598 1642.92 L 418.092 1642.62 L 418.321 1641.84 L 419.707 1642.54 L 419.51 1641.03 L 420.329 1641.01 L 420.1 1642.53 L 421.507 1641.88 L 421.747 1642.62 L 420.22 1642.9 L 421.311 1644.07 L 420.645 1644.55 L 419.892 1643.11 L 419.129 1644.55 L 418.463 1644.08 \" fill=\"#191919\"/>\n<path class=\"atom-8\" d=\"M 403.078 1685.45 L 404.213 1684.3 L 402.707 1683.99 L 402.936 1683.22 L 404.322 1683.92 L 404.126 1682.4 L 404.944 1682.39 L 404.715 1683.9 L 406.123 1683.25 L 406.363 1683.99 L 404.835 1684.28 L 405.926 1685.44 L 405.261 1685.92 L 404.508 1684.48 L 403.744 1685.92 L 403.078 1685.45 \" fill=\"#191919\"/>\n<path d=\"M 439.401 1788.14 Q 440.505 1788.46, 441.033 1789.18 Q 441.577 1789.89, 441.577 1791.01 Q 441.577 1791.97, 441.097 1792.72 Q 440.617 1793.46, 439.737 1793.87 Q 438.857 1794.27, 437.705 1794.27 Q 436.489 1794.27, 435.577 1793.86 Q 434.681 1793.42, 433.961 1792.56 L 434.873 1791.63 Q 435.577 1792.4, 436.169 1792.7 Q 436.761 1792.99, 437.705 1792.99 Q 438.729 1792.99, 439.353 1792.45 Q 439.977 1791.89, 439.977 1790.99 Q 439.977 1789.84, 439.321 1789.33 Q 438.681 1788.8, 437.289 1788.8 L 436.473 1788.8 L 436.473 1787.65 L 437.193 1787.65 Q 438.425 1787.63, 439.081 1787.1 Q 439.737 1786.56, 439.737 1785.55 Q 439.737 1784.82, 439.193 1784.38 Q 438.649 1783.94, 437.721 1783.94 Q 436.777 1783.94, 436.185 1784.27 Q 435.609 1784.61, 435.161 1785.46 L 434.057 1784.86 Q 434.457 1783.92, 435.417 1783.3 Q 436.377 1782.66, 437.721 1782.66 Q 439.385 1782.66, 440.361 1783.44 Q 441.337 1784.22, 441.337 1785.55 Q 441.337 1786.46, 440.841 1787.12 Q 440.345 1787.78, 439.401 1788.14 \" fill=\"#000000\"/>\n<path d=\"M 446.425 1787.02 Q 447.417 1787.02, 448.233 1787.46 Q 449.049 1787.87, 449.513 1788.67 Q 449.977 1789.46, 449.977 1790.53 Q 449.977 1791.7, 449.401 1792.54 Q 448.841 1793.38, 447.913 1793.81 Q 446.985 1794.24, 445.929 1794.24 Q 444.889 1794.24, 443.929 1793.86 Q 442.969 1793.47, 442.313 1792.74 L 443.273 1791.74 Q 443.801 1792.32, 444.521 1792.64 Q 445.241 1792.94, 445.977 1792.94 Q 446.985 1792.94, 447.673 1792.32 Q 448.377 1791.7, 448.377 1790.56 Q 448.377 1789.36, 447.673 1788.8 Q 446.985 1788.22, 445.881 1788.22 Q 444.889 1788.22, 443.785 1788.66 L 442.905 1788.24 L 443.449 1782.78 L 449.273 1782.78 L 449.113 1784.06 L 444.761 1784.06 L 444.425 1787.42 Q 445.433 1787.02, 446.425 1787.02 \" fill=\"#000000\"/>\n<path d=\"M 450.809 1784.93 Q 451.225 1783.86, 452.217 1783.26 Q 453.209 1782.66, 454.585 1782.66 Q 456.297 1782.66, 457.257 1783.58 Q 458.217 1784.51, 458.217 1786.16 Q 458.217 1787.84, 456.969 1789.41 Q 455.737 1790.98, 453.177 1792.83 L 458.409 1792.83 L 458.409 1794.11 L 450.777 1794.11 L 450.777 1793.04 Q 452.889 1791.54, 454.137 1790.42 Q 455.401 1789.3, 456.009 1788.29 Q 456.617 1787.28, 456.617 1786.24 Q 456.617 1785.15, 456.073 1784.54 Q 455.529 1783.94, 454.585 1783.94 Q 453.673 1783.94, 453.065 1784.3 Q 452.457 1784.67, 452.025 1785.49 L 450.809 1784.93 \" fill=\"#000000\"/>\n<ellipse cx=\"739.701\" cy=\"1598.5\" rx=\"5.45612\" ry=\"5.45612\" style=\"fill:#E5E533;fill-rule:evenodd;stroke:#E5E533;stroke-width:2px;stroke-linecap:butt;stroke-linejoin:miter;stroke-opacity:1\"/>\n<ellipse cx=\"739.701\" cy=\"1571.22\" rx=\"5.45612\" ry=\"5.45612\" style=\"fill:#9999E5;fill-rule:evenodd;stroke:#9999E5;stroke-width:2px;stroke-linecap:butt;stroke-linejoin:miter;stroke-opacity:1\"/>\n<ellipse cx=\"716.075\" cy=\"1557.58\" rx=\"5.45612\" ry=\"5.45612\" style=\"fill:#E5E533;fill-rule:evenodd;stroke:#E5E533;stroke-width:2px;stroke-linecap:butt;stroke-linejoin:miter;stroke-opacity:1\"/>\n<path class=\"bond-0\" d=\"M 719.949,1613.05 L 741.065,1600.86\" style=\"fill:none;fill-rule:evenodd;stroke:#E5E5E5;stroke-width:1.5px;stroke-linecap:butt;stroke-linejoin:miter;stroke-opacity:1\"/>\n<path class=\"bond-0\" d=\"M 717.221,1608.33 L 738.337,1596.14\" style=\"fill:none;fill-rule:evenodd;stroke:#E5E5E5;stroke-width:1.5px;stroke-linecap:butt;stroke-linejoin:miter;stroke-opacity:1;stroke-dasharray:6,6\"/>\n<path class=\"bond-1\" d=\"M 739.701,1598.5 L 739.701,1571.22\" style=\"fill:none;fill-rule:evenodd;stroke:#000000;stroke-width:2.0px;stroke-linecap:butt;stroke-linejoin:miter;stroke-opacity:1\"/>\n<path class=\"bond-1\" d=\"M 734.245,1594.41 L 734.245,1575.31\" style=\"fill:none;fill-rule:evenodd;stroke:#000000;stroke-width:2.0px;stroke-linecap:butt;stroke-linejoin:miter;stroke-opacity:1;stroke-dasharray:6,6\"/>\n<path class=\"bond-2\" d=\"M 739.701,1571.22 L 716.075,1557.58\" style=\"fill:none;fill-rule:evenodd;stroke:#000000;stroke-width:2.0px;stroke-linecap:butt;stroke-linejoin:miter;stroke-opacity:1\"/>\n<path class=\"bond-2\" d=\"M 733.429,1573.9 L 716.891,1564.35\" style=\"fill:none;fill-rule:evenodd;stroke:#000000;stroke-width:2.0px;stroke-linecap:butt;stroke-linejoin:miter;stroke-opacity:1;stroke-dasharray:6,6\"/>\n<path class=\"bond-3\" d=\"M 714.711,1555.21 L 693.595,1567.41\" style=\"fill:none;fill-rule:evenodd;stroke:#E5E5E5;stroke-width:1.5px;stroke-linecap:butt;stroke-linejoin:miter;stroke-opacity:1\"/>\n<path class=\"bond-3\" d=\"M 717.439,1559.94 L 696.323,1572.13\" style=\"fill:none;fill-rule:evenodd;stroke:#E5E5E5;stroke-width:1.5px;stroke-linecap:butt;stroke-linejoin:miter;stroke-opacity:1;stroke-dasharray:6,6\"/>\n<path class=\"atom-0\" d=\"M 714.618 1611.28 L 715.753 1610.12 L 714.247 1609.81 L 714.477 1609.04 L 715.862 1609.74 L 715.666 1608.22 L 716.484 1608.21 L 716.255 1609.73 L 717.663 1609.07 L 717.903 1609.81 L 716.375 1610.1 L 717.466 1611.27 L 716.801 1611.75 L 716.048 1610.3 L 715.284 1611.75 L 714.618 1611.28 \" fill=\"#191919\"/>\n<path class=\"atom-4\" d=\"M 690.993 1570.36 L 692.128 1569.2 L 690.622 1568.89 L 690.851 1568.12 L 692.237 1568.82 L 692.04 1567.3 L 692.859 1567.29 L 692.63 1568.81 L 694.037 1568.15 L 694.277 1568.89 L 692.75 1569.18 L 693.841 1570.34 L 693.175 1570.82 L 692.422 1569.38 L 691.658 1570.82 L 690.993 1570.36 \" fill=\"#191919\"/>\n<path d=\"M 729.958 1792.83 L 732.438 1792.83 L 732.438 1784.37 L 729.702 1785.22 L 729.334 1784.27 L 732.806 1782.72 L 733.942 1782.91 L 733.942 1792.83 L 736.166 1792.83 L 736.166 1794.11 L 729.958 1794.11 L 729.958 1792.83 \" fill=\"#000000\"/>\n<path d=\"M 741.286 1794.24 Q 739.206 1794.24, 738.166 1792.7 Q 737.142 1791.17, 737.142 1788.43 Q 737.142 1785.7, 738.166 1784.18 Q 739.19 1782.66, 741.286 1782.66 Q 743.382 1782.66, 744.406 1784.18 Q 745.43 1785.7, 745.43 1788.43 Q 745.43 1791.17, 744.39 1792.7 Q 743.366 1794.24, 741.286 1794.24 M 741.286 1792.96 Q 742.518 1792.96, 743.174 1791.82 Q 743.83 1790.67, 743.83 1788.43 Q 743.83 1786.21, 743.174 1785.07 Q 742.518 1783.94, 741.286 1783.94 Q 740.07 1783.94, 739.398 1785.07 Q 738.742 1786.21, 738.742 1788.43 Q 738.742 1790.67, 739.398 1791.82 Q 740.07 1792.96, 741.286 1792.96 \" fill=\"#000000\"/>\n<path d=\"M 752.198 1788.11 Q 753.238 1788.56, 753.83 1789.23 Q 754.422 1789.89, 754.422 1791.01 Q 754.422 1791.97, 753.926 1792.72 Q 753.43 1793.46, 752.534 1793.87 Q 751.654 1794.27, 750.486 1794.27 Q 748.598 1794.27, 747.51 1793.41 Q 746.422 1792.53, 746.422 1791.01 Q 746.422 1790.08, 746.902 1789.39 Q 747.382 1788.69, 748.374 1788.16 Q 747.638 1787.74, 747.238 1787.14 Q 746.838 1786.51, 746.838 1785.55 Q 746.838 1784.22, 747.798 1783.44 Q 748.774 1782.66, 750.422 1782.66 Q 752.07 1782.66, 753.03 1783.44 Q 754.006 1784.22, 754.006 1785.55 Q 754.006 1786.38, 753.542 1787.01 Q 753.094 1787.62, 752.198 1788.11 M 750.422 1783.86 Q 749.478 1783.86, 748.95 1784.3 Q 748.438 1784.75, 748.438 1785.55 Q 748.438 1786.14, 748.79 1786.54 Q 749.142 1786.93, 749.638 1787.15 Q 750.15 1787.38, 751.126 1787.71 Q 751.814 1787.23, 752.102 1786.72 Q 752.406 1786.21, 752.406 1785.55 Q 752.406 1784.75, 751.878 1784.3 Q 751.366 1783.86, 750.422 1783.86 M 750.486 1793.07 Q 751.542 1793.07, 752.182 1792.51 Q 752.822 1791.94, 752.822 1790.99 Q 752.822 1790.38, 752.486 1790 Q 752.15 1789.62, 751.638 1789.39 Q 751.142 1789.17, 750.246 1788.88 L 749.526 1788.64 Q 748.726 1789.12, 748.374 1789.7 Q 748.022 1790.26, 748.022 1790.99 Q 748.022 1791.94, 748.694 1792.51 Q 749.366 1793.07, 750.486 1793.07 \" fill=\"#000000\"/>\n<path d=\"M 761.19 1788.11 Q 762.23 1788.56, 762.822 1789.23 Q 763.414 1789.89, 763.414 1791.01 Q 763.414 1791.97, 762.918 1792.72 Q 762.422 1793.46, 761.526 1793.87 Q 760.646 1794.27, 759.478 1794.27 Q 757.59 1794.27, 756.502 1793.41 Q 755.414 1792.53, 755.414 1791.01 Q 755.414 1790.08, 755.894 1789.39 Q 756.374 1788.69, 757.366 1788.16 Q 756.63 1787.74, 756.23 1787.14 Q 755.83 1786.51, 755.83 1785.55 Q 755.83 1784.22, 756.79 1783.44 Q 757.766 1782.66, 759.414 1782.66 Q 761.062 1782.66, 762.022 1783.44 Q 762.998 1784.22, 762.998 1785.55 Q 762.998 1786.38, 762.534 1787.01 Q 762.086 1787.62, 761.19 1788.11 M 759.414 1783.86 Q 758.47 1783.86, 757.942 1784.3 Q 757.43 1784.75, 757.43 1785.55 Q 757.43 1786.14, 757.782 1786.54 Q 758.134 1786.93, 758.63 1787.15 Q 759.142 1787.38, 760.118 1787.71 Q 760.806 1787.23, 761.094 1786.72 Q 761.398 1786.21, 761.398 1785.55 Q 761.398 1784.75, 760.87 1784.3 Q 760.358 1783.86, 759.414 1783.86 M 759.478 1793.07 Q 760.534 1793.07, 761.174 1792.51 Q 761.814 1791.94, 761.814 1790.99 Q 761.814 1790.38, 761.478 1790 Q 761.142 1789.62, 760.63 1789.39 Q 760.134 1789.17, 759.238 1788.88 L 758.518 1788.64 Q 757.718 1789.12, 757.366 1789.7 Q 757.014 1790.26, 757.014 1790.99 Q 757.014 1791.94, 757.686 1792.51 Q 758.358 1793.07, 759.478 1793.07 \" fill=\"#000000\"/>\n<ellipse cx=\"102.353\" cy=\"1937.6\" rx=\"5.45612\" ry=\"5.45612\" style=\"fill:#9999E5;fill-rule:evenodd;stroke:#9999E5;stroke-width:2px;stroke-linecap:butt;stroke-linejoin:miter;stroke-opacity:1\"/>\n<ellipse cx=\"121.925\" cy=\"1956.6\" rx=\"5.45612\" ry=\"5.45612\" style=\"fill:#CCCCCC;fill-rule:evenodd;stroke:#CCCCCC;stroke-width:2px;stroke-linecap:butt;stroke-linejoin:miter;stroke-opacity:1\"/>\n<path class=\"bond-0\" d=\"M 102.353,1937.6 L 121.925,1956.6\" style=\"fill:none;fill-rule:evenodd;stroke:#000000;stroke-width:2.0px;stroke-linecap:butt;stroke-linejoin:miter;stroke-opacity:1\"/>\n<path class=\"bond-1\" d=\"M 121.925,1956.6 L 133.78,1932.22 L 128.658,1930.34 Z\" style=\"fill:#E5E5E5;fill-rule:evenodd;fill-opacity:1;stroke:#E5E5E5;stroke-width:4px;stroke-linecap:butt;stroke-linejoin:miter;stroke-opacity:1;\"/>\n<path class=\"bond-2\" d=\"M 136.894,1974.54 L 124.02,1954.85 L 119.831,1958.35 Z\" style=\"fill:#E5E5E5;fill-rule:evenodd;fill-opacity:1;stroke:#E5E5E5;stroke-width:4px;stroke-linecap:butt;stroke-linejoin:miter;stroke-opacity:1;\"/>\n<path class=\"bond-3\" d=\"M 100.308,1965.27 L 122.94,1959.13 L 120.91,1954.07 Z\" style=\"fill:#E5E5E5;fill-rule:evenodd;fill-opacity:1;stroke:#E5E5E5;stroke-width:4px;stroke-linecap:butt;stroke-linejoin:miter;stroke-opacity:1;\"/>\n<path class=\"atom-2\" d=\"M 129.868 1930.13 L 131.003 1928.97 L 129.497 1928.66 L 129.727 1927.89 L 131.112 1928.59 L 130.916 1927.07 L 131.734 1927.06 L 131.505 1928.58 L 132.913 1927.92 L 133.153 1928.66 L 131.625 1928.95 L 132.716 1930.12 L 132.051 1930.6 L 131.298 1929.16 L 130.534 1930.6 L 129.868 1930.13 \" fill=\"#191919\"/>\n<path class=\"atom-3\" d=\"M 137.947 1976.68 L 139.082 1975.53 L 137.576 1975.22 L 137.806 1974.45 L 139.191 1975.14 L 138.995 1973.63 L 139.813 1973.62 L 139.584 1975.13 L 140.992 1974.48 L 141.232 1975.22 L 139.704 1975.5 L 140.796 1976.67 L 140.13 1977.15 L 139.377 1975.71 L 138.613 1977.15 L 137.947 1976.68 \" fill=\"#191919\"/>\n<path class=\"atom-3\" d=\"M 142.16 1973.75 L 143.207 1973.75 L 143.207 1977.03 L 147.157 1977.03 L 147.157 1973.75 L 148.205 1973.75 L 148.205 1981.47 L 147.157 1981.47 L 147.157 1977.9 L 143.207 1977.9 L 143.207 1981.47 L 142.16 1981.47 L 142.16 1973.75 \" fill=\"#191919\"/>\n<path class=\"atom-4\" d=\"M 89.3687 1965.89 L 90.5036 1964.73 L 88.9977 1964.43 L 89.2269 1963.65 L 90.6127 1964.35 L 90.4163 1962.83 L 91.2347 1962.82 L 91.0056 1964.34 L 92.4133 1963.68 L 92.6533 1964.43 L 91.1256 1964.71 L 92.2168 1965.88 L 91.5512 1966.36 L 90.7982 1964.92 L 90.0344 1966.36 L 89.3687 1965.89 \" fill=\"#191919\"/>\n<path class=\"atom-4\" d=\"M 93.5809 1962.95 L 94.6284 1962.95 L 94.6284 1966.24 L 98.5787 1966.24 L 98.5787 1962.95 L 99.6263 1962.95 L 99.6263 1970.68 L 98.5787 1970.68 L 98.5787 1967.11 L 94.6284 1967.11 L 94.6284 1970.68 L 93.5809 1970.68 L 93.5809 1962.95 \" fill=\"#191919\"/>\n<path d=\"M 131.186 2092.99 L 133.666 2092.99 L 133.666 2084.53 L 130.93 2085.38 L 130.562 2084.43 L 134.034 2082.88 L 135.17 2083.07 L 135.17 2092.99 L 137.394 2092.99 L 137.394 2094.27 L 131.186 2094.27 L 131.186 2092.99 \" fill=\"#000000\"/>\n<path d=\"M 138.226 2085.09 Q 138.642 2084.02, 139.634 2083.42 Q 140.626 2082.82, 142.002 2082.82 Q 143.714 2082.82, 144.674 2083.74 Q 145.634 2084.67, 145.634 2086.32 Q 145.634 2088, 144.386 2089.57 Q 143.154 2091.14, 140.594 2092.99 L 145.826 2092.99 L 145.826 2094.27 L 138.194 2094.27 L 138.194 2093.2 Q 140.306 2091.7, 141.554 2090.58 Q 142.818 2089.46, 143.426 2088.45 Q 144.034 2087.44, 144.034 2086.4 Q 144.034 2085.31, 143.49 2084.7 Q 142.946 2084.1, 142.002 2084.1 Q 141.09 2084.1, 140.482 2084.46 Q 139.874 2084.83, 139.442 2085.65 L 138.226 2085.09 \" fill=\"#000000\"/>\n<path d=\"M 152.05 2084.22 L 146.114 2084.22 L 146.114 2082.94 L 153.634 2082.94 L 153.634 2084.08 L 149.058 2094.27 L 147.522 2094.27 L 152.05 2084.22 \" fill=\"#000000\"/>\n<path d=\"M 161.474 2090.38 L 162.834 2090.38 L 162.834 2091.66 L 161.474 2091.66 L 161.474 2094.27 L 159.97 2094.27 L 159.97 2091.66 L 154.114 2091.66 L 154.114 2090.66 L 159.074 2082.94 L 161.474 2082.94 L 161.474 2090.38 M 155.97 2090.38 L 159.97 2090.38 L 159.97 2083.97 L 155.97 2090.38 \" fill=\"#000000\"/>\n<ellipse cx=\"402.353\" cy=\"1937.6\" rx=\"5.45612\" ry=\"5.45612\" style=\"fill:#9999E5;fill-rule:evenodd;stroke:#9999E5;stroke-width:2px;stroke-linecap:butt;stroke-linejoin:miter;stroke-opacity:1\"/>\n<path class=\"bond-0\" d=\"M 419.415,1954.16 L 404.253,1935.64 L 400.452,1939.55 Z\" style=\"fill:#E5E5E5;fill-rule:evenodd;fill-opacity:1;stroke:#E5E5E5;stroke-width:4px;stroke-linecap:butt;stroke-linejoin:miter;stroke-opacity:1;\"/>\n<path class=\"atom-1\" d=\"M 420.468 1955.74 L 421.603 1954.58 L 420.097 1954.27 L 420.327 1953.5 L 421.712 1954.2 L 421.516 1952.68 L 422.334 1952.67 L 422.105 1954.19 L 423.513 1953.53 L 423.753 1954.27 L 422.225 1954.56 L 423.317 1955.73 L 422.651 1956.21 L 421.898 1954.77 L 421.134 1956.21 L 420.468 1955.74 \" fill=\"#191919\"/>\n<path d=\"M 430.716 2092.86 L 433.196 2092.86 L 433.196 2084.4 L 430.46 2085.25 L 430.092 2084.3 L 433.564 2082.75 L 434.7 2082.94 L 434.7 2092.86 L 436.924 2092.86 L 436.924 2094.14 L 430.716 2094.14 L 430.716 2092.86 \" fill=\"#000000\"/>\n<path d=\"M 442.044 2094.27 Q 439.964 2094.27, 438.924 2092.74 Q 437.9 2091.2, 437.9 2088.46 Q 437.9 2085.73, 438.924 2084.21 Q 439.948 2082.69, 442.044 2082.69 Q 444.14 2082.69, 445.164 2084.21 Q 446.188 2085.73, 446.188 2088.46 Q 446.188 2091.2, 445.148 2092.74 Q 444.124 2094.27, 442.044 2094.27 M 442.044 2092.99 Q 443.276 2092.99, 443.932 2091.86 Q 444.588 2090.7, 444.588 2088.46 Q 444.588 2086.24, 443.932 2085.1 Q 443.276 2083.97, 442.044 2083.97 Q 440.828 2083.97, 440.156 2085.1 Q 439.5 2086.24, 439.5 2088.46 Q 439.5 2090.7, 440.156 2091.86 Q 440.828 2092.99, 442.044 2092.99 \" fill=\"#000000\"/>\n<path d=\"M 451.036 2087.06 Q 452.028 2087.06, 452.844 2087.49 Q 453.66 2087.9, 454.124 2088.7 Q 454.588 2089.49, 454.588 2090.56 Q 454.588 2091.73, 454.012 2092.58 Q 453.452 2093.41, 452.524 2093.84 Q 451.596 2094.27, 450.54 2094.27 Q 449.5 2094.27, 448.54 2093.89 Q 447.58 2093.5, 446.924 2092.77 L 447.884 2091.78 Q 448.412 2092.35, 449.132 2092.67 Q 449.852 2092.98, 450.588 2092.98 Q 451.596 2092.98, 452.284 2092.35 Q 452.988 2091.73, 452.988 2090.59 Q 452.988 2089.39, 452.284 2088.83 Q 451.596 2088.26, 450.492 2088.26 Q 449.5 2088.26, 448.396 2088.69 L 447.516 2088.27 L 448.06 2082.82 L 453.884 2082.82 L 453.724 2084.1 L 449.372 2084.1 L 449.036 2087.46 Q 450.044 2087.06, 451.036 2087.06 \" fill=\"#000000\"/>\n<path d=\"M 460.812 2084.1 L 454.876 2084.1 L 454.876 2082.82 L 462.396 2082.82 L 462.396 2083.95 L 457.82 2094.14 L 456.284 2094.14 L 460.812 2084.1 \" fill=\"#000000\"/>\n</svg>"
          },
          "metadata": {},
          "execution_count": 61
        }
      ],
      "source": [
        "most_important_bits = feat_importances.nlargest(20).index.values\n",
        "print(\"Die 20 wichtigsten bits:\", most_important_bits)\n",
        "mol_ll = []\n",
        "bi_ll = []\n",
        "\n",
        "\n",
        "for i in range(20):\n",
        "    bit = most_important_bits[i]\n",
        "    for x in data.smiles:\n",
        "        bi ={}\n",
        "        mol = Chem.MolFromSmiles(x)\n",
        "        fp = Chem.rdMolDescriptors.GetMorganFingerprintAsBitVect(mol, radius=2, bitInfo=bi)\n",
        "        if np.sum(np.array(list(bi))==bit)>0:\n",
        "            mol_ll.append(mol)\n",
        "            bi_ll.append(bi)\n",
        "            break\n",
        "        \n",
        "prints=[(mol_ll[i],most_important_bits[i], bi_ll[i]) for i in range(20)]\n",
        "\n",
        "Draw.DrawMorganBits(prints, useSVG=True, molsPerRow=3, legends= [str(most_important_bits[i]) for i in range(20)], subImgSize= [300,300])"
      ]
    },
    {
      "cell_type": "markdown",
      "metadata": {
        "id": "JOP9C9ndc_F-"
      },
      "source": [
        "Das wichtigste Bit ist für unsere Daten eine phenolische Hydroxygruppe (aromatische Atome sind gelb hervorgehoben, das zentrale Atom ist blau). Auch sonst sind viele aromatische Fragmente in den wichtigsten Bits vertreten."
      ]
    }
  ],
  "metadata": {
    "kernelspec": {
      "display_name": "Python 3",
      "language": "python",
      "name": "python3"
    },
    "language_info": {
      "codemirror_mode": {
        "name": "ipython",
        "version": 3
      },
      "file_extension": ".py",
      "mimetype": "text/x-python",
      "name": "python",
      "nbconvert_exporter": "python",
      "pygments_lexer": "ipython3",
      "version": "3.8.3"
    },
    "colab": {
      "name": "SMKI_prediction_tests.ipynb",
      "provenance": [],
      "collapsed_sections": [],
      "include_colab_link": true
    },
    "gpuClass": "standard"
  },
  "nbformat": 4,
  "nbformat_minor": 0
}